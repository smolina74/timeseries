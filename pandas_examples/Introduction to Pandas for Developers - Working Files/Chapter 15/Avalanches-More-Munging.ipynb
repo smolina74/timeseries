{
 "cells": [
  {
   "cell_type": "code",
   "execution_count": 1,
   "metadata": {
    "collapsed": true
   },
   "outputs": [],
   "source": [
    "from bs4 import BeautifulSoup\n",
    "import pandas as pd\n",
    "import requests as r"
   ]
  },
  {
   "cell_type": "markdown",
   "metadata": {},
   "source": [
    "## Munging Data"
   ]
  },
  {
   "cell_type": "code",
   "execution_count": 15,
   "metadata": {
    "collapsed": true
   },
   "outputs": [],
   "source": [
    "df = pd.read_csv('ava-raw.csv')"
   ]
  },
  {
   "cell_type": "code",
   "execution_count": 16,
   "metadata": {
    "collapsed": false
   },
   "outputs": [
    {
     "data": {
      "text/plain": [
       "Unnamed: 0                           int64\n",
       "Accident and Rescue Summary:        object\n",
       "Aspect:                             object\n",
       "Avalanche Problem:                  object\n",
       "Avalanche Type:                     object\n",
       "Buried - Fully:                    float64\n",
       "Buried - Partly:                   float64\n",
       "Carried:                           float64\n",
       "Caught:                            float64\n",
       "Comments:                           object\n",
       "Coordinates:                        object\n",
       "Depth:                              object\n",
       "Elevation:                          object\n",
       "Injured:                           float64\n",
       "Killed:                              int64\n",
       "Location Name or Route:             object\n",
       "Observation Date:                   object\n",
       "Observer Name:                      object\n",
       "Occurence Time:                     object\n",
       "Occurrence Date:                    object\n",
       "Region:                             object\n",
       "Slope Angle:                       float64\n",
       "Snow Profile Comments:              object\n",
       "Terrain Summary:                    object\n",
       "Trigger:                            object\n",
       "Trigger: additional info:           object\n",
       "Vertical:                           object\n",
       "Video:                             float64\n",
       "Weak Layer:                         object\n",
       "Weather Conditions and History:     object\n",
       "Width:                              object\n",
       "coordinates                         object\n",
       "killed                               int64\n",
       "occurrence-date                     object\n",
       "region-forecaster                   object\n",
       "region-forecaster-1                 object\n",
       "trigger                             object\n",
       "url                                 object\n",
       "dtype: object"
      ]
     },
     "execution_count": 16,
     "metadata": {},
     "output_type": "execute_result"
    }
   ],
   "source": [
    "df.dtypes"
   ]
  },
  {
   "cell_type": "code",
   "execution_count": 17,
   "metadata": {
    "collapsed": false
   },
   "outputs": [
    {
     "data": {
      "text/html": [
       "<div>\n",
       "<table border=\"1\" class=\"dataframe\">\n",
       "  <thead>\n",
       "    <tr style=\"text-align: right;\">\n",
       "      <th></th>\n",
       "      <th>Unnamed: 0</th>\n",
       "      <th>Buried - Fully:</th>\n",
       "      <th>Buried - Partly:</th>\n",
       "      <th>Carried:</th>\n",
       "      <th>Caught:</th>\n",
       "      <th>Injured:</th>\n",
       "      <th>Killed:</th>\n",
       "      <th>Slope Angle:</th>\n",
       "      <th>Video:</th>\n",
       "      <th>killed</th>\n",
       "    </tr>\n",
       "  </thead>\n",
       "  <tbody>\n",
       "    <tr>\n",
       "      <th>count</th>\n",
       "      <td>96.000000</td>\n",
       "      <td>67.000000</td>\n",
       "      <td>24.000000</td>\n",
       "      <td>75.000000</td>\n",
       "      <td>76.000000</td>\n",
       "      <td>6.000000</td>\n",
       "      <td>96.000000</td>\n",
       "      <td>42.000000</td>\n",
       "      <td>0</td>\n",
       "      <td>96.000000</td>\n",
       "    </tr>\n",
       "    <tr>\n",
       "      <th>mean</th>\n",
       "      <td>47.500000</td>\n",
       "      <td>1.179104</td>\n",
       "      <td>1.208333</td>\n",
       "      <td>1.653333</td>\n",
       "      <td>1.697368</td>\n",
       "      <td>1.166667</td>\n",
       "      <td>1.187500</td>\n",
       "      <td>37.857143</td>\n",
       "      <td>NaN</td>\n",
       "      <td>1.187500</td>\n",
       "    </tr>\n",
       "    <tr>\n",
       "      <th>std</th>\n",
       "      <td>27.856777</td>\n",
       "      <td>0.423741</td>\n",
       "      <td>0.508977</td>\n",
       "      <td>1.156572</td>\n",
       "      <td>1.189058</td>\n",
       "      <td>0.408248</td>\n",
       "      <td>0.509127</td>\n",
       "      <td>5.616055</td>\n",
       "      <td>NaN</td>\n",
       "      <td>0.509127</td>\n",
       "    </tr>\n",
       "    <tr>\n",
       "      <th>min</th>\n",
       "      <td>0.000000</td>\n",
       "      <td>1.000000</td>\n",
       "      <td>1.000000</td>\n",
       "      <td>1.000000</td>\n",
       "      <td>1.000000</td>\n",
       "      <td>1.000000</td>\n",
       "      <td>1.000000</td>\n",
       "      <td>10.000000</td>\n",
       "      <td>NaN</td>\n",
       "      <td>1.000000</td>\n",
       "    </tr>\n",
       "    <tr>\n",
       "      <th>25%</th>\n",
       "      <td>23.750000</td>\n",
       "      <td>1.000000</td>\n",
       "      <td>1.000000</td>\n",
       "      <td>1.000000</td>\n",
       "      <td>1.000000</td>\n",
       "      <td>1.000000</td>\n",
       "      <td>1.000000</td>\n",
       "      <td>36.000000</td>\n",
       "      <td>NaN</td>\n",
       "      <td>1.000000</td>\n",
       "    </tr>\n",
       "    <tr>\n",
       "      <th>50%</th>\n",
       "      <td>47.500000</td>\n",
       "      <td>1.000000</td>\n",
       "      <td>1.000000</td>\n",
       "      <td>1.000000</td>\n",
       "      <td>1.000000</td>\n",
       "      <td>1.000000</td>\n",
       "      <td>1.000000</td>\n",
       "      <td>38.000000</td>\n",
       "      <td>NaN</td>\n",
       "      <td>1.000000</td>\n",
       "    </tr>\n",
       "    <tr>\n",
       "      <th>75%</th>\n",
       "      <td>71.250000</td>\n",
       "      <td>1.000000</td>\n",
       "      <td>1.000000</td>\n",
       "      <td>2.000000</td>\n",
       "      <td>2.000000</td>\n",
       "      <td>1.000000</td>\n",
       "      <td>1.000000</td>\n",
       "      <td>40.000000</td>\n",
       "      <td>NaN</td>\n",
       "      <td>1.000000</td>\n",
       "    </tr>\n",
       "    <tr>\n",
       "      <th>max</th>\n",
       "      <td>95.000000</td>\n",
       "      <td>3.000000</td>\n",
       "      <td>3.000000</td>\n",
       "      <td>7.000000</td>\n",
       "      <td>7.000000</td>\n",
       "      <td>2.000000</td>\n",
       "      <td>4.000000</td>\n",
       "      <td>50.000000</td>\n",
       "      <td>NaN</td>\n",
       "      <td>4.000000</td>\n",
       "    </tr>\n",
       "  </tbody>\n",
       "</table>\n",
       "</div>"
      ],
      "text/plain": [
       "       Unnamed: 0  Buried - Fully:  Buried - Partly:   Carried:    Caught:  \\\n",
       "count   96.000000        67.000000         24.000000  75.000000  76.000000   \n",
       "mean    47.500000         1.179104          1.208333   1.653333   1.697368   \n",
       "std     27.856777         0.423741          0.508977   1.156572   1.189058   \n",
       "min      0.000000         1.000000          1.000000   1.000000   1.000000   \n",
       "25%     23.750000         1.000000          1.000000   1.000000   1.000000   \n",
       "50%     47.500000         1.000000          1.000000   1.000000   1.000000   \n",
       "75%     71.250000         1.000000          1.000000   2.000000   2.000000   \n",
       "max     95.000000         3.000000          3.000000   7.000000   7.000000   \n",
       "\n",
       "       Injured:    Killed:  Slope Angle:  Video:     killed  \n",
       "count  6.000000  96.000000     42.000000       0  96.000000  \n",
       "mean   1.166667   1.187500     37.857143     NaN   1.187500  \n",
       "std    0.408248   0.509127      5.616055     NaN   0.509127  \n",
       "min    1.000000   1.000000     10.000000     NaN   1.000000  \n",
       "25%    1.000000   1.000000     36.000000     NaN   1.000000  \n",
       "50%    1.000000   1.000000     38.000000     NaN   1.000000  \n",
       "75%    1.000000   1.000000     40.000000     NaN   1.000000  \n",
       "max    2.000000   4.000000     50.000000     NaN   4.000000  "
      ]
     },
     "execution_count": 17,
     "metadata": {},
     "output_type": "execute_result"
    }
   ],
   "source": [
    "df.describe()"
   ]
  },
  {
   "cell_type": "code",
   "execution_count": 18,
   "metadata": {
    "collapsed": false
   },
   "outputs": [
    {
     "data": {
      "text/plain": [
       "Index(['Unnamed: 0', 'Accident and Rescue Summary:', 'Aspect:',\n",
       "       'Avalanche Problem:', 'Avalanche Type:', 'Buried - Fully:',\n",
       "       'Buried - Partly:', 'Carried:', 'Caught:', 'Comments:', 'Coordinates:',\n",
       "       'Depth:', 'Elevation:', 'Injured:', 'Killed:',\n",
       "       'Location Name or Route:', 'Observation Date:', 'Observer Name:',\n",
       "       'Occurence Time:', 'Occurrence Date:', 'Region:', 'Slope Angle:',\n",
       "       'Snow Profile Comments:', 'Terrain Summary:', 'Trigger:',\n",
       "       'Trigger: additional info:', 'Vertical:', 'Video:', 'Weak Layer:',\n",
       "       'Weather Conditions and History:', 'Width:', 'coordinates', 'killed',\n",
       "       'occurrence-date', 'region-forecaster', 'region-forecaster-1',\n",
       "       'trigger', 'url'],\n",
       "      dtype='object')"
      ]
     },
     "execution_count": 18,
     "metadata": {},
     "output_type": "execute_result"
    }
   ],
   "source": [
    "df.columns"
   ]
  },
  {
   "cell_type": "code",
   "execution_count": 19,
   "metadata": {
    "collapsed": true
   },
   "outputs": [],
   "source": [
    "df = df.rename(columns={x:x.replace(':', '') for x in df.columns})"
   ]
  },
  {
   "cell_type": "code",
   "execution_count": 22,
   "metadata": {
    "collapsed": false
   },
   "outputs": [
    {
     "data": {
      "text/plain": [
       "Northeast    25\n",
       "North        14\n",
       "Northwest     9\n",
       "East          9\n",
       "West          3\n",
       "Southeast     3\n",
       "Southwest     1\n",
       "South         1\n",
       "Name: Aspect, dtype: int64"
      ]
     },
     "execution_count": 22,
     "metadata": {},
     "output_type": "execute_result"
    }
   ],
   "source": [
    "df.Aspect.value_counts()"
   ]
  },
  {
   "cell_type": "code",
   "execution_count": 23,
   "metadata": {
    "collapsed": false
   },
   "outputs": [
    {
     "data": {
      "text/plain": [
       "Persistent Slab    13\n",
       "Storm Slab          3\n",
       "Wind Slab           3\n",
       "Deep Slab           3\n",
       "Wet Slab            2\n",
       "Glide               1\n",
       "Name: Avalanche Problem, dtype: int64"
      ]
     },
     "execution_count": 23,
     "metadata": {},
     "output_type": "execute_result"
    }
   ],
   "source": [
    "df['Avalanche Problem'].value_counts()"
   ]
  },
  {
   "cell_type": "code",
   "execution_count": 24,
   "metadata": {
    "collapsed": false
   },
   "outputs": [
    {
     "data": {
      "text/plain": [
       "Hard Slab       27\n",
       "Soft Slab       24\n",
       "Cornice Fall     1\n",
       "Wet Slab         1\n",
       "Name: Avalanche Type, dtype: int64"
      ]
     },
     "execution_count": 24,
     "metadata": {},
     "output_type": "execute_result"
    }
   ],
   "source": [
    "df['Avalanche Type'].value_counts()"
   ]
  },
  {
   "cell_type": "code",
   "execution_count": 25,
   "metadata": {
    "collapsed": false
   },
   "outputs": [
    {
     "data": {
      "text/plain": [
       "0     2.5'\n",
       "1       4'\n",
       "2       4'\n",
       "3      18\"\n",
       "4       8\"\n",
       "5       2'\n",
       "6       3'\n",
       "7       2'\n",
       "8      16\"\n",
       "9       3'\n",
       "10    2.5'\n",
       "11     16\"\n",
       "12     NaN\n",
       "13    3.5'\n",
       "14      8'\n",
       "15    3.5'\n",
       "16      3'\n",
       "17      2'\n",
       "18      4'\n",
       "19    4.5'\n",
       "20     12\"\n",
       "21    4.5'\n",
       "22    3.5'\n",
       "23    3.5'\n",
       "24     20\"\n",
       "25    2.5'\n",
       "26      3'\n",
       "27      3'\n",
       "28     15\"\n",
       "29     12\"\n",
       "      ... \n",
       "66     NaN\n",
       "67     NaN\n",
       "68     NaN\n",
       "69     NaN\n",
       "70     NaN\n",
       "71     NaN\n",
       "72      3'\n",
       "73     NaN\n",
       "74      5'\n",
       "75      4'\n",
       "76      2'\n",
       "77    3.5'\n",
       "78      2'\n",
       "79      2'\n",
       "80      2'\n",
       "81      2'\n",
       "82     18\"\n",
       "83    3.5'\n",
       "84    2.5'\n",
       "85      2'\n",
       "86      3'\n",
       "87      4'\n",
       "88      2'\n",
       "89      3'\n",
       "90      3'\n",
       "91     NaN\n",
       "92      4\"\n",
       "93     NaN\n",
       "94      3'\n",
       "95     NaN\n",
       "Name: Depth, dtype: object"
      ]
     },
     "execution_count": 25,
     "metadata": {},
     "output_type": "execute_result"
    }
   ],
   "source": [
    "df.Depth"
   ]
  },
  {
   "cell_type": "code",
   "execution_count": 27,
   "metadata": {
    "collapsed": false
   },
   "outputs": [
    {
     "data": {
      "text/plain": [
       "(18.0, 30.0)"
      ]
     },
     "execution_count": 27,
     "metadata": {},
     "output_type": "execute_result"
    }
   ],
   "source": [
    "import re\n",
    "\n",
    "def to_inches(orig):\n",
    "    reg = r\"\"\"(((\\d*\\.)?\\d*)')?(((\\d*\\.)?\\d*)\")?\"\"\"\n",
    "    txt = str(orig)\n",
    "    if txt == 'nan':\n",
    "        return orig\n",
    "    mo = re.search(reg, txt)\n",
    "    feet = mo.group(2) or 0\n",
    "    inches = mo.group(5) or 0\n",
    "    return float(feet)*12 + float(inches)\n",
    "\n",
    "to_inches('18\"'), to_inches(\"2.5'\")"
   ]
  },
  {
   "cell_type": "code",
   "execution_count": 28,
   "metadata": {
    "collapsed": true
   },
   "outputs": [],
   "source": [
    "df['depth_inches'] = df.Depth.apply(to_inches)"
   ]
  },
  {
   "cell_type": "code",
   "execution_count": 29,
   "metadata": {
    "collapsed": false
   },
   "outputs": [
    {
     "data": {
      "text/plain": [
       "0     30\n",
       "1     48\n",
       "2     48\n",
       "3     18\n",
       "4      8\n",
       "5     24\n",
       "6     36\n",
       "7     24\n",
       "8     16\n",
       "9     36\n",
       "10    30\n",
       "11    16\n",
       "12   NaN\n",
       "13    42\n",
       "14    96\n",
       "15    42\n",
       "16    36\n",
       "17    24\n",
       "18    48\n",
       "19    54\n",
       "20    12\n",
       "21    54\n",
       "22    42\n",
       "23    42\n",
       "24    20\n",
       "25    30\n",
       "26    36\n",
       "27    36\n",
       "28    15\n",
       "29    12\n",
       "      ..\n",
       "66   NaN\n",
       "67   NaN\n",
       "68   NaN\n",
       "69   NaN\n",
       "70   NaN\n",
       "71   NaN\n",
       "72    36\n",
       "73   NaN\n",
       "74    60\n",
       "75    48\n",
       "76    24\n",
       "77    42\n",
       "78    24\n",
       "79    24\n",
       "80    24\n",
       "81    24\n",
       "82    18\n",
       "83    42\n",
       "84    30\n",
       "85    24\n",
       "86    36\n",
       "87    48\n",
       "88    24\n",
       "89    36\n",
       "90    36\n",
       "91   NaN\n",
       "92     4\n",
       "93   NaN\n",
       "94    36\n",
       "95   NaN\n",
       "Name: depth_inches, dtype: float64"
      ]
     },
     "execution_count": 29,
     "metadata": {},
     "output_type": "execute_result"
    }
   ],
   "source": [
    "df.depth_inches"
   ]
  },
  {
   "cell_type": "code",
   "execution_count": 30,
   "metadata": {
    "collapsed": false
   },
   "outputs": [
    {
     "data": {
      "text/plain": [
       "count    61.000000\n",
       "mean     32.475410\n",
       "std      17.625367\n",
       "min       0.000000\n",
       "25%      24.000000\n",
       "50%      30.000000\n",
       "75%      42.000000\n",
       "max      96.000000\n",
       "Name: depth_inches, dtype: float64"
      ]
     },
     "execution_count": 30,
     "metadata": {},
     "output_type": "execute_result"
    }
   ],
   "source": [
    "df.depth_inches.describe()"
   ]
  },
  {
   "cell_type": "markdown",
   "metadata": {},
   "source": [
    "## More munging"
   ]
  },
  {
   "cell_type": "code",
   "execution_count": 31,
   "metadata": {
    "collapsed": false
   },
   "outputs": [
    {
     "data": {
      "text/plain": [
       "0         Wednesday, March 4, 2015\n",
       "1            Friday, March 7, 2014\n",
       "2         Sunday, February 9, 2014\n",
       "3       Saturday, February 8, 2014\n",
       "4         Thursday, April 11, 2013\n",
       "5            Friday, March 1, 2013\n",
       "6         Friday, January 18, 2013\n",
       "7          Saturday, March 3, 2012\n",
       "8      Thursday, February 23, 2012\n",
       "9         Sunday, February 5, 2012\n",
       "10      Saturday, January 28, 2012\n",
       "11       Sunday, November 13, 2011\n",
       "12        Saturday, March 26, 2011\n",
       "13       Friday, November 26, 2010\n",
       "14           Sunday, April 4, 2010\n",
       "15        Friday, January 29, 2010\n",
       "16     Wednesday, January 27, 2010\n",
       "17        Sunday, January 24, 2010\n",
       "18      Tuesday, December 30, 2008\n",
       "19    Wednesday, December 24, 2008\n",
       "20       Sunday, December 14, 2008\n",
       "21       Monday, December 31, 2007\n",
       "22      Tuesday, December 25, 2007\n",
       "23       Sunday, December 23, 2007\n",
       "24    Wednesday, February 21, 2007\n",
       "25       Sunday, February 18, 2007\n",
       "26     Saturday, February 17, 2007\n",
       "27     Saturday, February 17, 2007\n",
       "28           Monday, April 3, 2006\n",
       "29        Saturday, March 11, 2006\n",
       "                  ...             \n",
       "66         Saturday, April 3, 1993\n",
       "67     Thursday, February 25, 1993\n",
       "68      Saturday, January 16, 1993\n",
       "69        Wednesday, April 1, 1992\n",
       "70    Wednesday, February 12, 1992\n",
       "71     Saturday, November 25, 1989\n",
       "72       Sunday, February 15, 1987\n",
       "73     Thursday, November 20, 1986\n",
       "74    Wednesday, February 19, 1986\n",
       "75       Monday, February 17, 1986\n",
       "76         Monday, January 6, 1986\n",
       "77    Wednesday, November 13, 1985\n",
       "78         Tuesday, March 19, 1985\n",
       "79       Friday, February 22, 1985\n",
       "80         Monday, January 2, 1984\n",
       "81          Monday, March 22, 1982\n",
       "82           Sunday, March 1, 1981\n",
       "83        Sunday, February 1, 1981\n",
       "84        Friday, January 11, 1980\n",
       "85           Monday, April 2, 1979\n",
       "86        Friday, January 19, 1979\n",
       "87         Thursday, March 3, 1977\n",
       "88        Tuesday, January 6, 1976\n",
       "89     Saturday, December 29, 1973\n",
       "90       Tuesday, January 20, 1970\n",
       "91       Monday, February 19, 1968\n",
       "92       Sunday, February 12, 1967\n",
       "93       Friday, December 31, 1965\n",
       "94          Sunday, March 29, 1964\n",
       "95           Sunday, March 9, 1958\n",
       "Name: Occurrence Date, dtype: object"
      ]
     },
     "execution_count": 31,
     "metadata": {},
     "output_type": "execute_result"
    }
   ],
   "source": [
    "df['Occurrence Date']"
   ]
  },
  {
   "cell_type": "code",
   "execution_count": 32,
   "metadata": {
    "collapsed": false
   },
   "outputs": [
    {
     "data": {
      "text/plain": [
       "0    2015-03-04\n",
       "1    2014-03-07\n",
       "2    2014-02-09\n",
       "3    2014-02-08\n",
       "4    2013-04-11\n",
       "5    2013-03-01\n",
       "6    2013-01-18\n",
       "7    2012-03-03\n",
       "8    2012-02-23\n",
       "9    2012-02-05\n",
       "10   2012-01-28\n",
       "11   2011-11-13\n",
       "12   2011-03-26\n",
       "13   2010-11-26\n",
       "14   2010-04-04\n",
       "15   2010-01-29\n",
       "16   2010-01-27\n",
       "17   2010-01-24\n",
       "18   2008-12-30\n",
       "19   2008-12-24\n",
       "20   2008-12-14\n",
       "21   2007-12-31\n",
       "22   2007-12-25\n",
       "23   2007-12-23\n",
       "24   2007-02-21\n",
       "25   2007-02-18\n",
       "26   2007-02-17\n",
       "27   2007-02-17\n",
       "28   2006-04-03\n",
       "29   2006-03-11\n",
       "        ...    \n",
       "66   1993-04-03\n",
       "67   1993-02-25\n",
       "68   1993-01-16\n",
       "69   1992-04-01\n",
       "70   1992-02-12\n",
       "71   1989-11-25\n",
       "72   1987-02-15\n",
       "73   1986-11-20\n",
       "74   1986-02-19\n",
       "75   1986-02-17\n",
       "76   1986-01-06\n",
       "77   1985-11-13\n",
       "78   1985-03-19\n",
       "79   1985-02-22\n",
       "80   1984-01-02\n",
       "81   1982-03-22\n",
       "82   1981-03-01\n",
       "83   1981-02-01\n",
       "84   1980-01-11\n",
       "85   1979-04-02\n",
       "86   1979-01-19\n",
       "87   1977-03-03\n",
       "88   1976-01-06\n",
       "89   1973-12-29\n",
       "90   1970-01-20\n",
       "91   1968-02-19\n",
       "92   1967-02-12\n",
       "93   1965-12-31\n",
       "94   1964-03-29\n",
       "95   1958-03-09\n",
       "Name: Occurrence Date, dtype: datetime64[ns]"
      ]
     },
     "execution_count": 32,
     "metadata": {},
     "output_type": "execute_result"
    }
   ],
   "source": [
    "pd.to_datetime(df['Occurrence Date'])"
   ]
  },
  {
   "cell_type": "code",
   "execution_count": 33,
   "metadata": {
    "collapsed": false
   },
   "outputs": [],
   "source": [
    "df['year'] = pd.to_datetime(df['Occurrence Date']).dt.year"
   ]
  },
  {
   "cell_type": "code",
   "execution_count": 34,
   "metadata": {
    "collapsed": true
   },
   "outputs": [],
   "source": [
    "df['dow'] = df['Occurrence Date'].apply(lambda x: x.split(',')[0])"
   ]
  },
  {
   "cell_type": "code",
   "execution_count": 35,
   "metadata": {
    "collapsed": false
   },
   "outputs": [
    {
     "data": {
      "text/plain": [
       "Saturday     29\n",
       "Friday       15\n",
       "Sunday       15\n",
       "Thursday     11\n",
       "Wednesday    10\n",
       "Monday       10\n",
       "Tuesday       6\n",
       "Name: dow, dtype: int64"
      ]
     },
     "execution_count": 35,
     "metadata": {},
     "output_type": "execute_result"
    }
   ],
   "source": [
    "df.dow.value_counts()"
   ]
  },
  {
   "cell_type": "code",
   "execution_count": 36,
   "metadata": {
    "collapsed": false
   },
   "outputs": [
    {
     "data": {
      "text/plain": [
       "0        1500\n",
       "1         200\n",
       "2         175\n",
       "3         125\n",
       "4        1500\n",
       "5         250\n",
       "6          50\n",
       "7        1000\n",
       "8         600\n",
       "9         350\n",
       "10       2500\n",
       "11        800\n",
       "12        900\n",
       "13    Unknown\n",
       "14       1000\n",
       "15       1000\n",
       "16        600\n",
       "17       1500\n",
       "18        500\n",
       "19        700\n",
       "20       1000\n",
       "21        450\n",
       "22        400\n",
       "23        600\n",
       "24        600\n",
       "25       1500\n",
       "26        250\n",
       "27        250\n",
       "28        500\n",
       "29       1000\n",
       "       ...   \n",
       "66        NaN\n",
       "67        NaN\n",
       "68        NaN\n",
       "69        NaN\n",
       "70        NaN\n",
       "71        NaN\n",
       "72        500\n",
       "73        NaN\n",
       "74       1000\n",
       "75        350\n",
       "76        700\n",
       "77        600\n",
       "78        NaN\n",
       "79        400\n",
       "80       1500\n",
       "81        500\n",
       "82        700\n",
       "83        100\n",
       "84        200\n",
       "85        600\n",
       "86        250\n",
       "87        500\n",
       "88        100\n",
       "89        300\n",
       "90        300\n",
       "91        NaN\n",
       "92       1500\n",
       "93        300\n",
       "94       1250\n",
       "95       1250\n",
       "Name: Vertical, dtype: object"
      ]
     },
     "execution_count": 36,
     "metadata": {},
     "output_type": "execute_result"
    }
   ],
   "source": [
    "df.Vertical"
   ]
  },
  {
   "cell_type": "code",
   "execution_count": 38,
   "metadata": {
    "collapsed": false
   },
   "outputs": [],
   "source": [
    "df['vert'] = df.Vertical.str.replace('Unknown', 'NaN').astype(float)\n",
    "df['vert'] = df.vert.fillna(df.vert.median())"
   ]
  },
  {
   "cell_type": "code",
   "execution_count": 39,
   "metadata": {
    "collapsed": false
   },
   "outputs": [
    {
     "data": {
      "text/plain": [
       "count      96.000000\n",
       "mean      650.520833\n",
       "std       372.738429\n",
       "min        50.000000\n",
       "25%       500.000000\n",
       "50%       600.000000\n",
       "75%       600.000000\n",
       "max      2500.000000\n",
       "Name: vert, dtype: float64"
      ]
     },
     "execution_count": 39,
     "metadata": {},
     "output_type": "execute_result"
    }
   ],
   "source": [
    "df.vert.describe()"
   ]
  },
  {
   "cell_type": "code",
   "execution_count": 40,
   "metadata": {
    "collapsed": false
   },
   "outputs": [
    {
     "data": {
      "text/plain": [
       "0     41.215552643517, -111.873779284110\n",
       "1     40.812120000000, -110.906296000000\n",
       "2     39.585986000000, -111.270003000000\n",
       "3     40.482366000000, -111.648088000000\n",
       "4     40.629000000000, -111.666412000000\n",
       "5     39.043600000000, -111.519000000000\n",
       "6                                    NaN\n",
       "7     38.539320000000, -109.209852000000\n",
       "8     40.653034000000, -111.592255000000\n",
       "9     38.716456000000, -111.721988000000\n",
       "10    40.624442000000, -111.669588000000\n",
       "11    40.568491000000, -111.652937000000\n",
       "12    39.372824000000, -111.422482000000\n",
       "13    40.847320000000, -111.015129000000\n",
       "14    41.050424000000, -111.844082000000\n",
       "15    40.856199868806, -111.754991041400\n",
       "16    40.617112000000, -111.623840000000\n",
       "17    41.215563000000, -111.873307000000\n",
       "18    40.871988000000, -110.974016000000\n",
       "19    41.711752000000, -111.717181000000\n",
       "20    40.569632000000, -111.641693000000\n",
       "21        0.000000000000, 0.000000000000\n",
       "22    40.834820000000, -111.008220000000\n",
       "23    40.660164000000, -111.596117000000\n",
       "24    40.666707000000, -111.683493000000\n",
       "25    41.211302000000, -111.878414000000\n",
       "26    40.393071000000, -111.140785000000\n",
       "27    38.628762622838, -112.023038851360\n",
       "28    40.581465000000, -111.584144000000\n",
       "29    41.204845000000, -111.888671000000\n",
       "                     ...                \n",
       "66    40.585286000000, -111.605041000000\n",
       "67                                   NaN\n",
       "68    40.372185694061, -111.585446285570\n",
       "69    40.551518000000, -111.649544000000\n",
       "70                                   NaN\n",
       "71                                   NaN\n",
       "72    40.591841000000, -111.604827000000\n",
       "73                                   NaN\n",
       "74    40.566950000000, -111.624353000000\n",
       "75    40.606262000000, -111.576839000000\n",
       "76    40.285983000000, -111.506379000000\n",
       "77    40.577629000000, -111.594312000000\n",
       "78    40.641857000000, -111.520412000000\n",
       "79    41.362519000000, -111.782882000000\n",
       "80    40.593007000000, -111.659243000000\n",
       "81    40.694668000000, -111.604312000000\n",
       "82    40.664995000000, -111.693146000000\n",
       "83    40.631609000000, -111.654308000000\n",
       "84    40.606529000000, -111.594484000000\n",
       "85    40.656105000000, -111.602252000000\n",
       "86    39.702192039624, -110.949728952290\n",
       "87    40.564342704045, -111.652085678840\n",
       "88    40.586506674316, -111.626428069460\n",
       "89                                   NaN\n",
       "90    40.572657369383, -111.651414858090\n",
       "91    40.226133346151, -111.614400373680\n",
       "92    40.708361000000, -111.759796000000\n",
       "93    40.631302096436, -111.516682134840\n",
       "94    41.204951129311, -111.900259481650\n",
       "95    41.205508551921, -111.875901000480\n",
       "Name: coordinates, dtype: object"
      ]
     },
     "execution_count": 40,
     "metadata": {},
     "output_type": "execute_result"
    }
   ],
   "source": [
    "df.coordinates"
   ]
  },
  {
   "cell_type": "code",
   "execution_count": 41,
   "metadata": {
    "collapsed": true
   },
   "outputs": [],
   "source": [
    "def lon(val):\n",
    "    if str(val) == 'nan':\n",
    "        return float('nan')\n",
    "    else:\n",
    "        return float(val.split(',')[-1])\n",
    "\n",
    "df['lon'] = df.coordinates.apply(lon)"
   ]
  },
  {
   "cell_type": "code",
   "execution_count": 42,
   "metadata": {
    "collapsed": false
   },
   "outputs": [
    {
     "data": {
      "text/plain": [
       "count     80.000000\n",
       "mean    -110.160447\n",
       "std       12.477245\n",
       "min     -112.023039\n",
       "25%     -111.683814\n",
       "50%     -111.614593\n",
       "75%     -111.520059\n",
       "max        0.000000\n",
       "Name: lon, dtype: float64"
      ]
     },
     "execution_count": 42,
     "metadata": {},
     "output_type": "execute_result"
    }
   ],
   "source": [
    "df.lon.describe()"
   ]
  },
  {
   "cell_type": "code",
   "execution_count": 44,
   "metadata": {
    "collapsed": true
   },
   "outputs": [],
   "source": [
    "df['lat'] = df.coordinates.apply(lambda x: float(x.split(',')[0]) if str(x) != 'nan' else float('nan'))"
   ]
  },
  {
   "cell_type": "code",
   "execution_count": 45,
   "metadata": {
    "collapsed": false
   },
   "outputs": [
    {
     "data": {
      "text/plain": [
       "count    80.000000\n",
       "mean     39.999187\n",
       "std       4.569978\n",
       "min       0.000000\n",
       "25%      40.400430\n",
       "50%      40.602058\n",
       "75%      40.675900\n",
       "max      41.711752\n",
       "Name: lat, dtype: float64"
      ]
     },
     "execution_count": 45,
     "metadata": {},
     "output_type": "execute_result"
    }
   ],
   "source": [
    "df.lat.describe()"
   ]
  },
  {
   "cell_type": "code",
   "execution_count": null,
   "metadata": {
    "collapsed": true
   },
   "outputs": [],
   "source": []
  },
  {
   "cell_type": "code",
   "execution_count": null,
   "metadata": {
    "collapsed": true
   },
   "outputs": [],
   "source": []
  }
 ],
 "metadata": {
  "kernelspec": {
   "display_name": "Python 3",
   "language": "python",
   "name": "python3"
  },
  "language_info": {
   "codemirror_mode": {
    "name": "ipython",
    "version": 3
   },
   "file_extension": ".py",
   "mimetype": "text/x-python",
   "name": "python",
   "nbconvert_exporter": "python",
   "pygments_lexer": "ipython3",
   "version": "3.4.3"
  }
 },
 "nbformat": 4,
 "nbformat_minor": 0
}
