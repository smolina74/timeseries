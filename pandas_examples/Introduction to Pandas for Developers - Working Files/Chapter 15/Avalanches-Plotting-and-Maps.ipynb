{
 "cells": [
  {
   "cell_type": "code",
   "execution_count": 1,
   "metadata": {
    "collapsed": true
   },
   "outputs": [],
   "source": [
    "from bs4 import BeautifulSoup\n",
    "import pandas as pd\n",
    "import requests as r"
   ]
  },
  {
   "cell_type": "markdown",
   "metadata": {},
   "source": [
    "## Munging Data"
   ]
  },
  {
   "cell_type": "code",
   "execution_count": 15,
   "metadata": {
    "collapsed": true
   },
   "outputs": [],
   "source": [
    "df = pd.read_csv('ava-raw.csv')"
   ]
  },
  {
   "cell_type": "code",
   "execution_count": 16,
   "metadata": {
    "collapsed": false
   },
   "outputs": [
    {
     "data": {
      "text/plain": [
       "Unnamed: 0                           int64\n",
       "Accident and Rescue Summary:        object\n",
       "Aspect:                             object\n",
       "Avalanche Problem:                  object\n",
       "Avalanche Type:                     object\n",
       "Buried - Fully:                    float64\n",
       "Buried - Partly:                   float64\n",
       "Carried:                           float64\n",
       "Caught:                            float64\n",
       "Comments:                           object\n",
       "Coordinates:                        object\n",
       "Depth:                              object\n",
       "Elevation:                          object\n",
       "Injured:                           float64\n",
       "Killed:                              int64\n",
       "Location Name or Route:             object\n",
       "Observation Date:                   object\n",
       "Observer Name:                      object\n",
       "Occurence Time:                     object\n",
       "Occurrence Date:                    object\n",
       "Region:                             object\n",
       "Slope Angle:                       float64\n",
       "Snow Profile Comments:              object\n",
       "Terrain Summary:                    object\n",
       "Trigger:                            object\n",
       "Trigger: additional info:           object\n",
       "Vertical:                           object\n",
       "Video:                             float64\n",
       "Weak Layer:                         object\n",
       "Weather Conditions and History:     object\n",
       "Width:                              object\n",
       "coordinates                         object\n",
       "killed                               int64\n",
       "occurrence-date                     object\n",
       "region-forecaster                   object\n",
       "region-forecaster-1                 object\n",
       "trigger                             object\n",
       "url                                 object\n",
       "dtype: object"
      ]
     },
     "execution_count": 16,
     "metadata": {},
     "output_type": "execute_result"
    }
   ],
   "source": [
    "df.dtypes"
   ]
  },
  {
   "cell_type": "code",
   "execution_count": 17,
   "metadata": {
    "collapsed": false
   },
   "outputs": [
    {
     "data": {
      "text/html": [
       "<div>\n",
       "<table border=\"1\" class=\"dataframe\">\n",
       "  <thead>\n",
       "    <tr style=\"text-align: right;\">\n",
       "      <th></th>\n",
       "      <th>Unnamed: 0</th>\n",
       "      <th>Buried - Fully:</th>\n",
       "      <th>Buried - Partly:</th>\n",
       "      <th>Carried:</th>\n",
       "      <th>Caught:</th>\n",
       "      <th>Injured:</th>\n",
       "      <th>Killed:</th>\n",
       "      <th>Slope Angle:</th>\n",
       "      <th>Video:</th>\n",
       "      <th>killed</th>\n",
       "    </tr>\n",
       "  </thead>\n",
       "  <tbody>\n",
       "    <tr>\n",
       "      <th>count</th>\n",
       "      <td>96.000000</td>\n",
       "      <td>67.000000</td>\n",
       "      <td>24.000000</td>\n",
       "      <td>75.000000</td>\n",
       "      <td>76.000000</td>\n",
       "      <td>6.000000</td>\n",
       "      <td>96.000000</td>\n",
       "      <td>42.000000</td>\n",
       "      <td>0</td>\n",
       "      <td>96.000000</td>\n",
       "    </tr>\n",
       "    <tr>\n",
       "      <th>mean</th>\n",
       "      <td>47.500000</td>\n",
       "      <td>1.179104</td>\n",
       "      <td>1.208333</td>\n",
       "      <td>1.653333</td>\n",
       "      <td>1.697368</td>\n",
       "      <td>1.166667</td>\n",
       "      <td>1.187500</td>\n",
       "      <td>37.857143</td>\n",
       "      <td>NaN</td>\n",
       "      <td>1.187500</td>\n",
       "    </tr>\n",
       "    <tr>\n",
       "      <th>std</th>\n",
       "      <td>27.856777</td>\n",
       "      <td>0.423741</td>\n",
       "      <td>0.508977</td>\n",
       "      <td>1.156572</td>\n",
       "      <td>1.189058</td>\n",
       "      <td>0.408248</td>\n",
       "      <td>0.509127</td>\n",
       "      <td>5.616055</td>\n",
       "      <td>NaN</td>\n",
       "      <td>0.509127</td>\n",
       "    </tr>\n",
       "    <tr>\n",
       "      <th>min</th>\n",
       "      <td>0.000000</td>\n",
       "      <td>1.000000</td>\n",
       "      <td>1.000000</td>\n",
       "      <td>1.000000</td>\n",
       "      <td>1.000000</td>\n",
       "      <td>1.000000</td>\n",
       "      <td>1.000000</td>\n",
       "      <td>10.000000</td>\n",
       "      <td>NaN</td>\n",
       "      <td>1.000000</td>\n",
       "    </tr>\n",
       "    <tr>\n",
       "      <th>25%</th>\n",
       "      <td>23.750000</td>\n",
       "      <td>1.000000</td>\n",
       "      <td>1.000000</td>\n",
       "      <td>1.000000</td>\n",
       "      <td>1.000000</td>\n",
       "      <td>1.000000</td>\n",
       "      <td>1.000000</td>\n",
       "      <td>36.000000</td>\n",
       "      <td>NaN</td>\n",
       "      <td>1.000000</td>\n",
       "    </tr>\n",
       "    <tr>\n",
       "      <th>50%</th>\n",
       "      <td>47.500000</td>\n",
       "      <td>1.000000</td>\n",
       "      <td>1.000000</td>\n",
       "      <td>1.000000</td>\n",
       "      <td>1.000000</td>\n",
       "      <td>1.000000</td>\n",
       "      <td>1.000000</td>\n",
       "      <td>38.000000</td>\n",
       "      <td>NaN</td>\n",
       "      <td>1.000000</td>\n",
       "    </tr>\n",
       "    <tr>\n",
       "      <th>75%</th>\n",
       "      <td>71.250000</td>\n",
       "      <td>1.000000</td>\n",
       "      <td>1.000000</td>\n",
       "      <td>2.000000</td>\n",
       "      <td>2.000000</td>\n",
       "      <td>1.000000</td>\n",
       "      <td>1.000000</td>\n",
       "      <td>40.000000</td>\n",
       "      <td>NaN</td>\n",
       "      <td>1.000000</td>\n",
       "    </tr>\n",
       "    <tr>\n",
       "      <th>max</th>\n",
       "      <td>95.000000</td>\n",
       "      <td>3.000000</td>\n",
       "      <td>3.000000</td>\n",
       "      <td>7.000000</td>\n",
       "      <td>7.000000</td>\n",
       "      <td>2.000000</td>\n",
       "      <td>4.000000</td>\n",
       "      <td>50.000000</td>\n",
       "      <td>NaN</td>\n",
       "      <td>4.000000</td>\n",
       "    </tr>\n",
       "  </tbody>\n",
       "</table>\n",
       "</div>"
      ],
      "text/plain": [
       "       Unnamed: 0  Buried - Fully:  Buried - Partly:   Carried:    Caught:  \\\n",
       "count   96.000000        67.000000         24.000000  75.000000  76.000000   \n",
       "mean    47.500000         1.179104          1.208333   1.653333   1.697368   \n",
       "std     27.856777         0.423741          0.508977   1.156572   1.189058   \n",
       "min      0.000000         1.000000          1.000000   1.000000   1.000000   \n",
       "25%     23.750000         1.000000          1.000000   1.000000   1.000000   \n",
       "50%     47.500000         1.000000          1.000000   1.000000   1.000000   \n",
       "75%     71.250000         1.000000          1.000000   2.000000   2.000000   \n",
       "max     95.000000         3.000000          3.000000   7.000000   7.000000   \n",
       "\n",
       "       Injured:    Killed:  Slope Angle:  Video:     killed  \n",
       "count  6.000000  96.000000     42.000000       0  96.000000  \n",
       "mean   1.166667   1.187500     37.857143     NaN   1.187500  \n",
       "std    0.408248   0.509127      5.616055     NaN   0.509127  \n",
       "min    1.000000   1.000000     10.000000     NaN   1.000000  \n",
       "25%    1.000000   1.000000     36.000000     NaN   1.000000  \n",
       "50%    1.000000   1.000000     38.000000     NaN   1.000000  \n",
       "75%    1.000000   1.000000     40.000000     NaN   1.000000  \n",
       "max    2.000000   4.000000     50.000000     NaN   4.000000  "
      ]
     },
     "execution_count": 17,
     "metadata": {},
     "output_type": "execute_result"
    }
   ],
   "source": [
    "df.describe()"
   ]
  },
  {
   "cell_type": "code",
   "execution_count": 18,
   "metadata": {
    "collapsed": false
   },
   "outputs": [
    {
     "data": {
      "text/plain": [
       "Index(['Unnamed: 0', 'Accident and Rescue Summary:', 'Aspect:',\n",
       "       'Avalanche Problem:', 'Avalanche Type:', 'Buried - Fully:',\n",
       "       'Buried - Partly:', 'Carried:', 'Caught:', 'Comments:', 'Coordinates:',\n",
       "       'Depth:', 'Elevation:', 'Injured:', 'Killed:',\n",
       "       'Location Name or Route:', 'Observation Date:', 'Observer Name:',\n",
       "       'Occurence Time:', 'Occurrence Date:', 'Region:', 'Slope Angle:',\n",
       "       'Snow Profile Comments:', 'Terrain Summary:', 'Trigger:',\n",
       "       'Trigger: additional info:', 'Vertical:', 'Video:', 'Weak Layer:',\n",
       "       'Weather Conditions and History:', 'Width:', 'coordinates', 'killed',\n",
       "       'occurrence-date', 'region-forecaster', 'region-forecaster-1',\n",
       "       'trigger', 'url'],\n",
       "      dtype='object')"
      ]
     },
     "execution_count": 18,
     "metadata": {},
     "output_type": "execute_result"
    }
   ],
   "source": [
    "df.columns"
   ]
  },
  {
   "cell_type": "code",
   "execution_count": 19,
   "metadata": {
    "collapsed": true
   },
   "outputs": [],
   "source": [
    "df = df.rename(columns={x:x.replace(':', '') for x in df.columns})"
   ]
  },
  {
   "cell_type": "code",
   "execution_count": 22,
   "metadata": {
    "collapsed": false
   },
   "outputs": [
    {
     "data": {
      "text/plain": [
       "Northeast    25\n",
       "North        14\n",
       "Northwest     9\n",
       "East          9\n",
       "West          3\n",
       "Southeast     3\n",
       "Southwest     1\n",
       "South         1\n",
       "Name: Aspect, dtype: int64"
      ]
     },
     "execution_count": 22,
     "metadata": {},
     "output_type": "execute_result"
    }
   ],
   "source": [
    "df.Aspect.value_counts()"
   ]
  },
  {
   "cell_type": "code",
   "execution_count": 23,
   "metadata": {
    "collapsed": false
   },
   "outputs": [
    {
     "data": {
      "text/plain": [
       "Persistent Slab    13\n",
       "Storm Slab          3\n",
       "Wind Slab           3\n",
       "Deep Slab           3\n",
       "Wet Slab            2\n",
       "Glide               1\n",
       "Name: Avalanche Problem, dtype: int64"
      ]
     },
     "execution_count": 23,
     "metadata": {},
     "output_type": "execute_result"
    }
   ],
   "source": [
    "df['Avalanche Problem'].value_counts()"
   ]
  },
  {
   "cell_type": "code",
   "execution_count": 24,
   "metadata": {
    "collapsed": false
   },
   "outputs": [
    {
     "data": {
      "text/plain": [
       "Hard Slab       27\n",
       "Soft Slab       24\n",
       "Cornice Fall     1\n",
       "Wet Slab         1\n",
       "Name: Avalanche Type, dtype: int64"
      ]
     },
     "execution_count": 24,
     "metadata": {},
     "output_type": "execute_result"
    }
   ],
   "source": [
    "df['Avalanche Type'].value_counts()"
   ]
  },
  {
   "cell_type": "code",
   "execution_count": 25,
   "metadata": {
    "collapsed": false
   },
   "outputs": [
    {
     "data": {
      "text/plain": [
       "0     2.5'\n",
       "1       4'\n",
       "2       4'\n",
       "3      18\"\n",
       "4       8\"\n",
       "5       2'\n",
       "6       3'\n",
       "7       2'\n",
       "8      16\"\n",
       "9       3'\n",
       "10    2.5'\n",
       "11     16\"\n",
       "12     NaN\n",
       "13    3.5'\n",
       "14      8'\n",
       "15    3.5'\n",
       "16      3'\n",
       "17      2'\n",
       "18      4'\n",
       "19    4.5'\n",
       "20     12\"\n",
       "21    4.5'\n",
       "22    3.5'\n",
       "23    3.5'\n",
       "24     20\"\n",
       "25    2.5'\n",
       "26      3'\n",
       "27      3'\n",
       "28     15\"\n",
       "29     12\"\n",
       "      ... \n",
       "66     NaN\n",
       "67     NaN\n",
       "68     NaN\n",
       "69     NaN\n",
       "70     NaN\n",
       "71     NaN\n",
       "72      3'\n",
       "73     NaN\n",
       "74      5'\n",
       "75      4'\n",
       "76      2'\n",
       "77    3.5'\n",
       "78      2'\n",
       "79      2'\n",
       "80      2'\n",
       "81      2'\n",
       "82     18\"\n",
       "83    3.5'\n",
       "84    2.5'\n",
       "85      2'\n",
       "86      3'\n",
       "87      4'\n",
       "88      2'\n",
       "89      3'\n",
       "90      3'\n",
       "91     NaN\n",
       "92      4\"\n",
       "93     NaN\n",
       "94      3'\n",
       "95     NaN\n",
       "Name: Depth, dtype: object"
      ]
     },
     "execution_count": 25,
     "metadata": {},
     "output_type": "execute_result"
    }
   ],
   "source": [
    "df.Depth"
   ]
  },
  {
   "cell_type": "code",
   "execution_count": 27,
   "metadata": {
    "collapsed": false
   },
   "outputs": [
    {
     "data": {
      "text/plain": [
       "(18.0, 30.0)"
      ]
     },
     "execution_count": 27,
     "metadata": {},
     "output_type": "execute_result"
    }
   ],
   "source": [
    "import re\n",
    "\n",
    "def to_inches(orig):\n",
    "    reg = r\"\"\"(((\\d*\\.)?\\d*)')?(((\\d*\\.)?\\d*)\")?\"\"\"\n",
    "    txt = str(orig)\n",
    "    if txt == 'nan':\n",
    "        return orig\n",
    "    mo = re.search(reg, txt)\n",
    "    feet = mo.group(2) or 0\n",
    "    inches = mo.group(5) or 0\n",
    "    return float(feet)*12 + float(inches)\n",
    "\n",
    "to_inches('18\"'), to_inches(\"2.5'\")"
   ]
  },
  {
   "cell_type": "code",
   "execution_count": 28,
   "metadata": {
    "collapsed": true
   },
   "outputs": [],
   "source": [
    "df['depth_inches'] = df.Depth.apply(to_inches)"
   ]
  },
  {
   "cell_type": "code",
   "execution_count": 29,
   "metadata": {
    "collapsed": false
   },
   "outputs": [
    {
     "data": {
      "text/plain": [
       "0     30\n",
       "1     48\n",
       "2     48\n",
       "3     18\n",
       "4      8\n",
       "5     24\n",
       "6     36\n",
       "7     24\n",
       "8     16\n",
       "9     36\n",
       "10    30\n",
       "11    16\n",
       "12   NaN\n",
       "13    42\n",
       "14    96\n",
       "15    42\n",
       "16    36\n",
       "17    24\n",
       "18    48\n",
       "19    54\n",
       "20    12\n",
       "21    54\n",
       "22    42\n",
       "23    42\n",
       "24    20\n",
       "25    30\n",
       "26    36\n",
       "27    36\n",
       "28    15\n",
       "29    12\n",
       "      ..\n",
       "66   NaN\n",
       "67   NaN\n",
       "68   NaN\n",
       "69   NaN\n",
       "70   NaN\n",
       "71   NaN\n",
       "72    36\n",
       "73   NaN\n",
       "74    60\n",
       "75    48\n",
       "76    24\n",
       "77    42\n",
       "78    24\n",
       "79    24\n",
       "80    24\n",
       "81    24\n",
       "82    18\n",
       "83    42\n",
       "84    30\n",
       "85    24\n",
       "86    36\n",
       "87    48\n",
       "88    24\n",
       "89    36\n",
       "90    36\n",
       "91   NaN\n",
       "92     4\n",
       "93   NaN\n",
       "94    36\n",
       "95   NaN\n",
       "Name: depth_inches, dtype: float64"
      ]
     },
     "execution_count": 29,
     "metadata": {},
     "output_type": "execute_result"
    }
   ],
   "source": [
    "df.depth_inches"
   ]
  },
  {
   "cell_type": "code",
   "execution_count": 30,
   "metadata": {
    "collapsed": false
   },
   "outputs": [
    {
     "data": {
      "text/plain": [
       "count    61.000000\n",
       "mean     32.475410\n",
       "std      17.625367\n",
       "min       0.000000\n",
       "25%      24.000000\n",
       "50%      30.000000\n",
       "75%      42.000000\n",
       "max      96.000000\n",
       "Name: depth_inches, dtype: float64"
      ]
     },
     "execution_count": 30,
     "metadata": {},
     "output_type": "execute_result"
    }
   ],
   "source": [
    "df.depth_inches.describe()"
   ]
  },
  {
   "cell_type": "markdown",
   "metadata": {},
   "source": [
    "## More munging"
   ]
  },
  {
   "cell_type": "code",
   "execution_count": 31,
   "metadata": {
    "collapsed": false
   },
   "outputs": [
    {
     "data": {
      "text/plain": [
       "0         Wednesday, March 4, 2015\n",
       "1            Friday, March 7, 2014\n",
       "2         Sunday, February 9, 2014\n",
       "3       Saturday, February 8, 2014\n",
       "4         Thursday, April 11, 2013\n",
       "5            Friday, March 1, 2013\n",
       "6         Friday, January 18, 2013\n",
       "7          Saturday, March 3, 2012\n",
       "8      Thursday, February 23, 2012\n",
       "9         Sunday, February 5, 2012\n",
       "10      Saturday, January 28, 2012\n",
       "11       Sunday, November 13, 2011\n",
       "12        Saturday, March 26, 2011\n",
       "13       Friday, November 26, 2010\n",
       "14           Sunday, April 4, 2010\n",
       "15        Friday, January 29, 2010\n",
       "16     Wednesday, January 27, 2010\n",
       "17        Sunday, January 24, 2010\n",
       "18      Tuesday, December 30, 2008\n",
       "19    Wednesday, December 24, 2008\n",
       "20       Sunday, December 14, 2008\n",
       "21       Monday, December 31, 2007\n",
       "22      Tuesday, December 25, 2007\n",
       "23       Sunday, December 23, 2007\n",
       "24    Wednesday, February 21, 2007\n",
       "25       Sunday, February 18, 2007\n",
       "26     Saturday, February 17, 2007\n",
       "27     Saturday, February 17, 2007\n",
       "28           Monday, April 3, 2006\n",
       "29        Saturday, March 11, 2006\n",
       "                  ...             \n",
       "66         Saturday, April 3, 1993\n",
       "67     Thursday, February 25, 1993\n",
       "68      Saturday, January 16, 1993\n",
       "69        Wednesday, April 1, 1992\n",
       "70    Wednesday, February 12, 1992\n",
       "71     Saturday, November 25, 1989\n",
       "72       Sunday, February 15, 1987\n",
       "73     Thursday, November 20, 1986\n",
       "74    Wednesday, February 19, 1986\n",
       "75       Monday, February 17, 1986\n",
       "76         Monday, January 6, 1986\n",
       "77    Wednesday, November 13, 1985\n",
       "78         Tuesday, March 19, 1985\n",
       "79       Friday, February 22, 1985\n",
       "80         Monday, January 2, 1984\n",
       "81          Monday, March 22, 1982\n",
       "82           Sunday, March 1, 1981\n",
       "83        Sunday, February 1, 1981\n",
       "84        Friday, January 11, 1980\n",
       "85           Monday, April 2, 1979\n",
       "86        Friday, January 19, 1979\n",
       "87         Thursday, March 3, 1977\n",
       "88        Tuesday, January 6, 1976\n",
       "89     Saturday, December 29, 1973\n",
       "90       Tuesday, January 20, 1970\n",
       "91       Monday, February 19, 1968\n",
       "92       Sunday, February 12, 1967\n",
       "93       Friday, December 31, 1965\n",
       "94          Sunday, March 29, 1964\n",
       "95           Sunday, March 9, 1958\n",
       "Name: Occurrence Date, dtype: object"
      ]
     },
     "execution_count": 31,
     "metadata": {},
     "output_type": "execute_result"
    }
   ],
   "source": [
    "df['Occurrence Date']"
   ]
  },
  {
   "cell_type": "code",
   "execution_count": 32,
   "metadata": {
    "collapsed": false
   },
   "outputs": [
    {
     "data": {
      "text/plain": [
       "0    2015-03-04\n",
       "1    2014-03-07\n",
       "2    2014-02-09\n",
       "3    2014-02-08\n",
       "4    2013-04-11\n",
       "5    2013-03-01\n",
       "6    2013-01-18\n",
       "7    2012-03-03\n",
       "8    2012-02-23\n",
       "9    2012-02-05\n",
       "10   2012-01-28\n",
       "11   2011-11-13\n",
       "12   2011-03-26\n",
       "13   2010-11-26\n",
       "14   2010-04-04\n",
       "15   2010-01-29\n",
       "16   2010-01-27\n",
       "17   2010-01-24\n",
       "18   2008-12-30\n",
       "19   2008-12-24\n",
       "20   2008-12-14\n",
       "21   2007-12-31\n",
       "22   2007-12-25\n",
       "23   2007-12-23\n",
       "24   2007-02-21\n",
       "25   2007-02-18\n",
       "26   2007-02-17\n",
       "27   2007-02-17\n",
       "28   2006-04-03\n",
       "29   2006-03-11\n",
       "        ...    \n",
       "66   1993-04-03\n",
       "67   1993-02-25\n",
       "68   1993-01-16\n",
       "69   1992-04-01\n",
       "70   1992-02-12\n",
       "71   1989-11-25\n",
       "72   1987-02-15\n",
       "73   1986-11-20\n",
       "74   1986-02-19\n",
       "75   1986-02-17\n",
       "76   1986-01-06\n",
       "77   1985-11-13\n",
       "78   1985-03-19\n",
       "79   1985-02-22\n",
       "80   1984-01-02\n",
       "81   1982-03-22\n",
       "82   1981-03-01\n",
       "83   1981-02-01\n",
       "84   1980-01-11\n",
       "85   1979-04-02\n",
       "86   1979-01-19\n",
       "87   1977-03-03\n",
       "88   1976-01-06\n",
       "89   1973-12-29\n",
       "90   1970-01-20\n",
       "91   1968-02-19\n",
       "92   1967-02-12\n",
       "93   1965-12-31\n",
       "94   1964-03-29\n",
       "95   1958-03-09\n",
       "Name: Occurrence Date, dtype: datetime64[ns]"
      ]
     },
     "execution_count": 32,
     "metadata": {},
     "output_type": "execute_result"
    }
   ],
   "source": [
    "pd.to_datetime(df['Occurrence Date'])"
   ]
  },
  {
   "cell_type": "code",
   "execution_count": 33,
   "metadata": {
    "collapsed": false
   },
   "outputs": [],
   "source": [
    "df['year'] = pd.to_datetime(df['Occurrence Date']).dt.year"
   ]
  },
  {
   "cell_type": "code",
   "execution_count": 34,
   "metadata": {
    "collapsed": true
   },
   "outputs": [],
   "source": [
    "df['dow'] = df['Occurrence Date'].apply(lambda x: x.split(',')[0])"
   ]
  },
  {
   "cell_type": "code",
   "execution_count": 35,
   "metadata": {
    "collapsed": false
   },
   "outputs": [
    {
     "data": {
      "text/plain": [
       "Saturday     29\n",
       "Friday       15\n",
       "Sunday       15\n",
       "Thursday     11\n",
       "Wednesday    10\n",
       "Monday       10\n",
       "Tuesday       6\n",
       "Name: dow, dtype: int64"
      ]
     },
     "execution_count": 35,
     "metadata": {},
     "output_type": "execute_result"
    }
   ],
   "source": [
    "df.dow.value_counts()"
   ]
  },
  {
   "cell_type": "code",
   "execution_count": 36,
   "metadata": {
    "collapsed": false
   },
   "outputs": [
    {
     "data": {
      "text/plain": [
       "0        1500\n",
       "1         200\n",
       "2         175\n",
       "3         125\n",
       "4        1500\n",
       "5         250\n",
       "6          50\n",
       "7        1000\n",
       "8         600\n",
       "9         350\n",
       "10       2500\n",
       "11        800\n",
       "12        900\n",
       "13    Unknown\n",
       "14       1000\n",
       "15       1000\n",
       "16        600\n",
       "17       1500\n",
       "18        500\n",
       "19        700\n",
       "20       1000\n",
       "21        450\n",
       "22        400\n",
       "23        600\n",
       "24        600\n",
       "25       1500\n",
       "26        250\n",
       "27        250\n",
       "28        500\n",
       "29       1000\n",
       "       ...   \n",
       "66        NaN\n",
       "67        NaN\n",
       "68        NaN\n",
       "69        NaN\n",
       "70        NaN\n",
       "71        NaN\n",
       "72        500\n",
       "73        NaN\n",
       "74       1000\n",
       "75        350\n",
       "76        700\n",
       "77        600\n",
       "78        NaN\n",
       "79        400\n",
       "80       1500\n",
       "81        500\n",
       "82        700\n",
       "83        100\n",
       "84        200\n",
       "85        600\n",
       "86        250\n",
       "87        500\n",
       "88        100\n",
       "89        300\n",
       "90        300\n",
       "91        NaN\n",
       "92       1500\n",
       "93        300\n",
       "94       1250\n",
       "95       1250\n",
       "Name: Vertical, dtype: object"
      ]
     },
     "execution_count": 36,
     "metadata": {},
     "output_type": "execute_result"
    }
   ],
   "source": [
    "df.Vertical"
   ]
  },
  {
   "cell_type": "code",
   "execution_count": 38,
   "metadata": {
    "collapsed": false
   },
   "outputs": [],
   "source": [
    "df['vert'] = df.Vertical.str.replace('Unknown', 'NaN').astype(float)\n",
    "df['vert'] = df.vert.fillna(df.vert.median())"
   ]
  },
  {
   "cell_type": "code",
   "execution_count": 39,
   "metadata": {
    "collapsed": false
   },
   "outputs": [
    {
     "data": {
      "text/plain": [
       "count      96.000000\n",
       "mean      650.520833\n",
       "std       372.738429\n",
       "min        50.000000\n",
       "25%       500.000000\n",
       "50%       600.000000\n",
       "75%       600.000000\n",
       "max      2500.000000\n",
       "Name: vert, dtype: float64"
      ]
     },
     "execution_count": 39,
     "metadata": {},
     "output_type": "execute_result"
    }
   ],
   "source": [
    "df.vert.describe()"
   ]
  },
  {
   "cell_type": "code",
   "execution_count": 40,
   "metadata": {
    "collapsed": false
   },
   "outputs": [
    {
     "data": {
      "text/plain": [
       "0     41.215552643517, -111.873779284110\n",
       "1     40.812120000000, -110.906296000000\n",
       "2     39.585986000000, -111.270003000000\n",
       "3     40.482366000000, -111.648088000000\n",
       "4     40.629000000000, -111.666412000000\n",
       "5     39.043600000000, -111.519000000000\n",
       "6                                    NaN\n",
       "7     38.539320000000, -109.209852000000\n",
       "8     40.653034000000, -111.592255000000\n",
       "9     38.716456000000, -111.721988000000\n",
       "10    40.624442000000, -111.669588000000\n",
       "11    40.568491000000, -111.652937000000\n",
       "12    39.372824000000, -111.422482000000\n",
       "13    40.847320000000, -111.015129000000\n",
       "14    41.050424000000, -111.844082000000\n",
       "15    40.856199868806, -111.754991041400\n",
       "16    40.617112000000, -111.623840000000\n",
       "17    41.215563000000, -111.873307000000\n",
       "18    40.871988000000, -110.974016000000\n",
       "19    41.711752000000, -111.717181000000\n",
       "20    40.569632000000, -111.641693000000\n",
       "21        0.000000000000, 0.000000000000\n",
       "22    40.834820000000, -111.008220000000\n",
       "23    40.660164000000, -111.596117000000\n",
       "24    40.666707000000, -111.683493000000\n",
       "25    41.211302000000, -111.878414000000\n",
       "26    40.393071000000, -111.140785000000\n",
       "27    38.628762622838, -112.023038851360\n",
       "28    40.581465000000, -111.584144000000\n",
       "29    41.204845000000, -111.888671000000\n",
       "                     ...                \n",
       "66    40.585286000000, -111.605041000000\n",
       "67                                   NaN\n",
       "68    40.372185694061, -111.585446285570\n",
       "69    40.551518000000, -111.649544000000\n",
       "70                                   NaN\n",
       "71                                   NaN\n",
       "72    40.591841000000, -111.604827000000\n",
       "73                                   NaN\n",
       "74    40.566950000000, -111.624353000000\n",
       "75    40.606262000000, -111.576839000000\n",
       "76    40.285983000000, -111.506379000000\n",
       "77    40.577629000000, -111.594312000000\n",
       "78    40.641857000000, -111.520412000000\n",
       "79    41.362519000000, -111.782882000000\n",
       "80    40.593007000000, -111.659243000000\n",
       "81    40.694668000000, -111.604312000000\n",
       "82    40.664995000000, -111.693146000000\n",
       "83    40.631609000000, -111.654308000000\n",
       "84    40.606529000000, -111.594484000000\n",
       "85    40.656105000000, -111.602252000000\n",
       "86    39.702192039624, -110.949728952290\n",
       "87    40.564342704045, -111.652085678840\n",
       "88    40.586506674316, -111.626428069460\n",
       "89                                   NaN\n",
       "90    40.572657369383, -111.651414858090\n",
       "91    40.226133346151, -111.614400373680\n",
       "92    40.708361000000, -111.759796000000\n",
       "93    40.631302096436, -111.516682134840\n",
       "94    41.204951129311, -111.900259481650\n",
       "95    41.205508551921, -111.875901000480\n",
       "Name: coordinates, dtype: object"
      ]
     },
     "execution_count": 40,
     "metadata": {},
     "output_type": "execute_result"
    }
   ],
   "source": [
    "df.coordinates"
   ]
  },
  {
   "cell_type": "code",
   "execution_count": 41,
   "metadata": {
    "collapsed": true
   },
   "outputs": [],
   "source": [
    "def lon(val):\n",
    "    if str(val) == 'nan':\n",
    "        return float('nan')\n",
    "    else:\n",
    "        return float(val.split(',')[-1])\n",
    "\n",
    "df['lon'] = df.coordinates.apply(lon)"
   ]
  },
  {
   "cell_type": "code",
   "execution_count": 42,
   "metadata": {
    "collapsed": false
   },
   "outputs": [
    {
     "data": {
      "text/plain": [
       "count     80.000000\n",
       "mean    -110.160447\n",
       "std       12.477245\n",
       "min     -112.023039\n",
       "25%     -111.683814\n",
       "50%     -111.614593\n",
       "75%     -111.520059\n",
       "max        0.000000\n",
       "Name: lon, dtype: float64"
      ]
     },
     "execution_count": 42,
     "metadata": {},
     "output_type": "execute_result"
    }
   ],
   "source": [
    "df.lon.describe()"
   ]
  },
  {
   "cell_type": "code",
   "execution_count": 44,
   "metadata": {
    "collapsed": true
   },
   "outputs": [],
   "source": [
    "df['lat'] = df.coordinates.apply(lambda x: float(x.split(',')[0]) if str(x) != 'nan' else float('nan'))"
   ]
  },
  {
   "cell_type": "code",
   "execution_count": 45,
   "metadata": {
    "collapsed": false
   },
   "outputs": [
    {
     "data": {
      "text/plain": [
       "count    80.000000\n",
       "mean     39.999187\n",
       "std       4.569978\n",
       "min       0.000000\n",
       "25%      40.400430\n",
       "50%      40.602058\n",
       "75%      40.675900\n",
       "max      41.711752\n",
       "Name: lat, dtype: float64"
      ]
     },
     "execution_count": 45,
     "metadata": {},
     "output_type": "execute_result"
    }
   ],
   "source": [
    "df.lat.describe()"
   ]
  },
  {
   "cell_type": "markdown",
   "metadata": {},
   "source": [
    "## Plotting Data"
   ]
  },
  {
   "cell_type": "code",
   "execution_count": 46,
   "metadata": {
    "collapsed": false
   },
   "outputs": [
    {
     "data": {
      "text/plain": [
       "Unnamed 0                           int64\n",
       "Accident and Rescue Summary        object\n",
       "Aspect                             object\n",
       "Avalanche Problem                  object\n",
       "Avalanche Type                     object\n",
       "Buried - Fully                    float64\n",
       "Buried - Partly                   float64\n",
       "Carried                           float64\n",
       "Caught                            float64\n",
       "Comments                           object\n",
       "Coordinates                        object\n",
       "Depth                              object\n",
       "Elevation                          object\n",
       "Injured                           float64\n",
       "Killed                              int64\n",
       "Location Name or Route             object\n",
       "Observation Date                   object\n",
       "Observer Name                      object\n",
       "Occurence Time                     object\n",
       "Occurrence Date                    object\n",
       "Region                             object\n",
       "Slope Angle                       float64\n",
       "Snow Profile Comments              object\n",
       "Terrain Summary                    object\n",
       "Trigger                            object\n",
       "Trigger additional info            object\n",
       "Vertical                           object\n",
       "Video                             float64\n",
       "Weak Layer                         object\n",
       "Weather Conditions and History     object\n",
       "Width                              object\n",
       "coordinates                        object\n",
       "killed                              int64\n",
       "occurrence-date                    object\n",
       "region-forecaster                  object\n",
       "region-forecaster-1                object\n",
       "trigger                            object\n",
       "url                                object\n",
       "depth_inches                      float64\n",
       "year                                int64\n",
       "dow                                object\n",
       "vert                              float64\n",
       "lon                               float64\n",
       "lat                               float64\n",
       "dtype: object"
      ]
     },
     "execution_count": 46,
     "metadata": {},
     "output_type": "execute_result"
    }
   ],
   "source": [
    "df.dtypes"
   ]
  },
  {
   "cell_type": "code",
   "execution_count": 50,
   "metadata": {
    "collapsed": false
   },
   "outputs": [
    {
     "data": {
      "text/plain": [
       "<matplotlib.axes._subplots.AxesSubplot at 0x11232f128>"
      ]
     },
     "execution_count": 50,
     "metadata": {},
     "output_type": "execute_result"
    },
    {
     "data": {
      "image/png": "[encoded data removed]",
      "text/plain": [
       "<matplotlib.figure.Figure at 0x10d9e37f0>"
      ]
     },
     "metadata": {},
     "output_type": "display_data"
    }
   ],
   "source": [
    "%matplotlib inline\n",
    "df[df.lon < 0].lon.hist()"
   ]
  },
  {
   "cell_type": "code",
   "execution_count": 51,
   "metadata": {
    "collapsed": false
   },
   "outputs": [
    {
     "data": {
      "text/plain": [
       "<matplotlib.axes._subplots.AxesSubplot at 0x10daf54a8>"
      ]
     },
     "execution_count": 51,
     "metadata": {},
     "output_type": "execute_result"
    },
    {
     "data": {
      "image/png": "[encoded data removed]",
      "text/plain": [
       "<matplotlib.figure.Figure at 0x10da06630>"
      ]
     },
     "metadata": {},
     "output_type": "display_data"
    }
   ],
   "source": [
    "df.depth_inches.hist()"
   ]
  },
  {
   "cell_type": "code",
   "execution_count": 52,
   "metadata": {
    "collapsed": false
   },
   "outputs": [
    {
     "data": {
      "text/plain": [
       "<matplotlib.axes._subplots.AxesSubplot at 0x112444908>"
      ]
     },
     "execution_count": 52,
     "metadata": {},
     "output_type": "execute_result"
    },
    {
     "data": {
      "image/png": "[encoded data removed]",
      "text/plain": [
       "<matplotlib.figure.Figure at 0x10db20a90>"
      ]
     },
     "metadata": {},
     "output_type": "display_data"
    }
   ],
   "source": [
    "df.plot.scatter('lat', 'lon')"
   ]
  },
  {
   "cell_type": "code",
   "execution_count": 53,
   "metadata": {
    "collapsed": false
   },
   "outputs": [
    {
     "data": {
      "text/plain": [
       "<matplotlib.axes._subplots.AxesSubplot at 0x1124cf5c0>"
      ]
     },
     "execution_count": 53,
     "metadata": {},
     "output_type": "execute_result"
    },
    {
     "data": {
      "image/png": "[encoded data removed]",
      "text/plain": [
       "<matplotlib.figure.Figure at 0x1124cc048>"
      ]
     },
     "metadata": {},
     "output_type": "display_data"
    }
   ],
   "source": [
    "df[df.lat > 0].plot.scatter('lat', 'lon')"
   ]
  },
  {
   "cell_type": "code",
   "execution_count": 54,
   "metadata": {
    "collapsed": false
   },
   "outputs": [
    {
     "data": {
      "application/javascript": [
       "\n",
       "            require(['base/js/utils'],\n",
       "            function(utils) {\n",
       "                utils.load_extensions('gmaps_js/gmaps_views');\n",
       "            });\n",
       "            "
      ],
      "text/plain": [
       "<IPython.core.display.Javascript object>"
      ]
     },
     "metadata": {},
     "output_type": "display_data"
    }
   ],
   "source": [
    "import gmaps # pip install gmaps"
   ]
  },
  {
   "cell_type": "code",
   "execution_count": 55,
   "metadata": {
    "collapsed": true
   },
   "outputs": [],
   "source": [
    "gmaps.heatmap([x for x in zip(df.lat, df.lon)])"
   ]
  },
  {
   "cell_type": "code",
   "execution_count": 56,
   "metadata": {
    "collapsed": true
   },
   "outputs": [],
   "source": [
    "gmaps.heatmap([x for x in zip(df.lat, df.lon) if str(x[0]) != 'nan'])"
   ]
  },
  {
   "cell_type": "code",
   "execution_count": 57,
   "metadata": {
    "collapsed": true
   },
   "outputs": [],
   "source": [
    "gmaps.heatmap([x for x in zip(df.lat, df.lon) if str(x[0]) != 'nan'],\n",
    "             max_intensity=1)"
   ]
  },
  {
   "cell_type": "code",
   "execution_count": 59,
   "metadata": {
    "collapsed": true
   },
   "outputs": [],
   "source": [
    "import folium # pip install folium\n",
    "from IPython.display import HTML"
   ]
  },
  {
   "cell_type": "code",
   "execution_count": 60,
   "metadata": {
    "collapsed": false,
    "scrolled": true
   },
   "outputs": [
    {
     "data": {
      "text/html": [
       "<iframe srcdoc=\"<!DOCTYPE html>\n",
       "<head>\n",
       "  <meta http-equiv=&quot;content-type&quot; content=&quot;text/html; charset=UTF-8&quot; />\n",
       "   <link rel=&quot;stylesheet&quot; href=&quot;https://rawgit.com/andrewgiessel/leafletstuff/master/leaflet.css&quot; />\n",
       "   <script src=&quot;https://cdnjs.cloudflare.com/ajax/libs/leaflet/0.7.3/leaflet.js&quot;></script>\n",
       "\n",
       "   <script src=&quot;https://ajax.googleapis.com/ajax/libs/jquery/1.11.1/jquery.min.js&quot;></script>\n",
       "\n",
       "   <link rel=&quot;stylesheet&quot; href=&quot;https://maxcdn.bootstrapcdn.com/bootstrap/3.2.0/css/bootstrap.min.css&quot;>\n",
       "   <link rel=&quot;stylesheet&quot; href=&quot;https://maxcdn.bootstrapcdn.com/bootstrap/3.2.0/css/bootstrap-theme.min.css&quot;>\n",
       "   <script src=&quot;https://maxcdn.bootstrapcdn.com/bootstrap/3.2.0/js/bootstrap.min.js&quot;></script>\n",
       "\n",
       "   <link href=&quot;https://maxcdn.bootstrapcdn.com/font-awesome/4.1.0/css/font-awesome.min.css&quot; rel=&quot;stylesheet&quot;>\n",
       "\n",
       "   <link rel=&quot;stylesheet&quot; href=&quot;https://rawgit.com/lvoogdt/Leaflet.awesome-markers/2.0/develop/dist/leaflet.awesome-markers.css&quot;>\n",
       "   <script src=&quot;https://rawgithub.com/lvoogdt/Leaflet.awesome-markers/2.0/develop/dist/leaflet.awesome-markers.js&quot;></script>\n",
       "\n",
       "\n",
       "   <link rel=&quot;stylesheet&quot; href=&quot;https://cdnjs.cloudflare.com/ajax/libs/leaflet.markercluster/0.4.0/MarkerCluster.Default.css&quot;>\n",
       "   <link rel=&quot;stylesheet&quot; href=&quot;https://cdnjs.cloudflare.com/ajax/libs/leaflet.markercluster/0.4.0/MarkerCluster.css&quot;>\n",
       "   <script src=&quot;https://cdnjs.cloudflare.com/ajax/libs/leaflet.markercluster/0.4.0/leaflet.markercluster-src.js&quot;></script>\n",
       "   <script src=&quot;https://cdnjs.cloudflare.com/ajax/libs/leaflet.markercluster/0.4.0/leaflet.markercluster.js&quot;></script>\n",
       "\n",
       "   <link rel=&quot;stylesheet&quot; href=&quot;https://birdage.github.io/Leaflet.awesome-markers/dist/leaflet.awesome.rotate.css&quot;>\n",
       "\n",
       "   \n",
       "   \n",
       "   \n",
       "   \n",
       "\n",
       "   <style>\n",
       "\n",
       "      html, body {\n",
       "        width: 100%;\n",
       "        height: 100%;\n",
       "        margin: 0;\n",
       "        padding: 0;\n",
       "      }\n",
       "\n",
       "      #map {\n",
       "        position:absolute;\n",
       "        top:0;\n",
       "        bottom:0;\n",
       "        right:0;\n",
       "        left:0;\n",
       "      }\n",
       "\n",
       "   </style>\n",
       "</head>\n",
       "\n",
       "<body>\n",
       "\n",
       "   <div class=&quot;folium-map&quot; id=&quot;folium_30fdf7cef60f462ebe25b9bf6e879318&quot; style=&quot;width: 100%; height: 700px&quot;></div>\n",
       "\n",
       "   <script>\n",
       "\n",
       "      \n",
       "\n",
       "      var base_tile = L.tileLayer('https://stamen-tiles-{s}.a.ssl.fastly.net/terrain/{z}/{x}/{y}.jpg', {\n",
       "          maxZoom: 18,\n",
       "          minZoom: 1,\n",
       "          attribution: 'Map tiles by <a href=&quot;http://stamen.com&quot;>Stamen Design</a>, under <a href=&quot;http://creativecommons.org/licenses/by/3.0&quot;>CC BY 3.0</a>. Data by <a href=&quot;http://openstreetmap.org&quot;>OpenStreetMap</a>, under <a href=&quot;http://creativecommons.org/licenses/by-sa/3.0&quot;>CC BY SA</a>.'\n",
       "      });\n",
       "\n",
       "      var baseLayer = {\n",
       "        &quot;Base Layer&quot;: base_tile\n",
       "      };\n",
       "\n",
       "      /*\n",
       "      addition of the wms layers\n",
       "      */\n",
       "\n",
       "      \n",
       "\n",
       "      /*\n",
       "      addition of the tile layers\n",
       "      */\n",
       "      \n",
       "\n",
       "      /*\n",
       "      list of layers to be added\n",
       "      */\n",
       "      var layer_list = {\n",
       "      \n",
       "      };\n",
       "\n",
       "      /*\n",
       "      Bounding box.\n",
       "      */\n",
       "      var southWest = L.latLng(-90, -180),\n",
       "          northEast = L.latLng(90, 180),\n",
       "          bounds = L.latLngBounds(southWest, northEast);\n",
       "\n",
       "      /*\n",
       "      Creates the map and adds the selected layers\n",
       "      */\n",
       "      var map = L.map('folium_30fdf7cef60f462ebe25b9bf6e879318', {\n",
       "                                       center:[40.5, -111.5],\n",
       "                                       zoom: 10,\n",
       "                                       maxBounds: bounds,\n",
       "                                       layers: [base_tile]\n",
       "                                     });\n",
       "\n",
       "      L.control.layers(baseLayer, layer_list).addTo(map);\n",
       "\n",
       "      /*\n",
       "      addition of the image layers\n",
       "      */\n",
       "      \n",
       "      \n",
       "      //cluster group\n",
       "      var clusteredmarkers = L.markerClusterGroup();\n",
       "      //section for adding clustered markers\n",
       "      \n",
       "      //add the clustered markers to the group anyway\n",
       "      map.addLayer(clusteredmarkers);\n",
       "\n",
       "      \n",
       "      var marker_1_icon = L.AwesomeMarkers.icon({ icon: 'info-sign',markerColor: 'blue',prefix: 'glyphicon',extraClasses: 'fa-rotate-0'});\n",
       "      var marker_1 = L.marker([41.215552643517, \n",
       "\t\t\t\t\t\t\t-111.87377928411],\n",
       "\t\t\t\t\t\t\t{'icon':marker_1_icon}\n",
       "\t\t\t\t\t\t\t);\n",
       "      marker_1.bindPopup(&quot;<b>0 2015 Snowboarder Hell's Canyon</b\\n    <p>This excellent and complete accident report was written by Frank Waikirt and GR Fletcher, Snowbasin Ski Patrol.Blake Ford Avalanche Incident Hells Canyon March 4, 2015The winter of 2014-15 up to early March was record setting for both warmth and lack of snow.  In 35 seasons of consistent record keeping at Snowbasin ski resort March 1st 2015 was the record lowest in both annual snow and settled snow.  The last few days in February and early March there were some small storms adding up to about 4-6&#8221;.  On the morning of March 3rd the area reported 15 inches of new snow.  Reduction work that morning resulted in widespread class 2/3 avalanche activity both with ski cuts and explosives.  Much of the resort terrain stayed closed that day.  The next day more reduction work was done with the goal of opening the rest of the resort terrain.  Reduction work in the morning resulted in another round of class 2/3 avalanches.  At 9:19 AM the No Name area was opened.  There was a long line at the bottom of the tram and guests were anxious to finally ski some powder after a long dry winter.Colby Oldroyd and Blake Ford long time friends from Morgan Utah took the day off work to snowboard at the resort.  Blake was a former employee at the resort and a season pass holder for nine seasons.  Colby had been a previous pass holder in the Park City area for two seasons, and this was his first season pass at Snowbasin.  They took their first run down John Paul and the next lap rode the Mt. Allen Tram to access the No Name terrain.  The two of them travelled across the top of No Name and entered the Hells Canyon area.  Blake had limited familiarity with the terrain, and Colby had only been there one time before.  They traversed into the area about 50 yards when Colby felt that the terrain was too dangerous and they should get back to the ski area.  They were traversing back to the ski area boundary when Blake who was out ahead was caught in the avalanche.  Colby witnessed the slide and followed the path down yelling for his friend.  On the way down he found a glove and the goggles of his friend.  When he did not find Blake he attempted to call him by phone, when that failed he contacted Snowbasin Ski Patrol.  In a brief interview with Colby it was determined that Blake was the only one known to be in the area, and he was not wearing an avalanche beacon. Colby travelled back to the resort and was met by Ski Patroller Zaun Barnes who escorted Colby back to the top of Hells Canyon.At this same time ski patroller Corey Kruse was making an observation tour of the boundary to check for any traffic into the area.  As he was standing at the boundary he heard voices of individuals in the terrain.  He then heard screams of someone caught in an avalanche and also saw in the distance snow traveling down the mountain, soon after that he heard another person yelling and searching.  At this point Corey informed Ski Patrol dispatch of the event.  Life Flight was called to fly the scene and plans made to form a rescue party.G.R Fletcher was riding in Mt. Allen Tram when the call came in.  He proceeded to No Name gate one and closed the gate.  Also at this time a rescue party was being organized at the top of John Paul and explosives were being assembled.  All other gates into the No Name terrain were being closed.  Eventually a rescue party consisting of Snowbasin ski patrollers G.R Fletcher, Peter Francis with rescue dog Molly, Jared Bradley with hasty party flags and a RECCO, Jeff Whiting, Joe Marchione, Tommy Keating with explosives, Mike Erickson with explosives, and Jason Neumann all met at the top of No Name near the access point to Hells Canyon.Hells Canyon is a steep area with multiple paths that all converge in a single gully at the bottom.  The Blake Ford avalanche only released a small amount of the potential snow in the start zones.  At the top of Hells Canyon it was observed that there were four tracks into the area.  Two went down a generally safe ridge to the north and two went toward the slide path in question.  After Life Flight confirmed the slide path and that no one was observed in the path or in the terrain.  A group discussion was conducted concerning potential hazards, search urgency and potential safe routes into the scene.  Eventually it was decided that a small group consisting of Mike Erickson with the explosives as Hasty Party leader, Peter Francis and Molly the dog, and Jared Bradley with the RECCO, would travel safely and carefully to the avalanche path using explosives as necessary.  Once on the path they would follow that down to the debris pile.  The rest of the group would wait for confirmation of a safe route to the site.The hasty party followed the tracks to the start zone.  In order to remove potential hazards on both sides of the avalanche path explosives were thrown.  These released avalanches just as large as the original avalanche and both funneled into the same gully.  After arrival on the scene Erickson requested more help, and the second party began their descent into the scene.  By this time the second party was joined by Corey Kruse, Zaun Barnes and the witness Colby Oldroyd. This group used the explosive protected slide path to the right to access the primary path and then descend to the scene.Once on the debris Molly was put into an active search.  She had a strong alert 75 yards into the deposition pile.  Erickson and Bradley began probing the area.  With the probing in progress Molly continued to search the rest of the debris pile.  Molly alerted again about 20 yards from the toe of the debris.  Francis probed the area and had a positive strike on his second probe.  When the victim was extricated at 1140 it was determined that he had injuries incompatible with life.  At this point hoist extrication by Life flight was requested.After Blake was hoisted to the base area, the rescue party traveled together to the staging area and the incident was terminated at 1246.</p>&quot;);\n",
       "      marker_1._popup.options.maxWidth = 300;\n",
       "      map.addLayer(marker_1)\n",
       "      \n",
       "      var marker_2_icon = L.AwesomeMarkers.icon({ icon: 'info-sign',markerColor: 'blue',prefix: 'glyphicon',extraClasses: 'fa-rotate-0'});\n",
       "      var marker_2 = L.marker([40.81212, \n",
       "\t\t\t\t\t\t\t-110.906296],\n",
       "\t\t\t\t\t\t\t{'icon':marker_2_icon}\n",
       "\t\t\t\t\t\t\t);\n",
       "      marker_2.bindPopup(&quot;<b>1 2014 Snowmobiler Gold Hill</b\\n    <p>Ryan A. Noorda and his brother Kevin are out for a day of riding. Late in the afternoon, they're headed back to their RV at the Bear River Trailhead and decide to play around on a popular slope in Gold Hill Basin. At approx 17:15 Ryan climbs a north facing slope and triggers a slide which breaks well above him as he's low on the slope. He's caught, carried, and consequently buried several feet deep on a benched terrain feature where the bulk of the debris stacks up. Kevin begins a beacon search, locates his brother, and begins CPR. About 20 minutes elapse when Kevin flags down a local rider and his son who assist in the rescue and notify local SAR. CPR continues for an additional 20 more minutes. While heroic efforts are made to save Ryan's life, medical crews pronounce him dead at the scene.Debris stacked up deeply on this bench feature. Ted and Kevin Taylor from State Parks stand close to the tree that Ryan was located near.</p>&quot;);\n",
       "      marker_2._popup.options.maxWidth = 300;\n",
       "      map.addLayer(marker_2)\n",
       "      \n",
       "      var marker_3_icon = L.AwesomeMarkers.icon({ icon: 'info-sign',markerColor: 'blue',prefix: 'glyphicon',extraClasses: 'fa-rotate-0'});\n",
       "      var marker_3 = L.marker([39.585986, \n",
       "\t\t\t\t\t\t\t-111.270003],\n",
       "\t\t\t\t\t\t\t{'icon':marker_3_icon}\n",
       "\t\t\t\t\t\t\t);\n",
       "      marker_3.bindPopup(&quot;<b>2 2014 Snowmobiler Left Fork Huntington Creek</b\\n    <p>Media reports-http://www.4utah.com/story/d/story/man-dies-in-avalanche-near-huntington...&#8203;Preliminary information:It was a party of four experienced snowmobilers, all with rescue gear.  Some of the snowmobilers became stuck and one person circled uphill and to the side of them to come help.  He triggered the avalanche that buried him but the avalanche did not catch the stuck snowmobilers.  They other snowmobilers began rescue efforts immediately but the victim was buried 6-8 feet deep and it took 20 minutes to extricate him.  They began CPR but he did not respond.The victim was Clinton Conover of Ferron, Utah.  Everyone at the Utah Avalanche Center's hearts go out to the family and friends of the victim of this tragic accident.Clinton was found just uphill of his sled,Many thanks to Larry and Jonathan from Utah State Parks. While Cody and I investigated the avalanche, these guys probed for the sled, found it, and we all teamed up to dig it out and ultimately, get it back to family members.</p>&quot;);\n",
       "      marker_3._popup.options.maxWidth = 300;\n",
       "      map.addLayer(marker_3)\n",
       "      \n",
       "      var marker_4_icon = L.AwesomeMarkers.icon({ icon: 'info-sign',markerColor: 'blue',prefix: 'glyphicon',extraClasses: 'fa-rotate-0'});\n",
       "      var marker_4 = L.marker([40.482366, \n",
       "\t\t\t\t\t\t\t-111.648088],\n",
       "\t\t\t\t\t\t\t{'icon':marker_4_icon}\n",
       "\t\t\t\t\t\t\t);\n",
       "      marker_4.bindPopup(&quot;<b>3 2014 Snowshoer Near Tibble Fork Reservoir</b\\n    <p>According to preliminary information, a group of six young snowshoers were traveling in a narrow gully just north of Tibble Fork Reservoir in American Fork Canyon when they triggered a small avalanche.  It swept one women into the water of the creek at the bottom and buried her face down for about 40 minutes in the water.  Media report her name is Ashleigh Nicole Cox, 21.She had no pulse when she was recovered but it was reported they may have recovered a pulse either in transport or at the hospital. Media report that she passed away today, February 9th.  Our hearts go out to the family and friends with this especially tragic accident.</p>&quot;);\n",
       "      marker_4._popup.options.maxWidth = 300;\n",
       "      map.addLayer(marker_4)\n",
       "      \n",
       "      var marker_5_icon = L.AwesomeMarkers.icon({ icon: 'info-sign',markerColor: 'blue',prefix: 'glyphicon',extraClasses: 'fa-rotate-0'});\n",
       "      var marker_5 = L.marker([40.629, \n",
       "\t\t\t\t\t\t\t-111.666412],\n",
       "\t\t\t\t\t\t\t{'icon':marker_5_icon}\n",
       "\t\t\t\t\t\t\t);\n",
       "      marker_5.bindPopup(&quot;<b>4 2013 Skier Kessler Peak - Kessler Slabs</b\\n    <p>This is a preliminary avalanche accident report and we will add additional information and videos to it as time allows.  Please contact Utah Department of Transportation for all media inquiries.Quite a large group of people went in together to investigate the avalanche.  There was 5 Utah Department of Transportation forecasters including Chris Covington, Matt McKee, Bill Nalli, Adam Nesbitt and Steven Clark.  From the Forest Service Utah Avalanche Center there was Drew Hardesty, Trent Meisenheimer and myself (Bruce Tremper) totaling eight people.The victim was Craig Patterson, a forecaster for the Utah Department of Transportation Snow and Avalanche Program, which forecasts and controls avalanches for both Big Cottonwood Canyon and Little Cottonwood Canyon.  Craig was doing fieldwork alone on Kessler Peak to check out the snow stability conditions, because avalanche slopes on Kessler Peak can threaten the highway below.Craig followed a fairly standard up-track used by both public backcountry skiers and by UDOT forecasters, which utilizes a thickly-treed ridge between avalanche paths locally known as God's Lawnmower, which is just west of the ridge and Kessler Slabs, which is just to the east of the ridge. He ascended the ridge using climbing skins and made switchbacks up the northeast-facing ridge.  As he neared the top of the ridge where he presumably planned to descend back down the ridge he ascended, his ascension track led around a corner from the northeast-facing ridge onto a steep, east-facing slope where he presumably triggered the avalanche that killed him.  The flank fracture of the slab was directly on the sharp ridge that divided the safer snow on the northeast facing slope from what appeared to be recently wind loaded snow on the east facing slope.  The distance of only a foot or two separated safe snow from dangerous snow.  It's uncertain whether he was planning to make another switchback to stay on the safer north facing side and just stepped around the corner too far or whether he planned to continue onto the east facing slope to examine the snow there.The avalanche was a relatively small wind slab, about 6-8 inches deep (a foot deep in the deepest section) and about 45 feet wide.  It was on a very steep slope, which was 50 degrees at the crown face and 45 degrees where his track led across the flank wall of the slab fracture.  It's likely that the avalanche broke 40' above him as he stepped onto to the recently wind-loaded slope.  The avalanche path descends through many sparse trees and over a couple cliffs.  The avalanche swept him 1380' vertical feet down the slope where he came to rest on the surface of the debris with his avalanche airbag deployed.He checked in by phone around 1:00 or 1:30 in the afternoon when he was high on the mountain and reported stable snow conditions. He failed to check in later in the day nor return home that evening so the authorities were notified.  His UDOT truck was still parked at the Cardiff Fork trailhead. A Life Flight helicopter was able to fly just before dark to search for him and they noticed the avalanche with a person on top of the debris and not moving, but the terrain was too steep to land.  Ground-based rescuers from Wasatch Backcountry Rescue under the command of Salt Lake County Sheriff accessed the area on foot after dark.  They found Craig's body on the surface of the debris with his avalanche airbag deployed and obvious trauma to his head and hip with rips in his pants.  He was obviously still in \\&quot;uphill mode\\&quot; as he will had a climbing skin on his ski (the other ski was missing) and he was dressed lightly.  He was laying head downhill and on his side.   His body was only about 50' vertical feet above the toe of the debris.View of the accident site from the Big Cottonwood Canyon road.  The victim followed a standard climbing track up the northeast facing, densely-treed ridge and on his top diagonal, he crossed around a corner onto an east facing slope and triggered an avalanche, which descended down a different drainage than the one he ascended.This is the site where the victim was found on the snow surface with his avalanche airbag deployed.  He was located where the person in the shadows is standing, which is about 50 vertical feet above the toe of the avalanche debris.The victim's tracks are presumably the ones in the bottom of the photo and they lead into the flank wall of the avalanche he probably triggered.  It's unknown whether he was doing another switchback and strayed too far onto the steeper, more east-facing slope or whether he intended to examine the snow there.  The avalanche was a wind slab that was only about 8 inches deep and 45 feet wide but it was enough to catch him and sweep him down the steep slope.Looking down the slope, which is quite steep--45 degrees where he stepped onto the slope and 50 degrees at the crown face.  It drains through many sparse trees and over a couple cliffs on the way down.Looking downhill, you can see his ascent track on the left of the photo coming up towards the camera.  He ascended the gentler, northeast facing slope and then crossed over a divide in the center of the photo onto a steeper, east facing slope on the right of the photo (where the avalanche occurred)  that had different snow characteristics due to the different aspect with respect to wind and sun.</p>&quot;);\n",
       "      marker_5._popup.options.maxWidth = 300;\n",
       "      map.addLayer(marker_5)\n",
       "      \n",
       "      var marker_6_icon = L.AwesomeMarkers.icon({ icon: 'info-sign',markerColor: 'blue',prefix: 'glyphicon',extraClasses: 'fa-rotate-0'});\n",
       "      var marker_6 = L.marker([39.0436, \n",
       "\t\t\t\t\t\t\t-111.519],\n",
       "\t\t\t\t\t\t\t{'icon':marker_6_icon}\n",
       "\t\t\t\t\t\t\t);\n",
       "      marker_6.bindPopup(&quot;<b>5 2013 Snowmobiler Southern end of the Manti Skyline just east out of 12 Mile Canyon</b\\n    <p>We have not spoken with anyone who was involved in that accident. The following accident summary was related to us through the Sevier County Sheriff.A group of snowmobilers left 12 mile Canyon for a day of snowmobiling.  Just east of the head of 12 mile Canyon the group was playing in a broad flat bottom valley with small steep slopes on the west side.  The group was separated some what as everyone was having fun on different terrain features. At about 4 o'clock or a bit later the group noticed that one member was missing. They backtracked a bit to find a fresh avalanche and figured he must be buried in it. There was no sign of him or his snowmobile and he was not wearing an avalanche beacon. The group was not able to locate him and were forced to call search and rescue.  The search and rescue team arrived and was able to finally locate part of the buried snowmobile. The victim ended up being buried beneath the snowmobile and the rescue team extricated him but it was too late.  The victim was a 30 year old male buried at least 4 feet deep.</p>&quot;);\n",
       "      marker_6._popup.options.maxWidth = 300;\n",
       "      map.addLayer(marker_6)\n",
       "      \n",
       "      var marker_7_icon = L.AwesomeMarkers.icon({ icon: 'info-sign',markerColor: 'blue',prefix: 'glyphicon',extraClasses: 'fa-rotate-0'});\n",
       "      var marker_7 = L.marker([38.53932, \n",
       "\t\t\t\t\t\t\t-109.209852],\n",
       "\t\t\t\t\t\t\t{'icon':marker_7_icon}\n",
       "\t\t\t\t\t\t\t);\n",
       "      marker_7.bindPopup(&quot;<b>7 2012 Snowmobiler Beaver Basin, La Sal Mountains near Moab</b\\n    <p>The following link gives good information from KSL:KSL LINKThe Accident:A group of 4 individuals from the Norwood, Colorado area decided to  go on a snowmobile tour from Gateway, Colorado and up into Beaver Basin  in the La Sal Mountains, Utah.  They started in the early morning.  It  was the first time to Beaver Basin of the season for the group leader,  who had been there twice before.  Another member of the party  snowmobiled in the area once before.  On their way to Beaver Basin, the  party did not notice any signs of instability.  Once in the basin  proper, snow conditions were getting deeper and on numerous occasions,  the more experience riders needed to circle back around to assist the  less experienced digging their snowmobiles out.The summer road did not have any noticeable snowmobile tracks, as  they continued up the group leader realized that they were entering a  land of diminishing returns...the amount of stuck snowmobiles and tough  going warranted the party to turn around.  But where?The first sign of instability the party encountered were roller balls  off a cliff band (avalanche terrain) less that 1/8 a mile from the  accident site.  The summer road in that area was too steep to stop (they  did not want to get stuck) to regroup and the group leader remembered a  meadow that could work as turn around point and regrouping area.   Unfortunately, this meadow was where the accident occurred.  The summer  road into Beaver Basin is affected by numerous avalanche paths, and this  clearing was a result of the classic avalanche path looming above.The first two snowmobiles crossed the avalanche path and regrouped on  the other side in the more protected part of the meadow.  As the third  snowmobile made its way across, the first two started to see \\&quot;snow dust\\&quot;  coming down the avalanche path and waved the third on.  As the third  made it to the first two, the fourth snowmobile (victim) crested over  the top of the steep hill and into the avalanche path.  Vigorously  waving for him to cross, the \\&quot;snow dust\\&quot; turned into a powder cloud and  then debris and powder cloud obscured their vision for over 30 seconds.   Once the snow settled, the fourth snowmobile and his rider was nowhere  to be seen.  The party started to search for their partner immediately.Unfortunately, the party only had one beacon, one probe and two  shovels.  They started their search from the last seen point and  realized the force of the avalanche pushed the victim off the bench the  summer road was on and into a classic terrain trap: a steep gully.  They  had a very good feeling where he was buried: probed all over the place,  yet their probe could not reach the bottom of the debris (which in some  places was over 30' deep).  There was a potential probe strike:  the  party dug a six foot hole in this location...they were losing time.   Approximately 1 hr 45 min elapsed during this search and the party  realized they were outmatched to find their companion.  They left and  found cell service way down John Brown's Canyon on the way to Gateway.   The accident occurred around 10:30 am and Grand County Search and Rescue  received the call on 2:00 pm.The Rescue/Recovery:On Saturday afternoon, a hasty team of Grand County Winter Search and  Rescue members were flown in to the site.  The hasty team probed in  likely areas along the bench and in the ravine.  Once likely burial  areas were probed, a coarse probe search started from the last scene  point downhill while one of the hasty members continued to probe likely  areas in the ravine.  On a hunch (and a bit of luck) the spot probe  decided to probe the bottom of the hole already dug by the snowmobile  party.  It was determined a positive strike was made.  All efforts then  were diverted to determining the probe strike.  Upon digging to the end  of the probe utilizing the conveyor method, the cowling of the  snowmobile was uncovered.  No other actions could be done at this time  due to darkness and the victim was not positively found.On Sunday morning, March 4th, a large group of Mesa County and Grand  County Search and Rescue team members arrived on scene shortly after  10:00 am.  Over 50 rescuers contributed their time and effort in the  search.  In the beginning of the search, one team probed the entire  slide path along the bench below the last scene point while the second  group started to move a metric ton of avalanche debris below.  Once  the upper area was cleared, all rescue team members contributed to  digging out the victim and his snowmobile.  By noon, the victim was  identified and by 1300 was removed from the accident site.  He was found  approximately 3 feet uphill from his snowmobile and under at least 12'  of avalanche debris.</p>&quot;);\n",
       "      marker_7._popup.options.maxWidth = 300;\n",
       "      map.addLayer(marker_7)\n",
       "      \n",
       "      var marker_8_icon = L.AwesomeMarkers.icon({ icon: 'info-sign',markerColor: 'blue',prefix: 'glyphicon',extraClasses: 'fa-rotate-0'});\n",
       "      var marker_8 = L.marker([40.653034, \n",
       "\t\t\t\t\t\t\t-111.592255],\n",
       "\t\t\t\t\t\t\t{'icon':marker_8_icon}\n",
       "\t\t\t\t\t\t\t);\n",
       "      marker_8.bindPopup(&quot;<b>8 2012 Snowboarder Dutch Draw</b\\n    <p>Timothy Robert Baker, 24, died in an avalanche he triggered under the cliffs in Dutch Draw n February 23, 2012.This is information is from talking with the Canyons ski patrollers who responded to the accident and a visit to the site by UAC forecasters Evelyn Lees and Brett Kobernik.  More details may be added later if it is possible to interview the survivor.The accident occurred in Dutch Draw, a backcountry area south of the Canyons Resort.Timothy and his partner were on snowboards.  They left through the well marked boundary gate at the top of 9990 Lift and traversed south   It is believed both the victim and his partner descended about 150 or 200&#8217; below the ridgeline and stopped near the cliffs.  Then Timothy descended the next section first, triggered a slab avalanche.  He was caught, carried and buried.  Neither he nor his partner were wearing a beacon or had rescue gear.Rescue:  Timothy&#8217;s partner immediately headed down to the debris and started searching.  As other backcountry travelers in adjacent area came into view, he called out for help, and a total of 8 people arrived.  One was sent for help.  The other 7 people searched the debris.  None of the parties were equipped with beacons or rescue gear. Some skiers popped the baskets off their poles and probed. One struck the victim&#8217;s snowboard and they started digging just as 2 Canyons ski patrollers  arrived on the scene.  Timothy was dug out, and a ski patroller and Timothy&#8217;s partner started CPR.  They transported the victim to a nearby flat area where a medical helicopter could land and transport the victim to the hospital. The victim was buried about 40 minutes. It is unknown if he died from trauma or asphyxiation.The victim was carried about 600 vertical feet, strained through small trees, and buried near the toe of the slide.  He buried head first downhill, face down, with his head approximately 3 feet below the snow surface in debris that was about 6 to 8 feet deep.  The snowboard was broken in half, but held together by some of the material.email from Jay Torgersen, Flight Paramedic, AirMedI was on the AirMed team that responded to the Canyons and worked with their Patrol on the side-country accident/fatality yesterday.  Our team was made up of Casey Thompson-RN, Troy Stanton-Pilot and myself.  Just wanted to pass on to your investigation team what a fantastic job the Canyon&#8217;s Patrol did coordinating the initial rescue effort.  It was a difficult and potentially dangerous situation that they handled extremely well.  It was evident that safety was their number one priority, not just for their own personnel but for those of us called in to assist.  They also had to consider the safety of bystanders and the victim&#8217;s party who were attempting a partner rescue.  There were several variables to consider in the cost versus benefit analysis faced by those running the incident.  Having experienced and organized incident commanders with well thought out strategic plans and back-ups allowed the operation to unfold without further incident or harm to all involved.  Without addressing the victims own personal preparedness, I don&#8217;t think there was anything that could have been done that would have changed the ultimate outcome.  The Canyon&#8217;s Patrol and the Summit County SO team should be commended for outstanding work performed in a stressful, challenging and extremely difficult environment.  Take care and be safe! Cheers,</p>&quot;);\n",
       "      marker_8._popup.options.maxWidth = 300;\n",
       "      map.addLayer(marker_8)\n",
       "      \n",
       "      var marker_9_icon = L.AwesomeMarkers.icon({ icon: 'info-sign',markerColor: 'blue',prefix: 'glyphicon',extraClasses: 'fa-rotate-0'});\n",
       "      var marker_9 = L.marker([38.716456, \n",
       "\t\t\t\t\t\t\t-111.721988],\n",
       "\t\t\t\t\t\t\t{'icon':marker_9_icon}\n",
       "\t\t\t\t\t\t\t);\n",
       "      marker_9.bindPopup(&quot;<b>9 2012 Snowmobiler West of Lost Creek Reservoir</b\\n    <p>Four snowmobile riders were out for a day of snowmobiling.  Rider A had recently opened a snowmobile shop in Richfield and had a fair bit of experience in avalanche country.  Rider B was a friend and had the most experience in avalanche terrain out of the group.  He was the most familiar with the terrain and perhaps has the best sense of snow stability.  Rider C was rider A's father.  Rider D was working for rider A and had very little experience on a sled and virtually no experience in avalanche terrain.  A, B, and C were carrying beacons, shovels and probes.  Rider D did not have avalanche gear.  Rider B had been to a few local avalanche training seminars with some field training also.  He states he is quite comfortable using his transceiver.Rider B said that they were out boondocking for the day with no intention of doing any hill climbing.  He was very aware of the dangerous weak snow near the ground as well as the recent snowfall which had created a slab which had produced a recent widespread natural avalanche cycle.At the end of the day, the group was going to exit the backcountry and they were looking for the fastest route out.  They chose to utilize a summer road that crossed an avalanche path.  Rider B had traveled down the road the previous week and his tracks were still visible.  It was 5pm or a little later.  He started up the road and was about half way across the path when he felt the entire pack move.  The next thing he knew, he was being pushed off the road.  He then said that snow was washing over him and he was engulfed.  Luckily, he was not knocked off the sled and was able to grab a full handful of throttle which propelled him back out of the churning snow and he was able to ride to safety.When he came to a stop, riders C and D were on the opposite side of the path and had not been caught.  Rider A was no where to be seen.  They speculated that Rider A had been following Rider B and had been buried but none of them had seen him get caught.Rider B and C turned their transceivers to receive and started the search.  They stated that there were some problems with cell phone interference and turned off their cell phones.  They were at the toe of the slide and started to walk uphill with their transceivers searching for a signal.  They were unable to locate an initial signal.  After an hour, it was decided that they needed to get outside help and ultimately, rider B rode to a location where his cell phone worked and called for help.  Upon his return, the group was able to spot part of Rider A's sled just sticking out of the snow.  It was well after dark at this point.  Upon nearing the buried sled, both transceivers started to receive a signal.  At this point, they quickly located Rider A who was buried under at least 4 feet of snow and downhill of the buried sled by about 50 feet.  They dug him up but it was too late.</p>&quot;);\n",
       "      marker_9._popup.options.maxWidth = 300;\n",
       "      map.addLayer(marker_9)\n",
       "      \n",
       "      var marker_10_icon = L.AwesomeMarkers.icon({ icon: 'info-sign',markerColor: 'blue',prefix: 'glyphicon',extraClasses: 'fa-rotate-0'});\n",
       "      var marker_10 = L.marker([40.624442, \n",
       "\t\t\t\t\t\t\t-111.669588],\n",
       "\t\t\t\t\t\t\t{'icon':marker_10_icon}\n",
       "\t\t\t\t\t\t\t);\n",
       "      marker_10.bindPopup(&quot;<b>10 2012 Snowboarder Little Giant - West Kessler - Preliminary Accident Report</b\\n    <p>On the morning of Saturday January 28thfour people in two cars drove up Big Cottonwood Canyon with the intent to climb the Argenta Slide Path. About 1500&#8217; into the climb, one member of the party didn&#8217;t feel well and headed back to his car to return home. The three remaining, one skier (Josh A.) and two split-boarders (Alecs B. and Justin S.), pressed on. They gained the ridge, bumped into a well-known local skier, where they stopped and talked for a few minutes.The three then headed south towards a steep, committing run north of the &#8220;Little Giant&#8221; located of the west face of Kessler Peak. Alecs Barton was in the lead and dropped into the slope while the other two maintained their spacing and watched their partner. Alecs descended through some trees and we he popped out onto the open slope he triggered a hard slab avalanche about 100&#8217; above him at approx 11:22. The slide averaged3&#8217; deep, was nearly 1000&#8217; wide and ran 2,500&#8217; vertically.After Alecs disappeared, Josh and Justin quickly formulated a game plan and began descending the narrow couloir.Half way down the chute they encountered a 30&#8217; plus cliff band they had to negotiate. The two continued down slope and encountered yet another cliff band where they decided to call 911 at 11:29 while they still had a cell signal. Josh continued down slope into the avalanche debris filled gully. He got a signal, continued downhill, but quickly realized he was below his partner as the signal faded. He hiked uphill as Justin arrived and began probing. The first strike was a false positive and as Josh shoveled he realized he had hit a tree branch. Justin continued probing and struck Alecs foot moments later. The digging began and they uncovered his legs followed by the rest of his body. Josh and Justin began CPR. At this juncture the Wasatch Powderbird Guides (WPG) helicopter was heard in the canyon, but Josh and Justin noticed it was heading up canyon and away from them. Josh decided to pull his ABS so the heli could more easily spot them from the air. Within a few minutes the heli returned, was above them, and dropped off two members of Wasatch Backcountry Rescue (WBR) who assisted on scene.Given the terrain features this was remarkable rescue by not only the trained professionals of WPG and WBR, but also from Josh and Justin who maintained composure under extremely difficult physical and emotional conditions. The mere fact that they were able to negotiate the extremely challenging terrain which barely had enough snow left in it and continue with a solid well managed rescue is a testament to these two young men&#8217;s background in both mountaineering and medical training.All members of the party had avalanche rescue gear. It&#8217;s unclear if Alecs had consulted the avalanche advisory that morning, but he had been in the general area a few days before and was aware of the snowpack structure on nearby slopes. No snow pits were dug, but survivors indicated they tested the snow throughout the tour with pole stabs and felt good about stability. Both Alecs and his splitboarding partner were familiar with the terrain and had descended the slope at least once last season.</p>&quot;);\n",
       "      marker_10._popup.options.maxWidth = 300;\n",
       "      map.addLayer(marker_10)\n",
       "      \n",
       "      var marker_11_icon = L.AwesomeMarkers.icon({ icon: 'info-sign',markerColor: 'blue',prefix: 'glyphicon',extraClasses: 'fa-rotate-0'});\n",
       "      var marker_11 = L.marker([40.568491, \n",
       "\t\t\t\t\t\t\t-111.652937],\n",
       "\t\t\t\t\t\t\t{'icon':marker_11_icon}\n",
       "\t\t\t\t\t\t\t);\n",
       "      marker_11.bindPopup(&quot;<b>11 2011 Snowboarder South Chute in Gad Valley</b\\n    <p>Final Report  11/14/11   Thanks to the Snowbird Ski Patrol and Snow Safety for their assistanceTwo men in their 30s left the closed Alta ski area with the intent to ride the well known terrain of Alta and Snowbird.  Neither ski areas are open yet and have yet to conduct any avalanche control within their boundaries.  We interviewed the victim's ski partner.  To say he was shaken up is an understatement.While neither had any rescue gear or formal avalanche training, they were both expert skiers and knew the terrain well.  They had not consulted the avalanche advisory that morning in which the danger was rated Considerable to High.  They continued to Snowbird via Baldy and accessed the Peruvian Cirque to gain the Gad Valley.  While ascending out of the Peruvian Cirque they remotely triggered a large avalanche that covered their tracks that they had just made.  It's unclear whether they realized they had triggered this large avalanche.  They gained the ridge and prepared to drop into Gad Valley.With the partner watching, the victim dropped into the slope, immediately triggering the slide.  He was carried approximately 800 feet through steep rocky terrain and reportedly went over a small cliff band and came to a stop only partially buried.  The partner went down to help the victim and called for a rescue, alerting both the Snowbird Ski Patrol and Wasatch Backcountry Rescue, who subsequently accessed and evacuated the victim.</p>&quot;);\n",
       "      marker_11._popup.options.maxWidth = 300;\n",
       "      map.addLayer(marker_11)\n",
       "      \n",
       "      var marker_12_icon = L.AwesomeMarkers.icon({ icon: 'info-sign',markerColor: 'blue',prefix: 'glyphicon',extraClasses: 'fa-rotate-0'});\n",
       "      var marker_12 = L.marker([39.372824, \n",
       "\t\t\t\t\t\t\t-111.422482],\n",
       "\t\t\t\t\t\t\t{'icon':marker_12_icon}\n",
       "\t\t\t\t\t\t\t);\n",
       "      marker_12.bindPopup(&quot;<b>12 2011 Skier Big Horseshoe Bowl</b\\n    <p>Heading south on highway 89, just before you get to Fairview, UT, you get a glimpse of the Mountains of the Manti Skyline.One of the most striking features is the Horseshoe bowl with its steep north facing tree chutes.7 Skiers from Utah were captivated by that bowl some time ago.After spending time planning & thinking about the captivating shot, they set out to ski it on March 26th, 2011.These are expert skiers; most of the party has been skiing since childhood.Backcountry experience amongst the members of the group ranges from 2 &#8211; 14 years.Each member of the group was carrying beacon, shovel & probe, and they had all practiced with their gear.Most members of the group had taken a Level 1 recreation avalanche course.A few members of the group had read thecurrent avalanche forecastin its entirety which rated the overall hazard as Moderate with pockets of Considerable with &#8220;the possibility for deep slab avalanches on steep rocky upper elevation slopes facing the north half of the compass.&#8221;The group left the Ephraim Canyon trailhead in the morning in a modern snowcat, reaching the Horseshoe Bowls after a couple hours of travel.Visibility was good, although it was windy, and they noticed a storm brewing to the west on the Nebo side of the valley.The group observed that the Little Shoe Bowl was actively wind loading, so they moved over to the Big Shoe Bowl.Once there, they put one person on belay.That person, now tied in, went out to the massive cornice and started cutting and kicking pieces of cornice onto the slope to test for stability.These cornice drops produced very small loose snow avalanches aka sluffs.The group thought these sluffs were a manageable avalanche hazard & decided to send a two members into the slope to conduct more snow stability testing.A & B got into the upper part of the slope and dug down 6&#8217; or so.They then conducted a few compression tests which resulted in sudden planer shears 16&#8221; in depth.All members of the group commented how they didn&#8217;t like the results.A & B then moved a few feet to a different location to conduct a few more tests.The results were similar, and the group came to the consensus that they didn&#8217;t want to ski this slope.They began gathering their gear to leave the area.At that point C & D were standing near the edge of the cornice which suddenly gave way. C fell with the VW Bus sized piece of cornice that broke off and triggered the large avalanche.C was carried almost all the way down the avalanche path.Viewing from above, D saw C get up and start moving around and for a moment the group thought they had dodged a bullet.They soon realized that A & B had also been caught and carried by the avalanche.D instructed E, F & G who were waiting in the snowcat to call 911 which they did as there is cell service at this location.This call was placed around 11:45am & EMS was mobilized.D then switched his beacon to receive and went down the slope to start the rescue of A & B.As D arrived at the debris pile he found C searching, and C & D got to B who was buried, but had his head & one arm free.They cleared B&#8217;s mouth, and then E arrived on the scene and dug B the rest of the way out.Leaving E to continue digging, C & D searched for A&#8217;s beacon signal which they quickly acquired.Using their beacons, they followed the flux lines to A&#8217;s location and found a ski boot heel on the snow surface.A was almost completely buried, and appeared to have suffered serious trauma during the avalanche.The group worked in shifts to quickly & efficiently dig A out.Once out of the snow,A had no vital signs; he was blue in the face, not breathing and had no pulse.Heroically, the group began the exhausting work of administering CPR.They did so for a full hour.Just as they contemplated stopping, A&#8217;s chest rose on its own and a pulse was detected, although he did not regain consciousness.The group administered rescue breaths for the next two hours while keeping A as warm as possible.The group was utterly exhausted at this point, now waiting for SAR teams to reach them to help get them & their critically injured friend up and out of the steep bowl.The party estimates they got to B in 8 minutes & had A dug out 15 minutes after the avalanche was triggered which is nothing short of amazing given the circumstances & the size of the avalanche.At this point SAR teams composed of over 75 volunteers from both Sanpete & Sevier Co. were battling absolutely epic conditions to get to the party waiting in this very remote location.A storm had rolled in and reduced the visibility to just a few feet, further complicating the situation.Eventually, SAR teams were able to deploy over 2100&#8217; of rope to get down to the party.SAR teams brought food, water, started a fire to warm the group and began the long & arduous process of getting the skiers back to the top of the bowl, a distance of over 1000&#8217; vertical feet.In an amazing show of strength and determination, all rescuers and victims were back on top of the ridge near nightfall.By 9:30pm all rescuers and victims were in vehicles heading back towards the highway.Forecasters Comments.Once the avalanche occurred, the party preformed a text book rescue, and really did everything right.Amazingly, they pulled their friend out of the snowpack dead, and brought him back to life.This is an outstanding effort on their part.This accident really comes down to being in the wrong place at the wrong time.While the party was trying to do the right thing by gathering information, they were doing so in the start zone of a major avalanche path, an incredibly hazardous area & high risk activity.Unfortunately, the backcountry snowpack can be a very harsh and unforgiving judge, and the party paid the ultimate price for this mistake in the loss of a loved one.I am deeply saddened by this accident and my thoughts & prayers are with the party this evening.SAR teams were tasked with an incredibly difficult mission in downright nasty conditions.The volunteers who boldly went out into the storm to help the victims truly embody what it is to be a hero.Had the party been forced to endure the cold stormy night out in the elements, the outcome could have been very different.Sanpete & Sevier Co. SAR, my hat is off to you.Well done.</p>&quot;);\n",
       "      marker_12._popup.options.maxWidth = 300;\n",
       "      map.addLayer(marker_12)\n",
       "      \n",
       "      var marker_13_icon = L.AwesomeMarkers.icon({ icon: 'info-sign',markerColor: 'blue',prefix: 'glyphicon',extraClasses: 'fa-rotate-0'});\n",
       "      var marker_13 = L.marker([40.84732, \n",
       "\t\t\t\t\t\t\t-111.015129],\n",
       "\t\t\t\t\t\t\t{'icon':marker_13_icon}\n",
       "\t\t\t\t\t\t\t);\n",
       "      marker_13.bindPopup(&quot;<b>13 2010 Snowmobiler nan</b\\n    <p>Two snowmobilers from Evanston, Wyoming were riding in Humpy Creek drainage in the western Uinta Mountains.  They accessed the area from the trailheads out of Evanston.  They were both experienced, high-end riders and well-known in the commmunity.  They did not plan to ride on steep terrain so they left their beacons and shovels in their vehicles at the trailhead.One rider apparently decided to at least partially ascend \\&quot;Cherry Hill\\&quot; a popular snowmobile play slope in the drainage north of Superbowl. The other rider, playing on low angle terrain adjacent to Dennis, did not see him ascend but saw the dust cloud of the avalanche and there was a lone snowmobile track halfway up the bowl.He assumed his friend was buried and did a quick search of the debris and did not find any surface clues.  Since he had no beacon or shovel, he rode to a high point where he could call for a rescue and went back on the debris to continue searching.  He eventually located the tip of a snowmobile ski sticking out of the snow, possibly with other riders in the area.  Someome had an avalanche probe and they located the victim just uphill of his snowmobile.  He was buried about 2 feet deep and he did not respond to recessitation.An air ambulance arrived with an Alta ski patroller and his rescue dog but apparently the victim was found by the victim's partner and others in the area.Total burial time is unknown, but believed to be over a half hour.The avalanche was likely triggered by the weight of the snowmobile and its rider at mid slope. The avalanche broke up to near the ridge and was quite large 3-5 feet fracture crown and 600 feet wide and it descended to the bottom of the bowl.</p>&quot;);\n",
       "      marker_13._popup.options.maxWidth = 300;\n",
       "      map.addLayer(marker_13)\n",
       "      \n",
       "      var marker_14_icon = L.AwesomeMarkers.icon({ icon: 'info-sign',markerColor: 'blue',prefix: 'glyphicon',extraClasses: 'fa-rotate-0'});\n",
       "      var marker_14 = L.marker([41.050424, \n",
       "\t\t\t\t\t\t\t-111.844082],\n",
       "\t\t\t\t\t\t\t{'icon':marker_14_icon}\n",
       "\t\t\t\t\t\t\t);\n",
       "      marker_14.bindPopup(&quot;<b>14 2010 Snowmobiler nan</b\\n    <p>One snowmobiler was killed in an avalanche that he triggered on Sunday, April 4th.  He was traveling north along a ridge when a cornice he was on cracked and broke off.  This caused an avalanche to release below the cornice.  He was carried over a cliff band.  He was buried approximately 1000 feet below the ridge under 2 to 3 feet of debris. He was located by his partner with a beacon.  Davis County Search and Rescue responded and the victim was extricated via helicopter.Recent snow coupled with strong winds on Saturday caused snow to be drifted into deep drifts on the lee sides of ridges.  The Farmington Canyon/Francis Peak ridgeline is notoriously windy and large fresh cornices had formed.There will be more information posted on this later today (Tuesday April 6)</p>&quot;);\n",
       "      marker_14._popup.options.maxWidth = 300;\n",
       "      map.addLayer(marker_14)\n",
       "      \n",
       "      var marker_15_icon = L.AwesomeMarkers.icon({ icon: 'info-sign',markerColor: 'blue',prefix: 'glyphicon',extraClasses: 'fa-rotate-0'});\n",
       "      var marker_15 = L.marker([40.856199868806, \n",
       "\t\t\t\t\t\t\t-111.7549910414],\n",
       "\t\t\t\t\t\t\t{'icon':marker_15_icon}\n",
       "\t\t\t\t\t\t\t);\n",
       "      marker_15.bindPopup(&quot;<b>15 2010 Snowmobiler Grandview Peak</b\\n    <p>Stace Fleming, 48, of Morgan, UT was caught and buried on Grandview Peak on January 29th, which is in the Session Mountains, east of the city of Bountiful. He died two days later on January 31. It occurred on a slope called \\&quot;Grand Slam\\&quot; by the Wasatch Helicopter Guides, who sometimes ski in the area. He was hill climbing in the area on his snowmobile and on his first descent of a steep, north facing slope, he triggered a very large avalanche and was buried about 5 1/2 feet deep. Apparently, he tried to outrun the avalanche but was bucked off, presumably by hitting the stauchwall of the fractured slab.Wasatch Powderbird Guides happened to be skiing in the area with clients and they noticed the snowmobilers climbing in the area. The next time they looked, they noticed fresh debris with one person on the debris waving his arms. The victim had a beacon and so did his partner, but the partner had not yet located the victim when WPG landed. The guide, Steve Hall, immediately picked up a beacon signal and found the victim within a minute. Since the victim was buried about 5 1/2 feet deep, it took some time to dig him out but they still estimate the total burial time at 15-18 minutes. The victim was not breathing and did not respond to CPR. A medical helicopter was called and Air Med transported him to the hospital.The snowmobile ended up on the surface.  The victim was buried horizontally, face up with his head down slope. He was wearing a helmet and face mask.The avalanche fracture occurred around 9,000' on a north-northwest facing slope of about 38-40 degrees in steepness.  The slab fractured 3-4 feet deep, 250 feet wide, taking out the whole bowl and descended about 1000 vertical feet. From photos posted on theKSL News web site, it appeared that the avalanche fractured to the ground on faceted snow, similar to all the other avalanches this past week.The avalanche danger rating from the Utah Avalanche Center was Considerable with pockets of High with strong warnings to avoid all slopes approaching 35 degrees and steeper.  A Special Avalanche Advisory was also in effect issued through the National Weather Service.The Wasatch Powderbird Guides were the real heros in this rescue. By pure luck, they just happened to be in the area and keeping an eye on the snowmobilers. The fast, and skilled rescue by guide, Steve Hall, was undoubtedly responsible for the live recovery.  Although the victim died a couple days later, we should all appreciate the rescue efforts by Wasatch Powderbird Guides, who have abandoned their guided skiing operations many times through the years to rescue other backcountry parties who have gotten into trouble.Our condolences go out to the victim's family and friends.You can see photos of the site from theKSL News helicopter</p>&quot;);\n",
       "      marker_15._popup.options.maxWidth = 300;\n",
       "      map.addLayer(marker_15)\n",
       "      \n",
       "      var marker_16_icon = L.AwesomeMarkers.icon({ icon: 'info-sign',markerColor: 'blue',prefix: 'glyphicon',extraClasses: 'fa-rotate-0'});\n",
       "      var marker_16 = L.marker([40.617112, \n",
       "\t\t\t\t\t\t\t-111.62384],\n",
       "\t\t\t\t\t\t\t{'icon':marker_16_icon}\n",
       "\t\t\t\t\t\t\t);\n",
       "      marker_16.bindPopup(&quot;<b>16 2010 Skier nan</b\\n    <p><!--/*--><![CDATA[/* ><!--*/\\n\\n<!--\\n /* Font Definitions */\\n @font-face\\n\\t{font-family:\\&quot;Cambria Math\\&quot;;\\n\\tpanose-1:2 4 5 3 5 4 6 3 2 4;\\n\\tmso-font-charset:1;\\n\\tmso-generic-font-family:roman;\\n\\tmso-font-format:other;\\n\\tmso-font-pitch:variable;\\n\\tmso-font-signature:0 0 0 0 0 0;}\\n@font-face\\n\\t{font-family:Calibri;\\n\\tpanose-1:2 15 5 2 2 2 4 3 2 4;\\n\\tmso-font-charset:0;\\n\\tmso-generic-font-family:swiss;\\n\\tmso-font-pitch:variable;\\n\\tmso-font-signature:-1610611985 1073750139 0 0 159 0;}\\n@font-face\\n\\t{font-family:Verdana;\\n\\tpanose-1:2 11 6 4 3 5 4 4 2 4;\\n\\tmso-font-charset:0;\\n\\tmso-generic-font-family:swiss;\\n\\tmso-font-pitch:variable;\\n\\tmso-font-signature:536871559 0 0 0 415 0;}\\n /* Style Definitions */\\n p.MsoNormal, li.MsoNormal, div.MsoNormal\\n\\t{mso-style-unhide:no;\\n\\tmso-style-qformat:yes;\\n\\tmso-style-parent:\\&quot;\\&quot;;\\n\\tmargin-top:0in;\\n\\tmargin-right:0in;\\n\\tmargin-bottom:10.0pt;\\n\\tmargin-left:0in;\\n\\tline-height:200%;\\n\\tmso-pagination:widow-orphan;\\n\\tfont-size:11.0pt;\\n\\tfont-family:\\&quot;Calibri\\&quot;,\\&quot;sans-serif\\&quot;;\\n\\tmso-ascii-font-family:Calibri;\\n\\tmso-ascii-theme-font:minor-latin;\\n\\tmso-fareast-font-family:Calibri;\\n\\tmso-fareast-theme-font:minor-latin;\\n\\tmso-hansi-font-family:Calibri;\\n\\tmso-hansi-theme-font:minor-latin;\\n\\tmso-bidi-font-family:\\&quot;Times New Roman\\&quot;;\\n\\tmso-bidi-theme-font:minor-bidi;}\\n.MsoChpDefault\\n\\t{mso-style-type:export-only;\\n\\tmso-default-props:yes;\\n\\tmso-ascii-font-family:Calibri;\\n\\tmso-ascii-theme-font:minor-latin;\\n\\tmso-fareast-font-family:Calibri;\\n\\tmso-fareast-theme-font:minor-latin;\\n\\tmso-hansi-font-family:Calibri;\\n\\tmso-hansi-theme-font:minor-latin;\\n\\tmso-bidi-font-family:\\&quot;Times New Roman\\&quot;;\\n\\tmso-bidi-theme-font:minor-bidi;}\\n.MsoPapDefault\\n\\t{mso-style-type:export-only;\\n\\tmargin-bottom:10.0pt;\\n\\tline-height:200%;}\\n@page Section1\\n\\t{size:8.5in 11.0in;\\n\\tmargin:1.0in 1.0in 1.0in 1.0in;\\n\\tmso-header-margin:.5in;\\n\\tmso-footer-margin:.5in;\\n\\tmso-paper-source:0;}\\ndiv.Section1\\n\\t{page:Section1;}\\n-->\\n\\n/*--><!]]>*/The group of 3, Ricardo Presnell (51), Joey and Sarah, met at the mouth of Big Cottonwood Canyon and carpooled up to the Solitude Parking lot.Ricardo, the most experienced and a local, had chosen the tour, which he knew well.He had been touring the previous six days and was familiar with the current snowpack situation.The group skinned to top of Meadow Chutes, in Silver Fork, and skied 2 laps on the upper, lower angel slopes. The third time down was their last, so at the bottom of the upper slopes, they continued down and slightly left, stopping above a large, open convex slope.During this time they had seen no recent avalanches on similar slopes, saw any cracking, or heard any collapses.Ricardo went first, telling other 2 to stay to the right of his tracks when they skied.Ricardo disappeared over the break over after 5 turns.A few seconds later, Joey and Sarah felt and heard a large collapse (whoomph).Then saw a powder cloud and debris running up the opposite side of the valley below.Joey immediately stated, &#8220;That&#8217;s him. We gotta go.&#8221;Rescue:Joey and Sarah moved down the ridge to where they could survey the whole scene.Sarah made a kick turn and traversed into the trees away from the break over and called 911. She then became the communications coordinator, talking with rescue crews and Solitude patrol. Joey safely got onto the bed surface, and began a preliminary search, also looking for clues.Down near the bottom, he got a signal, pin pointed Ricardo&#8217;s location, and probed.On the 8thprobe, he got a strike and started digging.About 4&#8217; down, Joey hit Ricardo&#8217;s boot, and that was when Ian, a Wasatch Backcountry Rescue (WBR) member from the Solitude Ski Patrol arrived, within 17 minutes of the initial 911 call.Shortly after, two more Solitude patrollers arrived to help dig, and then more rescuers arrived. Ricardo was dug out in approximately 20 minutes.Ricardo was buried about 4 feet deep, on his back, in a wide terrain trap formed by the valley bottom.He was not breathing, had no pulse, and there were signs of trauma from the long ride.Two aspens, one about 5&#8221; in diameter had to be sawed to get his body out of the hole.The body was evacuated by WBR and the SL Co Sheriffs.</p>&quot;);\n",
       "      marker_16._popup.options.maxWidth = 300;\n",
       "      map.addLayer(marker_16)\n",
       "      \n",
       "      var marker_17_icon = L.AwesomeMarkers.icon({ icon: 'info-sign',markerColor: 'blue',prefix: 'glyphicon',extraClasses: 'fa-rotate-0'});\n",
       "      var marker_17 = L.marker([41.215563, \n",
       "\t\t\t\t\t\t\t-111.873307],\n",
       "\t\t\t\t\t\t\t{'icon':marker_17_icon}\n",
       "\t\t\t\t\t\t\t);\n",
       "      marker_17.bindPopup(&quot;<b>17 2010 Skier Hells Canyon</b\\n    <p>Report compiled by Snowbasin Snow Safety:  Frank Waikart, G.R. FletcherReviewed and Published by UAC staff.Events leading up to the accident:The 2009-10 season overall had lacked much of the snow that the local riders have grownaccustomed to. The powder days up through mid January had been few and far between.The month of January was very dry and the snow conditions were thin and very worn out.There was very little enthusiasm for any travel off of the main groomed runs. So whenthere was a report of a large storm, anticipation for new snow was definitely high. Theriding conditions improved each day as the snow continued to fall. By the morning of the24th 36 inches of new snow had made the riding conditions within the resort excellent.For the backcountry there was an avalanche warning in effect and the danger rating wasextreme.On the 24th of January, Ben Pett and Todd Bell had been skiing together all morning.Both of them were familiar with the area as they had been skiing at Snowbasin for sometime. Todd was a former employee of the resort in the mid 90&#8217;s and had good knowledgeof the terrain. Todd and Ben decided to head up the John Paul lift and make a run in the NoName area. No Name is known to be the premier powder terrain at Snowbasin ski resortwith a near continuous vertical drop of close to 3000 feet. Adjacent to No Name is easyaccess into uncontrolled backcountry terrain of Hells and Coldwater Canyon.On the lift ride up John Paul Ben stated that he and Todd had a discussion about howdangerous the conditions were in the backcountry, and because of these conditions theirplan was to ski adjacent to the boundary in No Name all the way out to the bottom of theLower Pyramid. They travelled together to near the top of No Name peak where theycaught their breath and put their skis on. Once more they discussed their plan of skiingnear the boundary and staying in bounds. This was the last place/time Ben would seeTodd (approx. 13:00 to 13:05). Ben pushed off and skied a line next to the Gazexexploder (No Name drain) and stopped in the trees on the skier&#8217;s left to look for Todd(near the ridgeline and the top of &#8220;Lust&#8221;). He looked uphill, but didn&#8217;t see Todd. Heassumed that they had just gotten separated, so he continued down the run, skiing out theLower Pyramid and coming out at the power station. He stated he reached the bottomaround 13:15. Since Todd was planning to make this his last run, Ben wasn&#8217;timmediately alarmed that his friend wasn&#8217;t there (or hadn&#8217;t waited for him). Ben wasconfident that Todd would be OK because he knew the mountain very well and was anexcellent skier. Ben then called a friend, found out what car Todd was driving, anddiscovered that his car was still in the parking lot. At this point, he became alarmed andnotified dispatch that Todd was missing. By the time he contacted the Ski Patrol theywere well into the recovery operation.Ben stated that Todd was not wearing a beacon. Todd did have a pack, but likely was notcarrying a shovel or probe. Ben was wearing a beacon.Jason Warner a friend of Todd&#8217;s also walked into dispatch and stated that Todd was agood skier. He knew the area well, both inbounds and out of bounds. He was veryexperienced in the area. He estimated that Todd had been skiing in Hell&#8217;s Canyonhundreds of times.Information from group of snowboarders on scene:On their first &#8220;lap through No Name,&#8221; a group of 5 snowboarders left the ski area at thetop of No Name, passing the Forest Service brown sign. They noticed 4 or 5 tracks aheadof them, likely snowboard tracks. None in the group carried beacons, shovels or probes,although they usually do have all three with them (gear was in the car). Unaware if theyhad checked the avalanche advisory that day.They rode down the traditional &#8220;Sloth Ridge&#8221; route and likely rode down &#8220;Pride&#8221; into&#8220;Anger Confluence.&#8221; At this point, they noticed fresh debris from an avalanche that hadcome down near the run-out of &#8220;Lust.&#8221; They reported that it appeared to have run withsome speed and force, as it looked to have washed up over the bank on the observer&#8217;s leftof the slide path. They observed dirt in the slide path. Then they continued downdrainage, traversing to the skier&#8217;s right of the drainage and debris, attempting to make thetraverse back to the ski area They travelled approximately 100 yards past the confluencewith &#8220;Lust&#8221; when Nick spotted a jacket on the surface of the snow. The victim was ontheir left, down in the bottom of the drainage. Nick skied down first and wasimmediately joined by the rest of the group. They saw a person (Todd) buried in thesnow. He was sitting upright, leaning uphill, with legs bent, almost in a ball. He had hisfeet downhill and head uphill. His head was covered by approx. 6 inches of snow, butboth knees and an arm were sticking out of the snow. He was found at the toe of thedebris. They described it like the snow had pushed him along to the very end of the slide.Tony seemed to have a basic understanding of CPR and checked for a pulse. The victimwas unresponsive from the start. He did not detect a pulse and the victim was notbreathing. At this point they called 911 and the Weber County dispatcher instructed themto begin CPR. They estimated reaching him at approx. 13:20 and made the 911 call atapprox. 13:22. They performed CPR for approximately 1 hour. They informed theWeber County dispatcher that they were still in a slide path and likely in danger, but saidthe dispatcher instructed them to continue CPR. The 911 dispatcher &#8220;called it&#8221; after onehour and they stopped CPR.A sixth snowboarder (a friend) was riding solo and joined the group at the scene sometime after they found Todd. This sixth person stated that he followed approximately thesame route as the rest of the group.The victim was described as a male in his mid-40&#8217;s. He was wearing a blue jacket, blackpants and blue alpine ski boots. No skis or poles were found on scene. Nothing was onhis head (no goggles/hat/helmet/etc.). He was not wearing gloves, but they found 2gloves, approx. 20 feet uphill from the victim. The gloves were black, Reusch &#8220;racing&#8221;gloves. He was wearing a pack, but one of the straps had been broken.The group did not have a beacon to mark the victim (in case of subsequent slides), butthey did make an &#8220;X&#8221; with branches to the skier&#8217;s left of the victim, up on a small ridge,approx. 25-30 yards away, out of the slide path.Snowbasin dispatch instructed the group to leave the scene and travel down canyonwhere Ski Patroller Doug Wewer would meet them. Doug had left the ski area boundarynear the intersection of Mustache Ridge and the Dead Deer traverse and traversed toVanity Face. He skinned up from there and travelled to a small sub-ridge just West ofVanity Face, where he could see the lower Hell&#8217;s Canyon drainage. The group informedhim that they travelled about 80 to 100 yards down canyon and around a bend before theyfirst made audible/visual contact with each other. Doug dropped into the drainagebottom, met them, discussed the exit plan and escorted them to the power station. Theyall walked together to dispatch and began paperwork.</p>&quot;);\n",
       "      marker_17._popup.options.maxWidth = 300;\n",
       "      map.addLayer(marker_17)\n",
       "      \n",
       "      var marker_18_icon = L.AwesomeMarkers.icon({ icon: 'info-sign',markerColor: 'blue',prefix: 'glyphicon',extraClasses: 'fa-rotate-0'});\n",
       "      var marker_18 = L.marker([40.871988, \n",
       "\t\t\t\t\t\t\t-110.974016],\n",
       "\t\t\t\t\t\t\t{'icon':marker_18_icon}\n",
       "\t\t\t\t\t\t\t);\n",
       "      marker_18.bindPopup(&quot;<b>18 2008 Snowmobiler nan</b\\n    <p>Details are still being sifted through, but what we know is this- a father and his three sons left the Bear River Service trailhead and rode their snowmobiles towards theMoffitBasinand ultimately landed near Yamaha Hill. Hayden Ellingford waited at the bottom of the slope as one of the riders from the group took a bite low on the slope above him, triggering a large avalanche. An organized outside rescue party found the man at approx. 17:54. He was not wearing a beacon nor did any members in his party have rescue equipment.</p>&quot;);\n",
       "      marker_18._popup.options.maxWidth = 300;\n",
       "      map.addLayer(marker_18)\n",
       "      \n",
       "      var marker_19_icon = L.AwesomeMarkers.icon({ icon: 'info-sign',markerColor: 'blue',prefix: 'glyphicon',extraClasses: 'fa-rotate-0'});\n",
       "      var marker_19 = L.marker([41.711752, \n",
       "\t\t\t\t\t\t\t-111.717181],\n",
       "\t\t\t\t\t\t\t{'icon':marker_19_icon}\n",
       "\t\t\t\t\t\t\t);\n",
       "      marker_19.bindPopup(&quot;<b>19 2008 Snowmobiler nan</b\\n    <p>Four experienced local snowmobilers were riding in the &#8220;Rodeo Grounds&#8221; area on Christmas Eve morning, the first clear day after several consecutive days under stormy weather conditions. The party triggered a huge hard slab avalanche, which buried and killed two close friends, 22-year-old Erik Jorgensen of Paradise and 23-year-old Jesse Johnson of Hyrum.The avalanche was reported to authorities at around 10:30 am via satellite phone by a member of a separate snowmobiling party. About twenty snowmobilers, who were riding in the area, helped the surviving members of the party with the rescue attempt. From what I could piece together at the scene, one of the victims was very deeply buried in the heavy debris (10-12&#8217; deep). The other was recovered in the vicinity of a grove of large spruce and fir trees. Survival of such a deep burial in avalanche deposition is extremely rare, and trauma due to impacting trees while carried by an avalanche accounts for around 25% of avalanche deaths in North America.The victims were recovered with the aid of avalanche transceivers, which each wore, and probes and shovels. After previous avalanche incidents in the area, extra probes and shovels are cached at a nearby warming hut by Cache Search and Rescue (Cache County Sheriff) and local snowmobilers&#8230;. Members of CSAR and the flight crew of the responding Life Flight medical rescue helicopter were unable to resuscitate the two young men.</p>&quot;);\n",
       "      marker_19._popup.options.maxWidth = 300;\n",
       "      map.addLayer(marker_19)\n",
       "      \n",
       "      var marker_20_icon = L.AwesomeMarkers.icon({ icon: 'info-sign',markerColor: 'blue',prefix: 'glyphicon',extraClasses: 'fa-rotate-0'});\n",
       "      var marker_20 = L.marker([40.569632, \n",
       "\t\t\t\t\t\t\t-111.641693],\n",
       "\t\t\t\t\t\t\t{'icon':marker_20_icon}\n",
       "\t\t\t\t\t\t\t);\n",
       "      marker_20.bindPopup(&quot;<b>20 2008 Skier nan</b\\n    <p>At 12:24 a group of snowboarders was on the high traverse of Northwest Mt. Baldy and watched the avalanche initiate; the crown face bisected the high traverse. The event occurred as they were crossing the slope but did not involve them. According to witness reports from near the starting zone, as the slide was in motion they spotted a person in the middle of the track who was hiking up the slope to retrieve a ski. Warnings were yelled, but when visibility returned, the slope was empty, the alarm was sounded to the ski patrol, and many public skiers and snowboarders in the area began a search for missing people. A hasty search team was immediately dispatched with dogs, beacons, and Recco. Probe teams were assembled and dispatched along with extra probes for the public on scene already searching. Due to approximately 150 people on site, their scattered equipment, and the resulting contamination of the deposition, the dogs had interest in numerous locations but were unable to locate the victim. The victim, a 27-year-old female, was the same person who had been seen hiking in the track. She was not equipped with a beacon or Recco and was located with a probe line at 58 minutes, 3&#8217; deep.</p>&quot;);\n",
       "      marker_20._popup.options.maxWidth = 300;\n",
       "      map.addLayer(marker_20)\n",
       "      \n",
       "      var marker_21_icon = L.AwesomeMarkers.icon({ icon: 'info-sign',markerColor: 'blue',prefix: 'glyphicon',extraClasses: 'fa-rotate-0'});\n",
       "      var marker_21 = L.marker([40.83482, \n",
       "\t\t\t\t\t\t\t-111.00822],\n",
       "\t\t\t\t\t\t\t{'icon':marker_21_icon}\n",
       "\t\t\t\t\t\t\t);\n",
       "      marker_21.bindPopup(&quot;<b>22 2007 Snowmobiler nan</b\\n    <p>Details are still being sifted through, but what we know is this- a group of six male snowmobilers left the Smith-Moorehousetrailhead, near 1000 Peaks Ranch for an afternoon Christmas ride at about 13:00. They climbed the terrain surrounding the ranch, playing in low angle meadows before ascendingWindyPeakand dropping into the Super Bowl. There&#8217;s conflicting stories as to how the victim became buried, but at approx. 15:30 a phone call to 9-11 was placed and a search ensued. A Summit County Search and Rescue team found the man at approx. 17:30 with an organized probe line. He was not wearing a beacon, but some members in his party had beacons, shovels and probes.</p>&quot;);\n",
       "      marker_21._popup.options.maxWidth = 300;\n",
       "      map.addLayer(marker_21)\n",
       "      \n",
       "      var marker_22_icon = L.AwesomeMarkers.icon({ icon: 'info-sign',markerColor: 'blue',prefix: 'glyphicon',extraClasses: 'fa-rotate-0'});\n",
       "      var marker_22 = L.marker([40.660164, \n",
       "\t\t\t\t\t\t\t-111.596117],\n",
       "\t\t\t\t\t\t\t{'icon':marker_22_icon}\n",
       "\t\t\t\t\t\t\t);\n",
       "      marker_22.bindPopup(&quot;<b>23 2007 Skier nan</b\\n    <p>Two men were descending upper Red Pine Chute shortly after 11 am when they triggered an avalanche. The slope had been extensive controlled the day before, and had a few tracks on it including some from the snow safety team.One man was caught, carried a ways, and ended up on top.The other man was caught, hit a tree in the lower track, and died of head trauma.A man and a child below were engulfed, with the man partially buried, and the child totally buried.A call was placed from on site to 911, and the sheriffs notified Canyons ski patrol.The father was able to dig himself out while his son remained completely buried.  The ski patrol arrived and preformed an outstanding rescue.They set up a probe line using volunteers on the scene.Within minutes, there was a strike by a 15 year old girl that was on the probe line that the snow safety had organized, and the boy was excavated from the debris with no pulse or respirations.CPR was begun immediately, and the boy was breathing on his own by the time he was loaded into the air ambulance.Response was impressively fast.He was taken to aSaltLakehospital, where he remains under care as of 12/24/07.</p>&quot;);\n",
       "      marker_22._popup.options.maxWidth = 300;\n",
       "      map.addLayer(marker_22)\n",
       "      \n",
       "      var marker_23_icon = L.AwesomeMarkers.icon({ icon: 'info-sign',markerColor: 'blue',prefix: 'glyphicon',extraClasses: 'fa-rotate-0'});\n",
       "      var marker_23 = L.marker([40.666707, \n",
       "\t\t\t\t\t\t\t-111.683493],\n",
       "\t\t\t\t\t\t\t{'icon':marker_23_icon}\n",
       "\t\t\t\t\t\t\t);\n",
       "      marker_23.bindPopup(&quot;<b>24 2007 Skier nan</b\\n    <p>A party of three experienced backcountry skiers fromNorway, familiar with the Wasatch terrain, set out for a day of ski touring in the Gobblers Knob/Mt. Raymond area.According to reports, the victim, seeking more challenging terrain, left his two partners at the Gobblers/Raymond divide and continued to the summit of Gobbler&#8217;s Knob with the plan to meet back at the trailhead within the hour.After waiting at the car for some time, the remaining two called 911 to initiate a search.A helicopter with personnel using night vision goggles verified tracks going into an avalanche high on the peak with none coming out.The body recovery efforts by both Salt Lake Country Search and Rescue and Wasatch Backcountry Rescue began the following morning. The three Norwegians were all wearing rescue gear and had called the avalanche forecast that morning.The Utah Avalanche Center had rated the danger as&#8220;CONSIDERABLEon slopes steeper than about 35 degrees facing northwest through northeast through southeast, where dangerous avalanches 1 to 3 feet deep can be triggered by people.&#8221;The forecaster, weary of the three previous fatalities that week, implored people to &#8220;Back off the steep stuff &#8211; if the close calls continue, someone else is going to get killed or hurt.&#8221;The winds were too strong for a helicopter evacuation so members from Wasatch Backcountry Rescue, Wasatch Powderbird Guides, and the Salt Lake County Sheriff brought the body down Butler Fork to the Big Cottonwood highway.  This was a very demanding task of bringing the body down this drainage not to mention just getting him off of the steep slope where he was found. These rescuers are highly skilled and should be commended for their actions.</p>&quot;);\n",
       "      marker_23._popup.options.maxWidth = 300;\n",
       "      map.addLayer(marker_23)\n",
       "      \n",
       "      var marker_24_icon = L.AwesomeMarkers.icon({ icon: 'info-sign',markerColor: 'blue',prefix: 'glyphicon',extraClasses: 'fa-rotate-0'});\n",
       "      var marker_24 = L.marker([41.211302, \n",
       "\t\t\t\t\t\t\t-111.878414],\n",
       "\t\t\t\t\t\t\t{'icon':marker_24_icon}\n",
       "\t\t\t\t\t\t\t);\n",
       "      marker_24.bindPopup(&quot;<b>25 2007 Skier Hells Canyon</b\\n    <p>Note: most of this information was provided by the Snowbasin Ski Patrol.  UAC staff did not directly investigate the accident because of lingering, dangerous avalanche conditions and poor weather conditions.Events leading up to the accident:A father and his two sons were skiing at Snowbasin resort.  Later in the day, they headed out-of-bounds into the Hell&#8217;s Canyon area, an area north of Snowbasin where avalanche hazard is not mitigated with explosives, nor patrolled.  Their objective was to ski powder.  The group had little or no avalanche training and had no rescue gear.  While descending, the sons skied ahead of their father and got separated.  The details are not clear, but a slide was triggered and Brian Schwartz the seventeen year-old son was caught in the slide.  Brian was swept approximately 1500 vertical feet down the slope and was buried.  He had significant trauma to his face and head and appeared to have died of trauma.   Brian&#8217;s father and other bother arrived at the site some time after the slide had happened.  They found one of Brian&#8217;s skis and continued to look for him around the area.  Soon afterwards two snowboarders arrived and saw what had happened.  They also found a helmet and liner below the toe of the debris.  They immediately came to dispatch to report the incident.  The father and brother were also brought to dispatch shortly after.Rescue:Ski Patrol dispatched an initial response task force.  This was made up of two teams; the first team came in from above; 3 pros and one dog.  A second team came in from below via snowmobile and foot; two pros and a dog.  The first team arrived and searched the pile with beacons, Reccos, dog and spot probing.  The second team arrived and also searched with dog and spot probing.  After the initial search came up negative a first column was dispatched from the top.  This included 4 pros with avalanche rescue gear.  When the first column arrived a probe line was started.  After probing for nearly an hour a strike was made and Brian&#8217;s body was recovered approximately 6 feet under.  Although he appeared dead rescue efforts were taken until a life flight helicopter could host the body back to the base of Snowbasin.  All patrollers returned to the based area without further incident.</p>&quot;);\n",
       "      marker_24._popup.options.maxWidth = 300;\n",
       "      map.addLayer(marker_24)\n",
       "      \n",
       "      var marker_25_icon = L.AwesomeMarkers.icon({ icon: 'info-sign',markerColor: 'blue',prefix: 'glyphicon',extraClasses: 'fa-rotate-0'});\n",
       "      var marker_25 = L.marker([40.393071, \n",
       "\t\t\t\t\t\t\t-111.140785],\n",
       "\t\t\t\t\t\t\t{'icon':marker_25_icon}\n",
       "\t\t\t\t\t\t\t);\n",
       "      marker_25.bindPopup(&quot;<b>26 2007 Snowmobiler nan</b\\n    <p>Five young snowmobilers, four males and one female (16-19 years old), began their day snowmobiling in the terrain surrounding the accident site. Most of them were wearing avalanche rescue gear, though those details are still being sifted through. Many clues to instability were missed along the way, including natural avalanches close to the accident site. In addition, at least one large hard slab avalanche was triggered without incident, about a &#188; mile north of the accident site prior to the fatality. This slide was 2&#8217;-3&#8217; deep, 250&#8217; wide, running about 150&#8217; vertically. It most likely emboldened the group, luring them deeper into the avalanche dragons den. This group was very familiar with the terrain and had triggered small avalanches in the area on past outings.Around16:00the group traveled to the southwest of the avalanche they just triggered and regrouped at the bottom of a south facing slope. Several riders climbed the 32 degree slope above them without incident. Sixteen year old Zachary Holmes began climbing the slope too, but when he neared the top, he began &#8220;side-hilling&#8221; towards a steeper adjacent slope which had more of an easterly aspect. As he changed aspect and slope angle, he triggered a large hard slab avalanche 2&#8217;-4&#8217; deep and 300&#8217;-325&#8217; wide.His partners turned their beacons on to receive and began searching. There was plenty of confusion and several random holes were dug 75&#8217; uphill from where Zachary was finally located, buried 3&#8217; under his snowmobile which was sticking out of the snow. After he was found, two young men stayed on the scene and began CPR while a male and female rode back to the trailhead to make a cell phone call and alert local authorities. Much to their dismay their phones didn&#8217;t work at the trailhead, but a family with an &#8220;OnStar&#8221; system in the vehicle placed a call and Wasatch County Search and Rescue was dispatched.Back at the scene, as the older brother performed CPR an Airmed helicopter located the accident site and dropped a flight nurse off at the scene. Zachary was flown to a local hospital where he died of traumatic injuries.</p>&quot;);\n",
       "      marker_25._popup.options.maxWidth = 300;\n",
       "      map.addLayer(marker_25)\n",
       "      \n",
       "      var marker_26_icon = L.AwesomeMarkers.icon({ icon: 'info-sign',markerColor: 'blue',prefix: 'glyphicon',extraClasses: 'fa-rotate-0'});\n",
       "      var marker_26 = L.marker([38.628762622838, \n",
       "\t\t\t\t\t\t\t-112.02303885136],\n",
       "\t\t\t\t\t\t\t{'icon':marker_26_icon}\n",
       "\t\t\t\t\t\t\t);\n",
       "      marker_26.bindPopup(&quot;<b>27 2007 Snowmobiler Near Signal Mountain</b\\n    <p>Events leading up to the accident:The accident happened in a popular snowmobiling area of rolling hills with short, slopes.  The victim was highmarking a slope when he triggered the avalanche.  Since there were trees at the bottom, he could not outrun the avalanche.  He was not wearing a beacon.  He was with two other snowmobilers during the day.  They were separated at the time of the accident.  The two others did not think anything about the fact that they were separated, they just figured Michael took a different route.  They returned to an area where Micheal should have shown up.  When he didn&#8217;t, they knew something was wrong.Rescue:Both the victim and his snowmobile were completely buried.  Companions at the scene called for a rescue, but before rescuers could arrive, they randomly dug the search area, which was fairly small&#8212;70 x 30 feet.  They found his snowmobile and while digging it out, they found the victim&#8217;s hand.  He was buried sitting up with his head 2-3 feet deep and his hand was reaching upward.  The victim did not respond to CPR.</p>&quot;);\n",
       "      marker_26._popup.options.maxWidth = 300;\n",
       "      map.addLayer(marker_26)\n",
       "      \n",
       "      var marker_27_icon = L.AwesomeMarkers.icon({ icon: 'info-sign',markerColor: 'blue',prefix: 'glyphicon',extraClasses: 'fa-rotate-0'});\n",
       "      var marker_27 = L.marker([40.581465, \n",
       "\t\t\t\t\t\t\t-111.584144],\n",
       "\t\t\t\t\t\t\t{'icon':marker_27_icon}\n",
       "\t\t\t\t\t\t\t);\n",
       "      marker_27.bindPopup(&quot;<b>28 2006 Snowboarder nan</b\\n    <p>Accident Summary:Two snowboarders decided to leave theBrightonski resort afternoon on Monday.They rode the Crest lift then exited through the ski area boundary gate and hiked up the ridge heading towardPioneerPeak.Once they were near the intended ski decent, one of them had a large cornice break underneath him which in turn triggered a sizeable avalanche that swept him down the slope.He was carried over a sizeable section of rocks.The time was approximately 1:30 pm.Rescue Summary:The victim&#8217;s partner quickly started down an adjacent slope and made a quick search of the debris pile.Neither of them had any avalanche rescue gear with them.After he was unable to locate his friend he returned toBrightonto summon the ski patrol.At 1:55 pm ski patrol dispatched the initial search party along with the witness.One of the ski patrols located a hand sticking out of the debris pile and they made the recovery at 2:21.The victim was buried about 1 &#189; feet deep.Resuscitation efforts were applied and a Life Flight helicopter was sent to the accident sight where the victim was loaded and flown to the hospital where he was pronounced dead.An autopsy revealed he died form blunt force injuries to the torso but also showed signs of asphyxia.The injuries were serious enough that he probably wouldn&#8217;t have survived despite the signs he may have been breathing when he came to a stop.</p>&quot;);\n",
       "      marker_27._popup.options.maxWidth = 300;\n",
       "      map.addLayer(marker_27)\n",
       "      \n",
       "      var marker_28_icon = L.AwesomeMarkers.icon({ icon: 'info-sign',markerColor: 'blue',prefix: 'glyphicon',extraClasses: 'fa-rotate-0'});\n",
       "      var marker_28 = L.marker([41.204845, \n",
       "\t\t\t\t\t\t\t-111.888671],\n",
       "\t\t\t\t\t\t\t{'icon':marker_28_icon}\n",
       "\t\t\t\t\t\t\t);\n",
       "      marker_28.bindPopup(&quot;<b>29 2006 Snowboarder nan</b\\n    <p>Accident Summary:We still have not talked directly to the witness so we are missing some information on the accident.What we do know is that two people left the Snowbasin ski area Saturday, March 11thand headed intoTaylorCanyon.Both of them were snowboarding and neither of them had avalanche rescue equipment.At around 3 pm one or both of them triggered an avalanche that caught one of them and buried him.It broke about 15&#8217; above them.The person that was not caught searched for about an hour starting in some trees just down the slope from the fracture line which was the last place he saw the victim.The witness continued down the avalanche path with no luck locating the victim then continued out the drainage intoOgdenwhere he alerted authorities.A helicopter was dispatched to survey the area and avalanche workers were able to locate the avalanche along with a few others that had run as well.Time was too short late in the day to dispatch an initial response team so the search was called off until morning.Rescue Summary:Efforts were organized early Sunday morning but weather did not permit a snow safety team to do control work on slopes that had the potential to avalanche onto the area where the search party would be.Lees and Kobernik along with G.R. of the Snowbasin patrol attempted to travel to the fracture line.Unstable snow and very radical terrain kept them from doing this safely so the mission was aborted.Some clearing was taking place by late Sunday and avalanche control work was performed.Explosives did produce avalanching that covered the initial debris pile.The initial search party was dispatched but unable to locate the victim.The Weber County Sheriff had closed theTaylorCanyonaccess from Snowbasin until the search is done so that potential skiers above the rescue party don&#8217;t put them in danger.On Sunday the witness was questioned by the search teams and it was determined to conduct a search in the trees near the starting zone which was the last place the victim was seen.This was not done the night before because lack of time.Dogs immediately picked up the scent and the victim was found about 150&#8217; below the fracture line where he was hung up on a tree.It appears he was slammed into a tree and died of trauma.</p>&quot;);\n",
       "      marker_28._popup.options.maxWidth = 300;\n",
       "      map.addLayer(marker_28)\n",
       "      \n",
       "      var marker_29_icon = L.AwesomeMarkers.icon({ icon: 'info-sign',markerColor: 'blue',prefix: 'glyphicon',extraClasses: 'fa-rotate-0'});\n",
       "      var marker_29 = L.marker([40.38892, \n",
       "\t\t\t\t\t\t\t-111.640491],\n",
       "\t\t\t\t\t\t\t{'icon':marker_29_icon}\n",
       "\t\t\t\t\t\t\t);\n",
       "      marker_29.bindPopup(&quot;<b>30 2005 Unknown nan</b\\n    <p>Accident Summary:Two men were caught in a large hard slab avalanche Saturday afternoon, December 31, while snowshoeing nearEmeraldLake.One man ended up on top of the debris uninjured.He was unable to locate his friend, who was presumed buried in the debris.Rescue Summary:By around 4:30 pm the weather cleared enough for a helicopter to fly and extricated the one man that was not completely buried.Due to poor weather conditions, no organized rescue was possible Saturday night.On Sunday a rescue party was organized but it was determined that avalanche danger was too high for rescuers to proceed.Search efforts have been called off until later in the week due to high avalanche danger and another strong storm forecast to affect the area Monday into Tuesday.Later, rescue efforts producednothing until the spring thaw when the body was found.</p>&quot;);\n",
       "      marker_29._popup.options.maxWidth = 300;\n",
       "      map.addLayer(marker_29)\n",
       "      \n",
       "      var marker_30_icon = L.AwesomeMarkers.icon({ icon: 'info-sign',markerColor: 'blue',prefix: 'glyphicon',extraClasses: 'fa-rotate-0'});\n",
       "      var marker_30 = L.marker([41.603891, \n",
       "\t\t\t\t\t\t\t-111.436043],\n",
       "\t\t\t\t\t\t\t{'icon':marker_30_icon}\n",
       "\t\t\t\t\t\t\t);\n",
       "      marker_30.bindPopup(&quot;<b>31 2005 Snowmobiler nan</b\\n    <p>Accident Summery:On Thursday March 31st a group of five snowmobilers left the Monte Cristo trailhead, located nearOgden,Utah, for a day of snowmobiling. The terrain is relatively benign and is an area many locals go to when there is an avalanche danger on nearby steep, climbing hills. The group was very familiar with the terrain and was thinking about the avalanche conditions, and they were all wearing beacons, shovels, and probes.Four of the riders stopped on top of a slope just to the south of &#8220;Whiskey Hill&#8221;. The fifthsledderand avalanche victim passed by them, and much to everyone&#8217;s surprise began descending a steep adjacent slope to the south, namedEcclesPeak.The snowmobiler was only about 20&#8217; onto the slope when he propagated a large avalanche.Rescue Summery:One of the members of the party drove to the top of the slope, got off his machine and ran down the bed surface while the rest of the party approached from the bottom of the slope. Within a matter of minutes the fellow descending the slope pinpointed the victim in a tight group of trees and within 7 or 8 minutes the party had the victim dug out. He wasn&#8217;t conscious or breathing andc.p.r. was performed. At approx. 10:51 a cell phone call was made to 911 and both the Rich County Sheriff and Life Flight responded. While a coroners report was not yet available, it seems that massive chest trauma was the cause of death.</p>&quot;);\n",
       "      marker_30._popup.options.maxWidth = 300;\n",
       "      map.addLayer(marker_30)\n",
       "      \n",
       "      var marker_31_icon = L.AwesomeMarkers.icon({ icon: 'info-sign',markerColor: 'blue',prefix: 'glyphicon',extraClasses: 'fa-rotate-0'});\n",
       "      var marker_31 = L.marker([40.651471, \n",
       "\t\t\t\t\t\t\t-111.592426],\n",
       "\t\t\t\t\t\t\t{'icon':marker_31_icon}\n",
       "\t\t\t\t\t\t\t);\n",
       "      marker_31.bindPopup(&quot;<b>32 2005 Snowboarder Dutch's Draw</b\\n    <p>Accident Summary:A group of five out-of-state snowboarders went to the Canyons Resort for the day and they rode to the top of the Peak 9990.They saw the nearby slopes of Dutch Draw with several dozenskiand snowboard tracks in it and noticed several other parties hiking into the area.Although most of the party members had beacons and shovels in their cars, they did not bring them that day because they did not plan to go into the backcountry.Two of the party members had taken a level I avalanche class. The party knew about the avalanche danger because they discussed it at length the previous night.They decided to go into the backcountry that day because it looked like a number of other people were doing it without incident.They hiked the 200 yards to the top of Peak 9990 and left from the backcountry access gate, which is clearly marked with several signs warning of the danger.To leave the boundary, one must push open a gate with a large, white sign attached showinga skulland crossbones marked in large letters &#8220;You May Die&#8221;.It is legal to access the backcountry, which National Forest, but the Canyons Resorts wants to make sure everyone knows that there is no avalanche control beyond their rope lines.They hiked south along the ridge about a half mile to the top of Dutch Draw.On the way, they passed one avalanche path that had dozens of tracks in it and they went to the next path locally known as &#8220;Conehead&#8221; because of its shape from a distance.They hiked to thehigh point, which had only a few tracks in it and decided that it was too dangerous and they backtracked to an area where the slope angle is gentler and they could utilize an island of thick conifer trees to safely get down into the upper third of the slope.They descended through the island of trees and they planned to enter the slope from the side by passing beneath a vertical cliff band.Onesnowboarderenteredthe slope below the cliff andShaneMaixner, 27, decided to jump off the lower portion of the cliff onto the slope&#8212;a drop of about 20 feet.He appeared to trigger the avalanche when he landed and he was engulfed in the slide.The first snowboarder managed to escape off the nearby flank of the avalanche.Rescue Summary:The group of snowboarders descended the avalanche bed surface and began probing with tree branches for their friend.They also called 911 on their cell phone and ski patrol from the Canyons Resort responded within about 20 minutes.After rescuers determined that the party did not have beacons and that they did not get any beacon signals from the rest of the debris, they decided that conditions were too dangerous to put a larger group of rescuers onto the slope.They escorted the remaining four snowboarders out of the area and WasatchPowderbirdGuides dropped explosives onto the upper part of the avalanche path.They triggered the next slope to the north with another large, hard slab avalanche, which was not quite as large as the original slide, but they did not trigger anyhangfireabove the original avalanche.The Summit County Sheriff took over the rescue and brought in a larger team from the Summit County Search and Rescue along with personnel from Wasatch Backcountry Rescue.They used avalanche rescue dogs and probes.They finally found the body of ShaneMaixnertwo days after the accident, buried four feet deep in a grove of trees on the extreme north edge of the avalanche path.It proved very difficult to know how many people were caught in the slide because of widely conflicting witness accounts.The original party of snowboarders reported that they believed that they were alone in the bowl.They did not notice any one else.Three other parties, however, reported other people in the bowl.First, a party at the top of the slope was video taping the scenery from the ridge when they heard the roar of the avalanche.When they looked over the edge and continued to video the slide.The tape, reportedly, was of poor quality and inconclusive about other parties in the bowl.Second, two snowboarders were building jumps on the flats below just to the north of the avalancherunoutand they were adamant that they saw others on the slope and were able to give descriptions of clothing and exact locations.Third, a party hiking up to the backcountry access point from the top of the 9990 lift claimed to see a lone skier going across the flats at the bottom, who was overcome by the slide.Since many of the people who ski at the Canyons Resort are on vacation, it was very difficult to know who was missing at the end of the day.In fact, it took until January 17th&#8212;three days after the accident, to whittle the list down.The Summit County Sheriff announced that there was likely only one fatality and he called off the search.Media interest was intense because the some witnesses to the avalanche initially indicated that there may have been 15 people buried.On the heels of the large mudslides inCalifornia, the national media arrived in droves and it became headline news across the country and the lead story in many of the television news programs for the next several days.</p>&quot;);\n",
       "      marker_31._popup.options.maxWidth = 300;\n",
       "      map.addLayer(marker_31)\n",
       "      \n",
       "      var marker_32_icon = L.AwesomeMarkers.icon({ icon: 'info-sign',markerColor: 'blue',prefix: 'glyphicon',extraClasses: 'fa-rotate-0'});\n",
       "      var marker_32 = L.marker([39.311399, \n",
       "\t\t\t\t\t\t\t-111.472757],\n",
       "\t\t\t\t\t\t\t{'icon':marker_32_icon}\n",
       "\t\t\t\t\t\t\t);\n",
       "      marker_32.bindPopup(&quot;<b>33 2005 Snowboarder nan</b\\n    <p>Garrett Luke Gordan, a 26 year old snowboarder from Ephriam, triggered an avalanche inEphriamCanyonand was buried about 30 minutes before his partner located him with a beacon.He administered CPR and was flown by Life Flight to aSaltLakearea hospital.</p>&quot;);\n",
       "      marker_32._popup.options.maxWidth = 300;\n",
       "      map.addLayer(marker_32)\n",
       "      \n",
       "      var marker_33_icon = L.AwesomeMarkers.icon({ icon: 'info-sign',markerColor: 'blue',prefix: 'glyphicon',extraClasses: 'fa-rotate-0'});\n",
       "      var marker_33 = L.marker([39.573416688873, \n",
       "\t\t\t\t\t\t\t-111.32464026249],\n",
       "\t\t\t\t\t\t\t{'icon':marker_33_icon}\n",
       "\t\t\t\t\t\t\t);\n",
       "      marker_33.bindPopup(&quot;<b>34 2005 Snowmobiler North Fork North Creek - Chokecherry Ridge</b\\n    <p>David Wayne Johnson, 42, of South Jordan triggered an avalanche in the Choke Cherry area east of Mt. Pleasant and was buried.  His companions located him, dug him out and he did not respond to CPR.  It is unknown whether he was wearing a beacon.All of Utah was hit by another large, Pacific storm with extremely strong winds, heavy snow and warming temperatures.  The Forest Service Utah Avalanche Center had an Avalanche Warning in effect for all the mountains of Utah with a High avalanche danger.This makes 6 fatalities for Utah this winter, which ties the all-time record for avalanche fatalities.</p>&quot;);\n",
       "      marker_33._popup.options.maxWidth = 300;\n",
       "      map.addLayer(marker_33)\n",
       "      \n",
       "      var marker_34_icon = L.AwesomeMarkers.icon({ icon: 'info-sign',markerColor: 'blue',prefix: 'glyphicon',extraClasses: 'fa-rotate-0'});\n",
       "      var marker_34 = L.marker([40.607425, \n",
       "\t\t\t\t\t\t\t-111.683214],\n",
       "\t\t\t\t\t\t\t{'icon':marker_34_icon}\n",
       "\t\t\t\t\t\t\t);\n",
       "      marker_34.bindPopup(&quot;<b>35 2004 Unknown Mineral Fork</b\\n    <p>Accident Summary:Two snowshoers were reported as overdue when they failed to return from a walk up Mineral Fork on Saturday, December 11th.Victim are BruceQuint, 59, and Melvin Dennis, 37, both fromSalt Lake City.Rescue Summary:Saturday night, two skiers from Salt Lake Country Search and Rescue followed snowshoe tracks to the base of a large headwall at the upper end of Mineral Fork where the tracks disappear under fresh avalanche debris and did not appear again on the other side.The two snowshoers were the first people to travel up Mineral Fork after the large storm, which ended two days earlier.Searchers could find no beacon signals in the debris, nor visual clues.Neither of the victims wore beacons.  In consultation with several avalanche experts, including one who flew over the area in a helicopter that night, they decided that conditions were too dangerous to bring in a larger team of searchers that night.On Sunday morning personnel from Wasatch Powderbird Guides controlled the area with explosives, which triggered widespread avalanches in remainder of the canyon as well as hang fire above the accident site.They flew teams of rescuers to the site including Salt Lake County Sheriff&#8217;s Search and Rescue, Wasatch Backcountry Rescue, a volunteer group of ski area personnel operating under the Salt Lake County Sheriff.The helicopter was from Utah Highway Patrol.They searched the area using trained avalanche rescue dogs and probed areas where the dogs indicated interest.At 11:30, they found Melvin Dennis buried about four feet deep and more-or-less in line with the tracks which entered the debris.They found the second victim BruceQuint, on Monday, December 13, 2004 around 10:00 am about 25 yards uphill from the first victim and buried over eight feet deep.Both victims appeared to have been simply pushed over by the debris and buried without being tumbled and were probably buried fairly near their initial positions.</p>&quot;);\n",
       "      marker_34._popup.options.maxWidth = 300;\n",
       "      map.addLayer(marker_34)\n",
       "      \n",
       "      var marker_35_icon = L.AwesomeMarkers.icon({ icon: 'info-sign',markerColor: 'blue',prefix: 'glyphicon',extraClasses: 'fa-rotate-0'});\n",
       "      var marker_35 = L.marker([40.289733, \n",
       "\t\t\t\t\t\t\t-111.116167],\n",
       "\t\t\t\t\t\t\t{'icon':marker_35_icon}\n",
       "\t\t\t\t\t\t\t);\n",
       "      marker_35.bindPopup(&quot;<b>36 2004 Snowmobiler Trout Creek</b\\n    <p>Accident Summary:Two males had been snowmobiling in the upper Trout Creek drainage. They decided to go to a slope very familiar to them. At around11:30they arrived at the base of the slope. They decided the more experienced of the two, who was wearing a beacon and did have a shovel, would attempt to climb the slope first. About mid way up, he got his machine stuck. He worked on it for a while, got hot and took off his helmet. While he was trying to get unstuck his partner, who had no rescue gear, climbed an adjacent slope. His intention was to get high enough on the slope in order to ride down to the stuck machine and assist in the excavation. As the witness got to the top of a bench he saw the crown start to propagate on the same slope the victim was on. The witness realized a large avalanche had been triggered. He circled back around to find no sign of the victim.Rescue Summary:The witness rode his machine to a nearby ridge and called 911. He also flagged down 3 or 4 riders to help him with the search. They followed him back and began probing likely areas with broken branches. The witness then jumped back on his machine and climbed another ridge and flagged down two riders who had beacons, shovels, and probes. They returned to the scene and found the victim within 5-7 minutes after their arrival using their beacons.It took another 7-10 minutes to dig him out. He was buried about 4&#8217; deep, face up, not breathing and CPR was initiated. His machine was buried as well and later located about 60&#8217; downhill.</p>&quot;);\n",
       "      marker_35._popup.options.maxWidth = 300;\n",
       "      map.addLayer(marker_35)\n",
       "      \n",
       "      var marker_36_icon = L.AwesomeMarkers.icon({ icon: 'info-sign',markerColor: 'blue',prefix: 'glyphicon',extraClasses: 'fa-rotate-0'});\n",
       "      var marker_36 = L.marker([40.593686, \n",
       "\t\t\t\t\t\t\t-111.608391],\n",
       "\t\t\t\t\t\t\t{'icon':marker_36_icon}\n",
       "\t\t\t\t\t\t\t);\n",
       "      marker_36.bindPopup(&quot;<b>37 2004 Skier nan</b\\n    <p>A local 23 year old male triggered a 1-3&#8217; deep hard slab avalanche in which he was caught, carried, and buried.  The victim was traversing a 35 degree northeast facing slope when it fractured 80&#8217; above him and 200&#8217; wide.His partner, waiting in a safe zone, immediately began the search, but upon recovery, found no signs of life.The victim&#8217;s partner was able to make a 911 call on his cell, which alerted the sheriff&#8217;s department and WBR.Wasatch Backcountry Rescue, in this case consisting of Solitude ski patrollers, was soon on the scene and able to efficiently extricate, package, and transport the victim to a landing zone nearTwinLakes.Life flight then transported the victim to a hospital inSalt Lake City.</p>&quot;);\n",
       "      marker_36._popup.options.maxWidth = 300;\n",
       "      map.addLayer(marker_36)\n",
       "      \n",
       "      var marker_37_icon = L.AwesomeMarkers.icon({ icon: 'info-sign',markerColor: 'blue',prefix: 'glyphicon',extraClasses: 'fa-rotate-0'});\n",
       "      var marker_37 = L.marker([40.402883420812, \n",
       "\t\t\t\t\t\t\t-111.61196993608],\n",
       "\t\t\t\t\t\t\t{'icon':marker_37_icon}\n",
       "\t\t\t\t\t\t\t);\n",
       "      marker_37.bindPopup(&quot;<b>39 2003 Natural Aspen Grove, Elk Point area</b\\n    <p>Below is a brief narrative from the UAC annual report 2003-04</p>&quot;);\n",
       "      marker_37._popup.options.maxWidth = 300;\n",
       "      map.addLayer(marker_37)\n",
       "      \n",
       "      var marker_38_icon = L.AwesomeMarkers.icon({ icon: 'info-sign',markerColor: 'blue',prefix: 'glyphicon',extraClasses: 'fa-rotate-0'});\n",
       "      var marker_38 = L.marker([40.669644, \n",
       "\t\t\t\t\t\t\t-111.684778],\n",
       "\t\t\t\t\t\t\t{'icon':marker_38_icon}\n",
       "\t\t\t\t\t\t\t);\n",
       "      marker_38.bindPopup(&quot;<b>40 2003 Skier Gobblers Knob</b\\n    <p>We are currently transferring our paper documents to our website.  Details for avalanches between 1987 and 2003 will be available soon.</p>&quot;);\n",
       "      marker_38._popup.options.maxWidth = 300;\n",
       "      map.addLayer(marker_38)\n",
       "      \n",
       "      var marker_39_icon = L.AwesomeMarkers.icon({ icon: 'info-sign',markerColor: 'blue',prefix: 'glyphicon',extraClasses: 'fa-rotate-0'});\n",
       "      var marker_39 = L.marker([40.58208070446, \n",
       "\t\t\t\t\t\t\t-111.58633373855],\n",
       "\t\t\t\t\t\t\t{'icon':marker_39_icon}\n",
       "\t\t\t\t\t\t\t);\n",
       "      marker_39.bindPopup(&quot;<b>41 2002 Snowboarder North face of Pioneer Peak</b\\n    <p>Richard Jones, 19 and Allen Chatwin, 18, died in a large avalanche they triggered off of Pioneer Ridge, a backcountry area west of Brighton Ski Resort. Twelve young snowboarders rode the Crest lift at Brighton and proceeded past the ski area boundary to Pioneer Peak to build some jumps in the Dog Lake area. As the two victims traversed a very steep, 50-degree slope just below the ridge, they triggered a 300 foot wide, 2-8 feet deep hard slab that took out the entire bowl. Luckily, all of the other snowboarders were off to the side at the time. No one in the party carried any beacons although they did have several shovels with them for building jumps. Ski patrollers from Alta and Brighton responded and located the victims using avalanche rescue dogs. They had both died from asphyxiation.</p>&quot;);\n",
       "      marker_39._popup.options.maxWidth = 300;\n",
       "      map.addLayer(marker_39)\n",
       "      \n",
       "      var marker_40_icon = L.AwesomeMarkers.icon({ icon: 'info-sign',markerColor: 'blue',prefix: 'glyphicon',extraClasses: 'fa-rotate-0'});\n",
       "      var marker_40 = L.marker([40.811451136089, \n",
       "\t\t\t\t\t\t\t-111.10864295801],\n",
       "\t\t\t\t\t\t\t{'icon':marker_40_icon}\n",
       "\t\t\t\t\t\t\t);\n",
       "      marker_40.bindPopup(&quot;<b>42 2002 Skier Windy Ridge; One drainage east of Stillman Creek</b\\n    <p>During the second half of January various backcountry travelers triggered about a dozen large avalanches in the backcountry on the January 6th crust, which caught people on three different occasions. Finally, on January 31st, the inevitable happened&#8212;the first fatality occurred on that fateful layer.The death of Brian Roust shook the avalanche community to its core because Brian was not only a fellow avalanche worker, but he was very experienced and cagy. Yes, Brian fit the description of the typical avalanche victim as he was male in his late 20&#8217;s and was very skilled in his sport. But he did not fit the profile in that he was a very experienced avalanche worker who had patrolled at Park City and was a route leader at the Canyons Resort at the time of the accident. Not many avalanche professionals die in avalanches.Brian was skiing in one of his favorite backcountry areas on the Thousand Peaks Ranch, which is private land in the western Uinta Mountains in the Weber River drainage east of Oakley. At least three different parties were skiing in the area and one party of four had skied in the area the day before. As the party of four skied one bowl, Brian and his partner skied an adjacent bowl with his two dogs. The party in the other bowl triggered a large avalanche some distance away from their ski track but no one was caught. Brian and his partner saw this avalanche occur and were on their way back up to the top to regroup with others and talk about the situation.Brian, a notoriously fit backcountry skier, was out ahead of his partner as they climbed. When Brian neared the top of the slope, he triggered the avalanche that killed him. We do not know yet whether he was going up or down when he triggered the avalanche. The avalanche carried Brian and his dog down the slope and buried them.Brian&#8217;s partner and members of the other party searched the debris with avalanche rescue beacons. The first beacon they found was loose in the snow and not attached to anything&#8212;which was a beacon that Brian had attached to his dog and the avalanche had apparently stripped off. The searchers found Brian when they located the second beacon, buried 4 feet deep and he was apparently dead from the trauma of hitting trees on the way down.We do not know whether Brian called the avalanche report before heading out, although the Uinta Mountains are outside our forecast area. On that day, Tom Kimbrough&#8217;s forecast prophetically called the conditions &#8220;tricky and dangerous&#8221; and that the avalanches &#8220;break unexpectedly above you and wider than usual.&#8221;On the same day, an experienced ski patroller triggered an avalanche in the backcountry of Cardiff fork, and rode the avalanche about 1000 vertical feet.</p>&quot;);\n",
       "      marker_40._popup.options.maxWidth = 300;\n",
       "      map.addLayer(marker_40)\n",
       "      \n",
       "      var marker_41_icon = L.AwesomeMarkers.icon({ icon: 'info-sign',markerColor: 'blue',prefix: 'glyphicon',extraClasses: 'fa-rotate-0'});\n",
       "      var marker_41 = L.marker([40.613918777396, \n",
       "\t\t\t\t\t\t\t-111.73645304287],\n",
       "\t\t\t\t\t\t\t{'icon':marker_41_icon}\n",
       "\t\t\t\t\t\t\t);\n",
       "      marker_41.bindPopup(&quot;<b>43 2001 Natural Stairs Gulch</b\\n    <p>During very warm, springtime conditions, a local doctor and his friend from Alaska (also a doctor) left at 4:00 am on April 28th to climb Stairs Gulch with crampons, ice axes and a rope, but no beacons. Stairs Gulch is a very steep and very large avalanche path (5,000 vertical feet) near the bottom of Big Cottonwood Canyon. Few people venture into Stairs Gulch during the winter but sometimes climbers like to test their snow skills there in spring. As the pair ascended in the early morning darkness a large glide avalanche released high above them and descended into the narrow gully they were ascending. When they failed to show up by their scheduled noon return time, searchers found the boot of one victim sticking out of the snow and a search dog located the second victim about four hundred yards above the first victim and he was buried about 8 feet deep.This is the first known fatality from a glide avalanche in Utah and perhaps the only one in the U.S. Glide avalanches occur when wet snow slides slowly on the ground, similar to a glacier, often for several days, until they randomly release.</p>&quot;);\n",
       "      marker_41._popup.options.maxWidth = 300;\n",
       "      map.addLayer(marker_41)\n",
       "      \n",
       "      var marker_42_icon = L.AwesomeMarkers.icon({ icon: 'info-sign',markerColor: 'blue',prefix: 'glyphicon',extraClasses: 'fa-rotate-0'});\n",
       "      var marker_42 = L.marker([40.666813894744, \n",
       "\t\t\t\t\t\t\t-111.60504411355],\n",
       "\t\t\t\t\t\t\t{'icon':marker_42_icon}\n",
       "\t\t\t\t\t\t\t);\n",
       "      marker_42.bindPopup(&quot;<b>45 2001 Skier Red Rock Cliffs just north of Squaretop</b\\n    <p>We are currently transferring our paper documents to our website.  Details for avalanches between 1987 and 2003 will be available soon.</p>&quot;);\n",
       "      marker_42._popup.options.maxWidth = 300;\n",
       "      map.addLayer(marker_42)\n",
       "      \n",
       "      var marker_43_icon = L.AwesomeMarkers.icon({ icon: 'info-sign',markerColor: 'blue',prefix: 'glyphicon',extraClasses: 'fa-rotate-0'});\n",
       "      var marker_43 = L.marker([41.413334480493, \n",
       "\t\t\t\t\t\t\t-111.96948193191],\n",
       "\t\t\t\t\t\t\t{'icon':marker_43_icon}\n",
       "\t\t\t\t\t\t\t);\n",
       "      marker_43.bindPopup(&quot;<b>46 2000 Snowmobiler 2 miles north of Willard Peak along its north ridge</b\\n    <p>We are currently transferring our paper documents to our website.  Details for avalanches between 1987 and 2003 will be available soon.</p>&quot;);\n",
       "      marker_43._popup.options.maxWidth = 300;\n",
       "      map.addLayer(marker_43)\n",
       "      \n",
       "      var marker_44_icon = L.AwesomeMarkers.icon({ icon: 'info-sign',markerColor: 'blue',prefix: 'glyphicon',extraClasses: 'fa-rotate-0'});\n",
       "      var marker_44 = L.marker([40.664924561855, \n",
       "\t\t\t\t\t\t\t-111.60094648513],\n",
       "\t\t\t\t\t\t\t{'icon':marker_44_icon}\n",
       "\t\t\t\t\t\t\t);\n",
       "      marker_44.bindPopup(&quot;<b>47 2000 Skier Squaretop</b\\n    <p>We are currently transferring our paper documents to our website.  Details for avalanches between 1987 and 2003 will be available soon.</p>&quot;);\n",
       "      marker_44._popup.options.maxWidth = 300;\n",
       "      map.addLayer(marker_44)\n",
       "      \n",
       "      var marker_45_icon = L.AwesomeMarkers.icon({ icon: 'info-sign',markerColor: 'blue',prefix: 'glyphicon',extraClasses: 'fa-rotate-0'});\n",
       "      var marker_45 = L.marker([40.522533208467, \n",
       "\t\t\t\t\t\t\t-111.79524563431],\n",
       "\t\t\t\t\t\t\t{'icon':marker_45_icon}\n",
       "\t\t\t\t\t\t\t);\n",
       "      marker_45.bindPopup(&quot;<b>48 1999 Hiker Little Willow Canyon</b\\n    <p>We are currently transferring our paper documents to our website.  Details for avalanches between 1987 and 2003 will be available soon.</p>&quot;);\n",
       "      marker_45._popup.options.maxWidth = 300;\n",
       "      map.addLayer(marker_45)\n",
       "      \n",
       "      var marker_46_icon = L.AwesomeMarkers.icon({ icon: 'info-sign',markerColor: 'blue',prefix: 'glyphicon',extraClasses: 'fa-rotate-0'});\n",
       "      var marker_46 = L.marker([39.844940161503, \n",
       "\t\t\t\t\t\t\t-111.7465367186],\n",
       "\t\t\t\t\t\t\t{'icon':marker_46_icon}\n",
       "\t\t\t\t\t\t\t);\n",
       "      marker_46.bindPopup(&quot;<b>49 1999 Snowmobiler Mt Nebo</b\\n    <p>We are currently transferring our paper documents to our website.  Details for avalanches between 1987 and 2003 will be available soon.</p>&quot;);\n",
       "      marker_46._popup.options.maxWidth = 300;\n",
       "      map.addLayer(marker_46)\n",
       "      \n",
       "      var marker_47_icon = L.AwesomeMarkers.icon({ icon: 'info-sign',markerColor: 'blue',prefix: 'glyphicon',extraClasses: 'fa-rotate-0'});\n",
       "      var marker_47 = L.marker([39.621422708455, \n",
       "\t\t\t\t\t\t\t-111.31313608729],\n",
       "\t\t\t\t\t\t\t{'icon':marker_47_icon}\n",
       "\t\t\t\t\t\t\t);\n",
       "      marker_47.bindPopup(&quot;<b>50 1999 Snowboarder Skyline Summit, near the Big Drift</b\\n    <p>We are currently transferring our paper documents to our website.  Details for avalanches between 1987 and 2003 will be available soon.</p>&quot;);\n",
       "      marker_47._popup.options.maxWidth = 300;\n",
       "      map.addLayer(marker_47)\n",
       "      \n",
       "      var marker_48_icon = L.AwesomeMarkers.icon({ icon: 'info-sign',markerColor: 'blue',prefix: 'glyphicon',extraClasses: 'fa-rotate-0'});\n",
       "      var marker_48 = L.marker([40.570794, \n",
       "\t\t\t\t\t\t\t-111.641004],\n",
       "\t\t\t\t\t\t\t{'icon':marker_48_icon}\n",
       "\t\t\t\t\t\t\t);\n",
       "      marker_48.bindPopup(&quot;<b>51 1998 Snowboarder West Baldy in Peruvian Gulch at Snowbird, pre-season</b\\n    <p>We are currently transferring our paper documents to our website.  Details for avalanches between 1987 and 2003 will be available soon.</p>&quot;);\n",
       "      marker_48._popup.options.maxWidth = 300;\n",
       "      map.addLayer(marker_48)\n",
       "      \n",
       "      var marker_49_icon = L.AwesomeMarkers.icon({ icon: 'info-sign',markerColor: 'blue',prefix: 'glyphicon',extraClasses: 'fa-rotate-0'});\n",
       "      var marker_49 = L.marker([39.504216201765, \n",
       "\t\t\t\t\t\t\t-111.31382130264],\n",
       "\t\t\t\t\t\t\t{'icon':marker_49_icon}\n",
       "\t\t\t\t\t\t\t);\n",
       "      marker_49.bindPopup(&quot;<b>54 1998 Snowmobiler Manti Skyline</b\\n    <p>We are currently transferring our paper documents to our website.  Details for avalanches between 1987 and 2003 will be available soon.</p>&quot;);\n",
       "      marker_49._popup.options.maxWidth = 300;\n",
       "      map.addLayer(marker_49)\n",
       "      \n",
       "      var marker_50_icon = L.AwesomeMarkers.icon({ icon: 'info-sign',markerColor: 'blue',prefix: 'glyphicon',extraClasses: 'fa-rotate-0'});\n",
       "      var marker_50 = L.marker([40.337552198325, \n",
       "\t\t\t\t\t\t\t-111.59148501002],\n",
       "\t\t\t\t\t\t\t{'icon':marker_50_icon}\n",
       "\t\t\t\t\t\t\t);\n",
       "      marker_50.bindPopup(&quot;<b>55 1997 Natural The Fang Ice climb in Provo Canyon</b\\n    <p>We are currently transferring our paper documents to our website.  Details for avalanches between 1987 and 2003 will be available soon.An ice climber was killed when he was caught in a natural avalanche that released above him.</p>&quot;);\n",
       "      marker_50._popup.options.maxWidth = 300;\n",
       "      map.addLayer(marker_50)\n",
       "      \n",
       "      var marker_51_icon = L.AwesomeMarkers.icon({ icon: 'info-sign',markerColor: 'blue',prefix: 'glyphicon',extraClasses: 'fa-rotate-0'});\n",
       "      var marker_51 = L.marker([40.59799, \n",
       "\t\t\t\t\t\t\t-111.640146],\n",
       "\t\t\t\t\t\t\t{'icon':marker_51_icon}\n",
       "\t\t\t\t\t\t\t);\n",
       "      marker_51.bindPopup(&quot;<b>57 1996 Snowboarder Flagstaff</b\\n    <p>We are currently transferring our paper documents to our website.  Details for avalanches between 1987 and 2003 will be available soon.</p>&quot;);\n",
       "      marker_51._popup.options.maxWidth = 300;\n",
       "      map.addLayer(marker_51)\n",
       "      \n",
       "      var marker_52_icon = L.AwesomeMarkers.icon({ icon: 'info-sign',markerColor: 'blue',prefix: 'glyphicon',extraClasses: 'fa-rotate-0'});\n",
       "      var marker_52 = L.marker([40.606126845988, \n",
       "\t\t\t\t\t\t\t-111.61478661178],\n",
       "\t\t\t\t\t\t\t{'icon':marker_52_icon}\n",
       "\t\t\t\t\t\t\t);\n",
       "      marker_52.bindPopup(&quot;<b>60 1996 nan Honeycomb, Solitude Ski Resort</b\\n    <p>We are currently transferring our paper documents to our website.  Details for avalanches between 1987 and 2003 will be available soon.A ski patroller was killed in an avalanche while on duty.</p>&quot;);\n",
       "      marker_52._popup.options.maxWidth = 300;\n",
       "      map.addLayer(marker_52)\n",
       "      \n",
       "      var marker_53_icon = L.AwesomeMarkers.icon({ icon: 'info-sign',markerColor: 'blue',prefix: 'glyphicon',extraClasses: 'fa-rotate-0'});\n",
       "      var marker_53 = L.marker([41.364733019853, \n",
       "\t\t\t\t\t\t\t-111.95100544605],\n",
       "\t\t\t\t\t\t\t{'icon':marker_53_icon}\n",
       "\t\t\t\t\t\t\t);\n",
       "      marker_53.bindPopup(&quot;<b>63 1995 Snowmobiler Ben Lomond</b\\n    <p>We are currently transferring our paper documents to our website.  Details for avalanches between 1987 and 2003 will be available soon.These were the first two snowmobilers ever killed in Utah.</p>&quot;);\n",
       "      marker_53._popup.options.maxWidth = 300;\n",
       "      map.addLayer(marker_53)\n",
       "      \n",
       "      var marker_54_icon = L.AwesomeMarkers.icon({ icon: 'info-sign',markerColor: 'blue',prefix: 'glyphicon',extraClasses: 'fa-rotate-0'});\n",
       "      var marker_54 = L.marker([40.564454, \n",
       "\t\t\t\t\t\t\t-111.646497],\n",
       "\t\t\t\t\t\t\t{'icon':marker_54_icon}\n",
       "\t\t\t\t\t\t\t);\n",
       "      marker_54.bindPopup(&quot;<b>64 1994 Skier Pre season - Peruvian Gulch, Snowbird</b\\n    <p>We are currently transferring our paper documents to our website.  Details for avalanches between 1987 and 2003 will be available soon.A solo backcountry skier was skiing in Peruvian Gulch before Snowbird was open for the season when he triggered an avalanche that caught and killed him.</p>&quot;);\n",
       "      marker_54._popup.options.maxWidth = 300;\n",
       "      map.addLayer(marker_54)\n",
       "      \n",
       "      var marker_55_icon = L.AwesomeMarkers.icon({ icon: 'info-sign',markerColor: 'blue',prefix: 'glyphicon',extraClasses: 'fa-rotate-0'});\n",
       "      var marker_55 = L.marker([40.585286, \n",
       "\t\t\t\t\t\t\t-111.605041],\n",
       "\t\t\t\t\t\t\t{'icon':marker_55_icon}\n",
       "\t\t\t\t\t\t\t);\n",
       "      marker_55.bindPopup(&quot;<b>66 1993 Skier Wolverine Cirque</b\\n    <p>We are currently transferring our paper documents to our website.  Details for avalanches between 1987 and 2003 will be available soon.A skier was caught and carried in a small slide just off the ridge in the Wolverine Cirque.  When the avalanche reached the lower portion of the cirque, a bigger slab broke out much deeper and wider than the original avalanche which initially caught the skier.  Graupel pooling is suspected as a weak layer of the larger slab that broke out.</p>&quot;);\n",
       "      marker_55._popup.options.maxWidth = 300;\n",
       "      map.addLayer(marker_55)\n",
       "      \n",
       "      var marker_56_icon = L.AwesomeMarkers.icon({ icon: 'info-sign',markerColor: 'blue',prefix: 'glyphicon',extraClasses: 'fa-rotate-0'});\n",
       "      var marker_56 = L.marker([40.372185694061, \n",
       "\t\t\t\t\t\t\t-111.58544628557],\n",
       "\t\t\t\t\t\t\t{'icon':marker_56_icon}\n",
       "\t\t\t\t\t\t\t);\n",
       "      marker_56.bindPopup(&quot;<b>68 1993 Skier Closed area of Sundance</b\\n    <p>We are currently transferring our paper documents to our website.  Details for avalanches between 1987 and 2003 will be available soon.</p>&quot;);\n",
       "      marker_56._popup.options.maxWidth = 300;\n",
       "      map.addLayer(marker_56)\n",
       "      \n",
       "      var marker_57_icon = L.AwesomeMarkers.icon({ icon: 'info-sign',markerColor: 'blue',prefix: 'glyphicon',extraClasses: 'fa-rotate-0'});\n",
       "      var marker_57 = L.marker([40.551518, \n",
       "\t\t\t\t\t\t\t-111.649544],\n",
       "\t\t\t\t\t\t\t{'icon':marker_57_icon}\n",
       "\t\t\t\t\t\t\t);\n",
       "      marker_57.bindPopup(&quot;<b>69 1992 Skier Twin Peaks - Mineral Basin</b\\n    <p>We are currently transferring our paper documents to our website.  Details for avalanches between 1987 and 2003 will be available soon.A group of skiers was filming in Mineral Basin when the skier triggered the avalanche and was caught, carried and killed.</p>&quot;);\n",
       "      marker_57._popup.options.maxWidth = 300;\n",
       "      map.addLayer(marker_57)\n",
       "      \n",
       "      var marker_58_icon = L.AwesomeMarkers.icon({ icon: 'info-sign',markerColor: 'blue',prefix: 'glyphicon',extraClasses: 'fa-rotate-0'});\n",
       "      var marker_58 = L.marker([40.591841, \n",
       "\t\t\t\t\t\t\t-111.604827],\n",
       "\t\t\t\t\t\t\t{'icon':marker_58_icon}\n",
       "\t\t\t\t\t\t\t);\n",
       "      marker_58.bindPopup(&quot;<b>72 1987 Skier Twin Lakes Reservior</b\\n    <p>Scanned images of the original accident report.</p>&quot;);\n",
       "      marker_58._popup.options.maxWidth = 300;\n",
       "      map.addLayer(marker_58)\n",
       "      \n",
       "      var marker_59_icon = L.AwesomeMarkers.icon({ icon: 'info-sign',markerColor: 'blue',prefix: 'glyphicon',extraClasses: 'fa-rotate-0'});\n",
       "      var marker_59 = L.marker([40.56695, \n",
       "\t\t\t\t\t\t\t-111.624353],\n",
       "\t\t\t\t\t\t\t{'icon':marker_59_icon}\n",
       "\t\t\t\t\t\t\t);\n",
       "      marker_59.bindPopup(&quot;<b>74 1986 Natural Sugarloaf in Alta Ski Area</b\\n    <p>Below is a narrative of the accident from The Snowy Torrents; Avalanche Accidents in the United States 1980-1986, Nick Logan and Dale Atkins.</p>&quot;);\n",
       "      marker_59._popup.options.maxWidth = 300;\n",
       "      map.addLayer(marker_59)\n",
       "      \n",
       "      var marker_60_icon = L.AwesomeMarkers.icon({ icon: 'info-sign',markerColor: 'blue',prefix: 'glyphicon',extraClasses: 'fa-rotate-0'});\n",
       "      var marker_60 = L.marker([40.606262, \n",
       "\t\t\t\t\t\t\t-111.576839],\n",
       "\t\t\t\t\t\t\t{'icon':marker_60_icon}\n",
       "\t\t\t\t\t\t\t);\n",
       "      marker_60.bindPopup(&quot;<b>75 1986 Snowboarder Brighton Hill</b\\n    <p>Below is a narrative of the accident from The Snowy Torrents; Avalanche Accidents in the United States 1980-1986, Nick Logan and Dale Atkins.</p>&quot;);\n",
       "      marker_60._popup.options.maxWidth = 300;\n",
       "      map.addLayer(marker_60)\n",
       "      \n",
       "      var marker_61_icon = L.AwesomeMarkers.icon({ icon: 'info-sign',markerColor: 'blue',prefix: 'glyphicon',extraClasses: 'fa-rotate-0'});\n",
       "      var marker_61 = L.marker([40.285983, \n",
       "\t\t\t\t\t\t\t-111.506379],\n",
       "\t\t\t\t\t\t\t{'icon':marker_61_icon}\n",
       "\t\t\t\t\t\t\t);\n",
       "      marker_61.bindPopup(&quot;<b>76 1986 Skier Near Windy Pass in Water Hollow</b\\n    <p>Below is a narrative of the accident from The Snowy Torrents; Avalanche Accidents in the United States 1980-1986, Nick Logan and Dale Atkins.</p>&quot;);\n",
       "      marker_61._popup.options.maxWidth = 300;\n",
       "      map.addLayer(marker_61)\n",
       "      \n",
       "      var marker_62_icon = L.AwesomeMarkers.icon({ icon: 'info-sign',markerColor: 'blue',prefix: 'glyphicon',extraClasses: 'fa-rotate-0'});\n",
       "      var marker_62 = L.marker([40.577629, \n",
       "\t\t\t\t\t\t\t-111.594312],\n",
       "\t\t\t\t\t\t\t{'icon':marker_62_icon}\n",
       "\t\t\t\t\t\t\t);\n",
       "      marker_62.bindPopup(&quot;<b>77 1985 Skier Sunset Peak</b\\n    <p>Below is a narrative of the accident from The Snowy Torrents; Avalanche Accidents in the United States 1980-1986, Nick Logan and Dale Atkins.</p>&quot;);\n",
       "      marker_62._popup.options.maxWidth = 300;\n",
       "      map.addLayer(marker_62)\n",
       "      \n",
       "      var marker_63_icon = L.AwesomeMarkers.icon({ icon: 'info-sign',markerColor: 'blue',prefix: 'glyphicon',extraClasses: 'fa-rotate-0'});\n",
       "      var marker_63 = L.marker([40.641857, \n",
       "\t\t\t\t\t\t\t-111.520412],\n",
       "\t\t\t\t\t\t\t{'icon':marker_63_icon}\n",
       "\t\t\t\t\t\t\t);\n",
       "      marker_63.bindPopup(&quot;<b>78 1985 Skier Gobblers Point South</b\\n    <p>Below is a narrative of the accident from The Snowy Torrents; Avalanche Accidents in the United States 1980-1986, Nick Logan and Dale Atkins.</p>&quot;);\n",
       "      marker_63._popup.options.maxWidth = 300;\n",
       "      map.addLayer(marker_63)\n",
       "      \n",
       "      var marker_64_icon = L.AwesomeMarkers.icon({ icon: 'info-sign',markerColor: 'blue',prefix: 'glyphicon',extraClasses: 'fa-rotate-0'});\n",
       "      var marker_64 = L.marker([41.362519, \n",
       "\t\t\t\t\t\t\t-111.782882],\n",
       "\t\t\t\t\t\t\t{'icon':marker_64_icon}\n",
       "\t\t\t\t\t\t\t);\n",
       "      marker_64.bindPopup(&quot;<b>79 1985 Skier Powder Mountain \\&quot;Powder Country\\&quot; or \\&quot;Backside\\&quot; Road Shuttle</b\\n    <p>Below is a narrative of the accident from The Snowy Torrents; Avalanche Accidents in the United States 1980-1986, Nick Logan and Dale Atkins.</p>&quot;);\n",
       "      marker_64._popup.options.maxWidth = 300;\n",
       "      map.addLayer(marker_64)\n",
       "      \n",
       "      var marker_65_icon = L.AwesomeMarkers.icon({ icon: 'info-sign',markerColor: 'blue',prefix: 'glyphicon',extraClasses: 'fa-rotate-0'});\n",
       "      var marker_65 = L.marker([40.593007, \n",
       "\t\t\t\t\t\t\t-111.659243],\n",
       "\t\t\t\t\t\t\t{'icon':marker_65_icon}\n",
       "\t\t\t\t\t\t\t);\n",
       "      marker_65.bindPopup(&quot;<b>80 1984 Skier Little Superior</b\\n    <p>Below is a narrative of the accident from The Snowy Torrents; Avalanche Accidents in the United States 1980-1986, Nick Logan and Dale Atkins.</p>&quot;);\n",
       "      marker_65._popup.options.maxWidth = 300;\n",
       "      map.addLayer(marker_65)\n",
       "      \n",
       "      var marker_66_icon = L.AwesomeMarkers.icon({ icon: 'info-sign',markerColor: 'blue',prefix: 'glyphicon',extraClasses: 'fa-rotate-0'});\n",
       "      var marker_66 = L.marker([40.694668, \n",
       "\t\t\t\t\t\t\t-111.604312],\n",
       "\t\t\t\t\t\t\t{'icon':marker_66_icon}\n",
       "\t\t\t\t\t\t\t);\n",
       "      marker_66.bindPopup(&quot;<b>81 1982 Skier Murdock Peak - Todd's Bowl</b\\n    <p>Below is a narrative of the accident from The Snowy Torrents; Avalanche Accidents in the United States 1980-1986, Nick Logan and Dale Atkins.</p>&quot;);\n",
       "      marker_66._popup.options.maxWidth = 300;\n",
       "      map.addLayer(marker_66)\n",
       "      \n",
       "      var marker_67_icon = L.AwesomeMarkers.icon({ icon: 'info-sign',markerColor: 'blue',prefix: 'glyphicon',extraClasses: 'fa-rotate-0'});\n",
       "      var marker_67 = L.marker([40.664995, \n",
       "\t\t\t\t\t\t\t-111.693146],\n",
       "\t\t\t\t\t\t\t{'icon':marker_67_icon}\n",
       "\t\t\t\t\t\t\t);\n",
       "      marker_67.bindPopup(&quot;<b>82 1981 Skier Porter Fork</b\\n    <p>Below is a narrative of the accident from The Snowy Torrents; Avalanche Accidents in the United States 1980-1986, Nick Logan and Dale Atkins.</p>&quot;);\n",
       "      marker_67._popup.options.maxWidth = 300;\n",
       "      map.addLayer(marker_67)\n",
       "      \n",
       "      var marker_68_icon = L.AwesomeMarkers.icon({ icon: 'info-sign',markerColor: 'blue',prefix: 'glyphicon',extraClasses: 'fa-rotate-0'});\n",
       "      var marker_68 = L.marker([40.631609, \n",
       "\t\t\t\t\t\t\t-111.654308],\n",
       "\t\t\t\t\t\t\t{'icon':marker_68_icon}\n",
       "\t\t\t\t\t\t\t);\n",
       "      marker_68.bindPopup(&quot;<b>83 1981 Skier Gully near Doughnut Falls</b\\n    <p>Below is a narrative of the accident from The Snowy Torrents; Avalanche Accidents in the United States 1980-1986, Nick Logan and Dale Atkins.</p>&quot;);\n",
       "      marker_68._popup.options.maxWidth = 300;\n",
       "      map.addLayer(marker_68)\n",
       "      \n",
       "      var marker_69_icon = L.AwesomeMarkers.icon({ icon: 'info-sign',markerColor: 'blue',prefix: 'glyphicon',extraClasses: 'fa-rotate-0'});\n",
       "      var marker_69 = L.marker([40.606529, \n",
       "\t\t\t\t\t\t\t-111.594484],\n",
       "\t\t\t\t\t\t\t{'icon':marker_69_icon}\n",
       "\t\t\t\t\t\t\t);\n",
       "      marker_69.bindPopup(&quot;<b>84 1980 Skier Evergreen Ridge</b\\n    <p>Below is a narrative of the accident from The Snowy Torrents; Avalanche Accidents in the United States 1980-1986, Nick Logan and Dale Atkins.</p>&quot;);\n",
       "      marker_69._popup.options.maxWidth = 300;\n",
       "      map.addLayer(marker_69)\n",
       "      \n",
       "      var marker_70_icon = L.AwesomeMarkers.icon({ icon: 'info-sign',markerColor: 'blue',prefix: 'glyphicon',extraClasses: 'fa-rotate-0'});\n",
       "      var marker_70 = L.marker([40.656105, \n",
       "\t\t\t\t\t\t\t-111.602252],\n",
       "\t\t\t\t\t\t\t{'icon':marker_70_icon}\n",
       "\t\t\t\t\t\t\t);\n",
       "      marker_70.bindPopup(&quot;<b>85 1979 Skier Desolation Lake</b\\n    <p>Below is a narrative of the accident from The Snowy Torrents; Avalanche Accidents in the United States 1972-1979, Knox Williams and Betsy Armstrong.</p>&quot;);\n",
       "      marker_70._popup.options.maxWidth = 300;\n",
       "      map.addLayer(marker_70)\n",
       "      \n",
       "      var marker_71_icon = L.AwesomeMarkers.icon({ icon: 'info-sign',markerColor: 'blue',prefix: 'glyphicon',extraClasses: 'fa-rotate-0'});\n",
       "      var marker_71 = L.marker([39.702192039624, \n",
       "\t\t\t\t\t\t\t-110.94972895229],\n",
       "\t\t\t\t\t\t\t{'icon':marker_71_icon}\n",
       "\t\t\t\t\t\t\t);\n",
       "      marker_71.bindPopup(&quot;<b>86 1979 Natural Braztah #6 Mine, Spring Creek west of Helper</b\\n    <p>Below is a narrative of the accident from The Snowy Torrents; Avalanche Accidents in the United States 1972-1979, Knox Williams and Betsy Armstrong.</p>&quot;);\n",
       "      marker_71._popup.options.maxWidth = 300;\n",
       "      map.addLayer(marker_71)\n",
       "      \n",
       "      var marker_72_icon = L.AwesomeMarkers.icon({ icon: 'info-sign',markerColor: 'blue',prefix: 'glyphicon',extraClasses: 'fa-rotate-0'});\n",
       "      var marker_72 = L.marker([40.564342704045, \n",
       "\t\t\t\t\t\t\t-111.65208567884],\n",
       "\t\t\t\t\t\t\t{'icon':marker_72_icon}\n",
       "\t\t\t\t\t\t\t);\n",
       "      marker_72.bindPopup(&quot;<b>87 1977 Skier Gad Valley</b\\n    <p>Below is a narrative of the accident from The Snowy Torrents; Avalanche Accidents in the United States 1972-1979, Knox Williams and Betsy Armstrong.</p>&quot;);\n",
       "      marker_72._popup.options.maxWidth = 300;\n",
       "      map.addLayer(marker_72)\n",
       "      \n",
       "      var marker_73_icon = L.AwesomeMarkers.icon({ icon: 'info-sign',markerColor: 'blue',prefix: 'glyphicon',extraClasses: 'fa-rotate-0'});\n",
       "      var marker_73 = L.marker([40.586506674316, \n",
       "\t\t\t\t\t\t\t-111.62642806946],\n",
       "\t\t\t\t\t\t\t{'icon':marker_73_icon}\n",
       "\t\t\t\t\t\t\t);\n",
       "      marker_73.bindPopup(&quot;<b>88 1976 Skier Snake Pit</b\\n    <p>Below is a narrative of the accident from The Snowy Torrents; Avalanche Accidents in the United States 1972-1979, Knox Williams and Betsy Armstrong.</p>&quot;);\n",
       "      marker_73._popup.options.maxWidth = 300;\n",
       "      map.addLayer(marker_73)\n",
       "      \n",
       "      var marker_74_icon = L.AwesomeMarkers.icon({ icon: 'info-sign',markerColor: 'blue',prefix: 'glyphicon',extraClasses: 'fa-rotate-0'});\n",
       "      var marker_74 = L.marker([40.572657369383, \n",
       "\t\t\t\t\t\t\t-111.65141485809],\n",
       "\t\t\t\t\t\t\t{'icon':marker_74_icon}\n",
       "\t\t\t\t\t\t\t);\n",
       "      marker_74.bindPopup(&quot;<b>90 1970 Skier Lower Peruvian Ridge</b\\n    <p>Below is a narrative of the accident from The Snowy Torrents; Avalanche Accidents in the United States 1967-71, Knox Williams.</p>&quot;);\n",
       "      marker_74._popup.options.maxWidth = 300;\n",
       "      map.addLayer(marker_74)\n",
       "      \n",
       "      var marker_75_icon = L.AwesomeMarkers.icon({ icon: 'info-sign',markerColor: 'blue',prefix: 'glyphicon',extraClasses: 'fa-rotate-0'});\n",
       "      var marker_75 = L.marker([40.226133346151, \n",
       "\t\t\t\t\t\t\t-111.61440037368],\n",
       "\t\t\t\t\t\t\t{'icon':marker_75_icon}\n",
       "\t\t\t\t\t\t\t);\n",
       "      marker_75.bindPopup(&quot;<b>91 1968 Natural Lower Rock Canyon</b\\n    <p>Below is a narrative of the accident from The Snowy Torrents; Avalanche Accidents in the United States 1967-71, Knox Williams.</p>&quot;);\n",
       "      marker_75._popup.options.maxWidth = 300;\n",
       "      map.addLayer(marker_75)\n",
       "      \n",
       "      var marker_76_icon = L.AwesomeMarkers.icon({ icon: 'info-sign',markerColor: 'blue',prefix: 'glyphicon',extraClasses: 'fa-rotate-0'});\n",
       "      var marker_76 = L.marker([40.708361, \n",
       "\t\t\t\t\t\t\t-111.759796],\n",
       "\t\t\t\t\t\t\t{'icon':marker_76_icon}\n",
       "\t\t\t\t\t\t\t);\n",
       "      marker_76.bindPopup(&quot;<b>92 1967 Hiker Pharoahs Glen</b\\n    <p>Below is a narrative of the accident from The Snowy Torrents; Avalanche Accidents in the United States 1967-71, Knox Williams.</p>&quot;);\n",
       "      marker_76._popup.options.maxWidth = 300;\n",
       "      map.addLayer(marker_76)\n",
       "      \n",
       "      var marker_77_icon = L.AwesomeMarkers.icon({ icon: 'info-sign',markerColor: 'blue',prefix: 'glyphicon',extraClasses: 'fa-rotate-0'});\n",
       "      var marker_77 = L.marker([40.631302096436, \n",
       "\t\t\t\t\t\t\t-111.51668213484],\n",
       "\t\t\t\t\t\t\t{'icon':marker_77_icon}\n",
       "\t\t\t\t\t\t\t);\n",
       "      marker_77.bindPopup(&quot;<b>93 1965 Skier North of Bonanza ski run</b\\n    <p>Below is a narrative of the accident from The Snowy Torrents; Avalanche Accidents in the United States 1910-1966, Dale Gallagher.</p>&quot;);\n",
       "      marker_77._popup.options.maxWidth = 300;\n",
       "      map.addLayer(marker_77)\n",
       "      \n",
       "      var marker_78_icon = L.AwesomeMarkers.icon({ icon: 'info-sign',markerColor: 'blue',prefix: 'glyphicon',extraClasses: 'fa-rotate-0'});\n",
       "      var marker_78 = L.marker([41.204951129311, \n",
       "\t\t\t\t\t\t\t-111.90025948165],\n",
       "\t\t\t\t\t\t\t{'icon':marker_78_icon}\n",
       "\t\t\t\t\t\t\t);\n",
       "      marker_78.bindPopup(&quot;<b>94 1964 Skier Taylor Canyon</b\\n    <p>Below is a narrative of the accident from The Snowy Torrents; Avalanche Accidents in the United States 1910-1966, Dale Gallagher.</p>&quot;);\n",
       "      marker_78._popup.options.maxWidth = 300;\n",
       "      map.addLayer(marker_78)\n",
       "      \n",
       "      var marker_79_icon = L.AwesomeMarkers.icon({ icon: 'info-sign',markerColor: 'blue',prefix: 'glyphicon',extraClasses: 'fa-rotate-0'});\n",
       "      var marker_79 = L.marker([41.205508551921, \n",
       "\t\t\t\t\t\t\t-111.87590100048],\n",
       "\t\t\t\t\t\t\t{'icon':marker_79_icon}\n",
       "\t\t\t\t\t\t\t);\n",
       "      marker_79.bindPopup(&quot;<b>95 1958 Skier John Paul Jones ridge</b\\n    <p>Below is a narrative of the accident from The Snowy Torrents; Avalanche Accidents in the United States 1910-1966, Dale Gallagher.</p>&quot;);\n",
       "      marker_79._popup.options.maxWidth = 300;\n",
       "      map.addLayer(marker_79)\n",
       "      \n",
       "\n",
       "      \n",
       "\n",
       "      \n",
       "\n",
       "      \n",
       "\n",
       "      \n",
       "\n",
       "      \n",
       "\n",
       "\n",
       "\n",
       "   </script>\n",
       "\n",
       "</body>\" style=\"width:100%; height: 500px;\"></iframe>"
      ],
      "text/plain": [
       "<IPython.core.display.HTML object>"
      ]
     },
     "execution_count": 60,
     "metadata": {},
     "output_type": "execute_result"
    }
   ],
   "source": [
    "def inline_map(map):\n",
    "    map._build_map()\n",
    "    return HTML('<iframe srcdoc=\"{}\" style=\"width:100%; height: 500px;\"></iframe>'.format(\n",
    "        map.HTML.replace('\"', '&quot;')))\n",
    "\n",
    "def summary(i, row):\n",
    "    return '''<b>{} {} {} {}</b\n",
    "    <p>{}</p>'''.format(i, row['year'], row['Trigger'], row['Location Name or Route'],\n",
    "                       row['Accident and Rescue Summary'])\n",
    "\n",
    "center = [40.5, -111.5]\n",
    "map = folium.Map(location=center, zoom_start=10, tiles='Stamen Terrain', height=700)\n",
    "for i, row in df.iterrows():\n",
    "    if str(row.lat) == 'nan' or row.lat == 0:\n",
    "        continue\n",
    "    map.simple_marker([row.lat, row.lon], popup=summary(i, row))\n",
    "\n",
    "inline_map(map)\n"
   ]
  },
  {
   "cell_type": "code",
   "execution_count": null,
   "metadata": {
    "collapsed": true
   },
   "outputs": [],
   "source": []
  }
 ],
 "metadata": {
  "kernelspec": {
   "display_name": "Python 3",
   "language": "python",
   "name": "python3"
  },
  "language_info": {
   "codemirror_mode": {
    "name": "ipython",
    "version": 3
   },
   "file_extension": ".py",
   "mimetype": "text/x-python",
   "name": "python",
   "nbconvert_exporter": "python",
   "pygments_lexer": "ipython3",
   "version": "3.4.3"
  }
 },
 "nbformat": 4,
 "nbformat_minor": 0
}
