{
 "cells": [
  {
   "cell_type": "code",
   "execution_count": 2,
   "metadata": {
    "collapsed": false
   },
   "outputs": [
    {
     "name": "stderr",
     "output_type": "stream",
     "text": [
      "/Users/matt/.pycast-env/lib/python3.4/site-packages/pandas/io/data.py:33: FutureWarning: \n",
      "The pandas.io.data module is moved to a separate package (pandas-datareader) and will be removed from pandas in a future version.\n",
      "After installing the pandas-datareader package (https://github.com/pydata/pandas-datareader), you can change the import ``from pandas.io import data, wb`` to ``from pandas_datareader import data, wb``.\n",
      "  FutureWarning)\n"
     ]
    }
   ],
   "source": [
    "import pandas as pd\n",
    "from pandas.io.data import DataReader\n",
    "import numpy as np\n",
    "from dateutil.parser import parse"
   ]
  },
  {
   "cell_type": "code",
   "execution_count": null,
   "metadata": {
    "collapsed": true
   },
   "outputs": [],
   "source": []
  },
  {
   "cell_type": "code",
   "execution_count": null,
   "metadata": {
    "collapsed": true
   },
   "outputs": [],
   "source": []
  },
  {
   "cell_type": "markdown",
   "metadata": {},
   "source": [
    "## Window Functions"
   ]
  },
  {
   "cell_type": "code",
   "execution_count": 18,
   "metadata": {
    "collapsed": true
   },
   "outputs": [],
   "source": [
    "idx = pd.date_range('1/1/2000', periods=500, freq='d')"
   ]
  },
  {
   "cell_type": "code",
   "execution_count": 19,
   "metadata": {
    "collapsed": false
   },
   "outputs": [
    {
     "data": {
      "text/plain": [
       "DatetimeIndex(['2000-01-01', '2000-01-02', '2000-01-03', '2000-01-04',\n",
       "               '2000-01-05', '2000-01-06', '2000-01-07', '2000-01-08',\n",
       "               '2000-01-09', '2000-01-10',\n",
       "               ...\n",
       "               '2001-05-05', '2001-05-06', '2001-05-07', '2001-05-08',\n",
       "               '2001-05-09', '2001-05-10', '2001-05-11', '2001-05-12',\n",
       "               '2001-05-13', '2001-05-14'],\n",
       "              dtype='datetime64[ns]', length=500, freq='D')"
      ]
     },
     "execution_count": 19,
     "metadata": {},
     "output_type": "execute_result"
    }
   ],
   "source": [
    "idx"
   ]
  },
  {
   "cell_type": "code",
   "execution_count": 20,
   "metadata": {
    "collapsed": true
   },
   "outputs": [],
   "source": [
    "ser = pd.Series(np.random.randn(len(idx)), index=idx)"
   ]
  },
  {
   "cell_type": "code",
   "execution_count": 22,
   "metadata": {
    "collapsed": false
   },
   "outputs": [
    {
     "data": {
      "text/plain": [
       "2000-01-01   -0.545997\n",
       "2000-01-02   -1.013752\n",
       "2000-01-03    1.474093\n",
       "2000-01-04    1.417763\n",
       "2000-01-05   -0.184779\n",
       "2000-01-06   -0.979049\n",
       "2000-01-07    0.686541\n",
       "2000-01-08    1.577696\n",
       "2000-01-09   -0.371804\n",
       "2000-01-10   -0.250778\n",
       "2000-01-11    0.039506\n",
       "2000-01-12    0.521244\n",
       "2000-01-13    2.537945\n",
       "2000-01-14   -1.206525\n",
       "2000-01-15    1.008095\n",
       "2000-01-16    0.789687\n",
       "2000-01-17   -0.080694\n",
       "2000-01-18   -0.259743\n",
       "2000-01-19   -0.344188\n",
       "2000-01-20   -0.767293\n",
       "2000-01-21   -0.542397\n",
       "2000-01-22    0.415701\n",
       "2000-01-23   -0.489595\n",
       "2000-01-24    1.081940\n",
       "2000-01-25    1.606921\n",
       "2000-01-26    0.490192\n",
       "2000-01-27   -0.297331\n",
       "2000-01-28    0.263609\n",
       "2000-01-29    0.491484\n",
       "2000-01-30    0.136947\n",
       "                ...   \n",
       "2001-04-15    1.893967\n",
       "2001-04-16   -0.497804\n",
       "2001-04-17   -0.468295\n",
       "2001-04-18   -1.473745\n",
       "2001-04-19   -0.118935\n",
       "2001-04-20    1.111472\n",
       "2001-04-21   -0.176485\n",
       "2001-04-22   -0.978029\n",
       "2001-04-23    1.342891\n",
       "2001-04-24   -0.745465\n",
       "2001-04-25    0.219360\n",
       "2001-04-26   -1.101350\n",
       "2001-04-27   -0.196381\n",
       "2001-04-28   -0.486067\n",
       "2001-04-29   -1.097755\n",
       "2001-04-30    1.602603\n",
       "2001-05-01    0.586216\n",
       "2001-05-02    0.619106\n",
       "2001-05-03    1.581781\n",
       "2001-05-04    0.717764\n",
       "2001-05-05    0.093691\n",
       "2001-05-06   -0.559635\n",
       "2001-05-07   -1.547538\n",
       "2001-05-08    1.045970\n",
       "2001-05-09   -0.716051\n",
       "2001-05-10   -0.027970\n",
       "2001-05-11    0.238264\n",
       "2001-05-12    0.089444\n",
       "2001-05-13   -0.536888\n",
       "2001-05-14    0.423676\n",
       "Freq: D, dtype: float64"
      ]
     },
     "execution_count": 22,
     "metadata": {},
     "output_type": "execute_result"
    }
   ],
   "source": [
    "ser"
   ]
  },
  {
   "cell_type": "code",
   "execution_count": 23,
   "metadata": {
    "collapsed": true
   },
   "outputs": [],
   "source": [
    "ser2 = ser + ser.shift(2)"
   ]
  },
  {
   "cell_type": "code",
   "execution_count": 24,
   "metadata": {
    "collapsed": false
   },
   "outputs": [
    {
     "data": {
      "text/plain": [
       "2000-01-01         NaN\n",
       "2000-01-02         NaN\n",
       "2000-01-03    0.928097\n",
       "2000-01-04    0.404011\n",
       "2000-01-05    1.289314\n",
       "2000-01-06    0.438714\n",
       "2000-01-07    0.501762\n",
       "2000-01-08    0.598646\n",
       "2000-01-09    0.314737\n",
       "2000-01-10    1.326918\n",
       "2000-01-11   -0.332298\n",
       "2000-01-12    0.270466\n",
       "2000-01-13    2.577451\n",
       "2000-01-14   -0.685281\n",
       "2000-01-15    3.546040\n",
       "2000-01-16   -0.416838\n",
       "2000-01-17    0.927401\n",
       "2000-01-18    0.529943\n",
       "2000-01-19   -0.424882\n",
       "2000-01-20   -1.027036\n",
       "2000-01-21   -0.886585\n",
       "2000-01-22   -0.351592\n",
       "2000-01-23   -1.031992\n",
       "2000-01-24    1.497640\n",
       "2000-01-25    1.117326\n",
       "2000-01-26    1.572132\n",
       "2000-01-27    1.309590\n",
       "2000-01-28    0.753801\n",
       "2000-01-29    0.194153\n",
       "2000-01-30    0.400556\n",
       "                ...   \n",
       "2001-04-15    1.386780\n",
       "2001-04-16   -0.326348\n",
       "2001-04-17    1.425672\n",
       "2001-04-18   -1.971549\n",
       "2001-04-19   -0.587230\n",
       "2001-04-20   -0.362273\n",
       "2001-04-21   -0.295420\n",
       "2001-04-22    0.133443\n",
       "2001-04-23    1.166406\n",
       "2001-04-24   -1.723494\n",
       "2001-04-25    1.562251\n",
       "2001-04-26   -1.846815\n",
       "2001-04-27    0.022979\n",
       "2001-04-28   -1.587417\n",
       "2001-04-29   -1.294136\n",
       "2001-04-30    1.116535\n",
       "2001-05-01   -0.511539\n",
       "2001-05-02    2.221709\n",
       "2001-05-03    2.167997\n",
       "2001-05-04    1.336870\n",
       "2001-05-05    1.675472\n",
       "2001-05-06    0.158129\n",
       "2001-05-07   -1.453847\n",
       "2001-05-08    0.486335\n",
       "2001-05-09   -2.263589\n",
       "2001-05-10    1.018000\n",
       "2001-05-11   -0.477787\n",
       "2001-05-12    0.061474\n",
       "2001-05-13   -0.298624\n",
       "2001-05-14    0.513120\n",
       "Freq: D, dtype: float64"
      ]
     },
     "execution_count": 24,
     "metadata": {},
     "output_type": "execute_result"
    }
   ],
   "source": [
    "ser2"
   ]
  },
  {
   "cell_type": "code",
   "execution_count": 25,
   "metadata": {
    "collapsed": false
   },
   "outputs": [
    {
     "data": {
      "text/plain": [
       "2000-03-31    0.040033\n",
       "2000-06-30   -0.009098\n",
       "2000-09-30    0.124207\n",
       "2000-12-31   -0.025218\n",
       "2001-03-31   -0.015155\n",
       "2001-06-30   -0.018401\n",
       "Freq: Q-DEC, dtype: float64"
      ]
     },
     "execution_count": 25,
     "metadata": {},
     "output_type": "execute_result"
    }
   ],
   "source": [
    "ser.resample('Q')"
   ]
  },
  {
   "cell_type": "code",
   "execution_count": 26,
   "metadata": {
    "collapsed": false
   },
   "outputs": [
    {
     "data": {
      "text/plain": [
       "2000-01-31    0.238891\n",
       "2000-02-29   -0.076512\n",
       "2000-03-31   -0.049799\n",
       "2000-04-30   -0.030658\n",
       "2000-05-31   -0.348060\n",
       "2000-06-30    0.362722\n",
       "2000-07-31    0.083638\n",
       "2000-08-31    0.047607\n",
       "2000-09-30    0.245283\n",
       "2000-10-31   -0.074469\n",
       "2000-11-30   -0.129972\n",
       "2000-12-31    0.125407\n",
       "2001-01-31   -0.247273\n",
       "2001-02-28    0.136106\n",
       "2001-03-31    0.080341\n",
       "2001-04-30   -0.093915\n",
       "2001-05-31    0.143416\n",
       "Freq: M, dtype: float64"
      ]
     },
     "execution_count": 26,
     "metadata": {},
     "output_type": "execute_result"
    }
   ],
   "source": [
    "ser.resample('m')"
   ]
  },
  {
   "cell_type": "code",
   "execution_count": 27,
   "metadata": {
    "collapsed": false
   },
   "outputs": [
    {
     "data": {
      "text/plain": [
       "2000-03-31    0.040033\n",
       "2000-06-30   -0.009098\n",
       "2000-09-30    0.124207\n",
       "2000-12-31   -0.025218\n",
       "2001-03-31   -0.015155\n",
       "2001-06-30   -0.018401\n",
       "Freq: Q-DEC, dtype: float64"
      ]
     },
     "execution_count": 27,
     "metadata": {},
     "output_type": "execute_result"
    }
   ],
   "source": [
    "ser.resample('Q')"
   ]
  },
  {
   "cell_type": "code",
   "execution_count": null,
   "metadata": {
    "collapsed": true
   },
   "outputs": [],
   "source": [
    "# http://pandas.pydata.org/pandas-docs/stable/timeseries.html#offset-aliases"
   ]
  },
  {
   "cell_type": "code",
   "execution_count": 28,
   "metadata": {
    "collapsed": true
   },
   "outputs": [],
   "source": [
    "spy = DataReader('SPY', data_source='yahoo')"
   ]
  },
  {
   "cell_type": "code",
   "execution_count": 30,
   "metadata": {
    "collapsed": false
   },
   "outputs": [
    {
     "data": {
      "text/html": [
       "<div>\n",
       "<table border=\"1\" class=\"dataframe\">\n",
       "  <thead>\n",
       "    <tr style=\"text-align: right;\">\n",
       "      <th>Date</th>\n",
       "      <th>2016-01-06 00:00:00</th>\n",
       "      <th>2016-01-07 00:00:00</th>\n",
       "      <th>2016-01-08 00:00:00</th>\n",
       "      <th>2016-01-11 00:00:00</th>\n",
       "      <th>2016-01-12 00:00:00</th>\n",
       "    </tr>\n",
       "  </thead>\n",
       "  <tbody>\n",
       "    <tr>\n",
       "      <th>Open</th>\n",
       "      <td>1.983400e+02</td>\n",
       "      <td>1.953300e+02</td>\n",
       "      <td>1.951900e+02</td>\n",
       "      <td>1.930100e+02</td>\n",
       "      <td>1.938200e+02</td>\n",
       "    </tr>\n",
       "    <tr>\n",
       "      <th>High</th>\n",
       "      <td>2.000600e+02</td>\n",
       "      <td>1.974400e+02</td>\n",
       "      <td>1.958500e+02</td>\n",
       "      <td>1.934100e+02</td>\n",
       "      <td>1.945500e+02</td>\n",
       "    </tr>\n",
       "    <tr>\n",
       "      <th>Low</th>\n",
       "      <td>1.976000e+02</td>\n",
       "      <td>1.935900e+02</td>\n",
       "      <td>1.915800e+02</td>\n",
       "      <td>1.898200e+02</td>\n",
       "      <td>1.911400e+02</td>\n",
       "    </tr>\n",
       "    <tr>\n",
       "      <th>Close</th>\n",
       "      <td>1.988200e+02</td>\n",
       "      <td>1.940500e+02</td>\n",
       "      <td>1.919200e+02</td>\n",
       "      <td>1.921100e+02</td>\n",
       "      <td>1.936600e+02</td>\n",
       "    </tr>\n",
       "    <tr>\n",
       "      <th>Volume</th>\n",
       "      <td>1.521126e+08</td>\n",
       "      <td>2.134361e+08</td>\n",
       "      <td>2.098172e+08</td>\n",
       "      <td>1.879413e+08</td>\n",
       "      <td>1.662413e+08</td>\n",
       "    </tr>\n",
       "    <tr>\n",
       "      <th>Adj Close</th>\n",
       "      <td>1.988200e+02</td>\n",
       "      <td>1.940500e+02</td>\n",
       "      <td>1.919200e+02</td>\n",
       "      <td>1.921100e+02</td>\n",
       "      <td>1.936600e+02</td>\n",
       "    </tr>\n",
       "  </tbody>\n",
       "</table>\n",
       "</div>"
      ],
      "text/plain": [
       "Date         2016-01-06    2016-01-07    2016-01-08    2016-01-11  \\\n",
       "Open       1.983400e+02  1.953300e+02  1.951900e+02  1.930100e+02   \n",
       "High       2.000600e+02  1.974400e+02  1.958500e+02  1.934100e+02   \n",
       "Low        1.976000e+02  1.935900e+02  1.915800e+02  1.898200e+02   \n",
       "Close      1.988200e+02  1.940500e+02  1.919200e+02  1.921100e+02   \n",
       "Volume     1.521126e+08  2.134361e+08  2.098172e+08  1.879413e+08   \n",
       "Adj Close  1.988200e+02  1.940500e+02  1.919200e+02  1.921100e+02   \n",
       "\n",
       "Date         2016-01-12  \n",
       "Open       1.938200e+02  \n",
       "High       1.945500e+02  \n",
       "Low        1.911400e+02  \n",
       "Close      1.936600e+02  \n",
       "Volume     1.662413e+08  \n",
       "Adj Close  1.936600e+02  "
      ]
     },
     "execution_count": 30,
     "metadata": {},
     "output_type": "execute_result"
    }
   ],
   "source": [
    "spy.tail().T"
   ]
  },
  {
   "cell_type": "code",
   "execution_count": 31,
   "metadata": {
    "collapsed": true
   },
   "outputs": [],
   "source": [
    "spy['mean50'] = pd.rolling_mean(spy.Close, 50)\n",
    "spy['mean200'] = pd.rolling_mean(spy.Close, 200)"
   ]
  },
  {
   "cell_type": "code",
   "execution_count": 33,
   "metadata": {
    "collapsed": false
   },
   "outputs": [
    {
     "data": {
      "text/html": [
       "<div>\n",
       "<table border=\"1\" class=\"dataframe\">\n",
       "  <thead>\n",
       "    <tr style=\"text-align: right;\">\n",
       "      <th>Date</th>\n",
       "      <th>2016-01-06 00:00:00</th>\n",
       "      <th>2016-01-07 00:00:00</th>\n",
       "      <th>2016-01-08 00:00:00</th>\n",
       "      <th>2016-01-11 00:00:00</th>\n",
       "      <th>2016-01-12 00:00:00</th>\n",
       "    </tr>\n",
       "  </thead>\n",
       "  <tbody>\n",
       "    <tr>\n",
       "      <th>Open</th>\n",
       "      <td>1.983400e+02</td>\n",
       "      <td>1.953300e+02</td>\n",
       "      <td>1.951900e+02</td>\n",
       "      <td>1.930100e+02</td>\n",
       "      <td>1.938200e+02</td>\n",
       "    </tr>\n",
       "    <tr>\n",
       "      <th>High</th>\n",
       "      <td>2.000600e+02</td>\n",
       "      <td>1.974400e+02</td>\n",
       "      <td>1.958500e+02</td>\n",
       "      <td>1.934100e+02</td>\n",
       "      <td>1.945500e+02</td>\n",
       "    </tr>\n",
       "    <tr>\n",
       "      <th>Low</th>\n",
       "      <td>1.976000e+02</td>\n",
       "      <td>1.935900e+02</td>\n",
       "      <td>1.915800e+02</td>\n",
       "      <td>1.898200e+02</td>\n",
       "      <td>1.911400e+02</td>\n",
       "    </tr>\n",
       "    <tr>\n",
       "      <th>Close</th>\n",
       "      <td>1.988200e+02</td>\n",
       "      <td>1.940500e+02</td>\n",
       "      <td>1.919200e+02</td>\n",
       "      <td>1.921100e+02</td>\n",
       "      <td>1.936600e+02</td>\n",
       "    </tr>\n",
       "    <tr>\n",
       "      <th>Volume</th>\n",
       "      <td>1.521126e+08</td>\n",
       "      <td>2.134361e+08</td>\n",
       "      <td>2.098172e+08</td>\n",
       "      <td>1.879413e+08</td>\n",
       "      <td>1.662413e+08</td>\n",
       "    </tr>\n",
       "    <tr>\n",
       "      <th>Adj Close</th>\n",
       "      <td>1.988200e+02</td>\n",
       "      <td>1.940500e+02</td>\n",
       "      <td>1.919200e+02</td>\n",
       "      <td>1.921100e+02</td>\n",
       "      <td>1.936600e+02</td>\n",
       "    </tr>\n",
       "    <tr>\n",
       "      <th>mean50</th>\n",
       "      <td>2.066166e+02</td>\n",
       "      <td>2.063576e+02</td>\n",
       "      <td>2.060640e+02</td>\n",
       "      <td>2.057272e+02</td>\n",
       "      <td>2.054238e+02</td>\n",
       "    </tr>\n",
       "    <tr>\n",
       "      <th>mean200</th>\n",
       "      <td>2.060602e+02</td>\n",
       "      <td>2.059863e+02</td>\n",
       "      <td>2.059171e+02</td>\n",
       "      <td>2.058513e+02</td>\n",
       "      <td>2.057909e+02</td>\n",
       "    </tr>\n",
       "  </tbody>\n",
       "</table>\n",
       "</div>"
      ],
      "text/plain": [
       "Date         2016-01-06    2016-01-07    2016-01-08    2016-01-11  \\\n",
       "Open       1.983400e+02  1.953300e+02  1.951900e+02  1.930100e+02   \n",
       "High       2.000600e+02  1.974400e+02  1.958500e+02  1.934100e+02   \n",
       "Low        1.976000e+02  1.935900e+02  1.915800e+02  1.898200e+02   \n",
       "Close      1.988200e+02  1.940500e+02  1.919200e+02  1.921100e+02   \n",
       "Volume     1.521126e+08  2.134361e+08  2.098172e+08  1.879413e+08   \n",
       "Adj Close  1.988200e+02  1.940500e+02  1.919200e+02  1.921100e+02   \n",
       "mean50     2.066166e+02  2.063576e+02  2.060640e+02  2.057272e+02   \n",
       "mean200    2.060602e+02  2.059863e+02  2.059171e+02  2.058513e+02   \n",
       "\n",
       "Date         2016-01-12  \n",
       "Open       1.938200e+02  \n",
       "High       1.945500e+02  \n",
       "Low        1.911400e+02  \n",
       "Close      1.936600e+02  \n",
       "Volume     1.662413e+08  \n",
       "Adj Close  1.936600e+02  \n",
       "mean50     2.054238e+02  \n",
       "mean200    2.057909e+02  "
      ]
     },
     "execution_count": 33,
     "metadata": {},
     "output_type": "execute_result"
    }
   ],
   "source": [
    "spy.tail().T"
   ]
  },
  {
   "cell_type": "code",
   "execution_count": null,
   "metadata": {
    "collapsed": true
   },
   "outputs": [],
   "source": []
  }
 ],
 "metadata": {
  "kernelspec": {
   "display_name": "Python 3",
   "language": "python",
   "name": "python3"
  },
  "language_info": {
   "codemirror_mode": {
    "name": "ipython",
    "version": 3
   },
   "file_extension": ".py",
   "mimetype": "text/x-python",
   "name": "python",
   "nbconvert_exporter": "python",
   "pygments_lexer": "ipython3",
   "version": "3.4.3"
  }
 },
 "nbformat": 4,
 "nbformat_minor": 0
}
