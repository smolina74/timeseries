{
 "cells": [
  {
   "cell_type": "markdown",
   "metadata": {},
   "source": [
    "# Iteration of Dataframes"
   ]
  },
  {
   "cell_type": "code",
   "execution_count": 1,
   "metadata": {
    "collapsed": true
   },
   "outputs": [],
   "source": [
    "import pandas as pd"
   ]
  },
  {
   "cell_type": "code",
   "execution_count": 2,
   "metadata": {
    "collapsed": true
   },
   "outputs": [],
   "source": [
    "df = pd.read_json('{\"index\":{\"0\":0.0,\"1\":1.0,\"2\":2.0,\"3\":3.0,\"4\":4.0,\"5\":0.0},\"%3 PTS\":{\"0\":0.478125,\"1\":0.4537815126,\"2\":0.4125,\"3\":0.4585152838,\"4\":0.4285714286,\"5\":null},\"3PA\":{\"0\":11.1,\"1\":8.1,\"2\":7.9,\"3\":7.7,\"4\":4.7,\"5\":null},\"3PM\":{\"0\":5.1,\"1\":3.6,\"2\":3.3,\"3\":3.5,\"4\":2.1,\"5\":null},\"League\":{\"0\":\"NBA\",\"1\":\"NBA\",\"2\":\"NBA\",\"3\":\"NBA\",\"4\":\"NBA\",\"5\":null},\"PTS\":{\"0\":32.0,\"1\":23.8,\"2\":24.0,\"3\":22.9,\"4\":14.7,\"5\":null},\"Team\":{\"0\":\"Golden State\",\"1\":\"Golden State\",\"2\":\"Golden State\",\"3\":\"Golden State\",\"4\":\"Golden State\",\"5\":null},\"per3\":{\"0\":47.8125,\"1\":45.3781512605,\"2\":41.25,\"3\":45.8515283843,\"4\":42.8571428571,\"5\":null},\"year\":{\"0\":\"2015-2016\",\"1\":\"2014-2015\",\"2\":\"2013-2014\",\"3\":\"2012-2013\",\"4\":\"2011-2012\",\"5\":\"2016-2017\"},\"GP\":{\"0\":25.0,\"1\":80.0,\"2\":78.0,\"3\":78.0,\"4\":26.0,\"5\":null}}')"
   ]
  },
  {
   "cell_type": "code",
   "execution_count": 3,
   "metadata": {
    "collapsed": false
   },
   "outputs": [
    {
     "data": {
      "text/html": [
       "<div>\n",
       "<table border=\"1\" class=\"dataframe\">\n",
       "  <thead>\n",
       "    <tr style=\"text-align: right;\">\n",
       "      <th></th>\n",
       "      <th>%3 PTS</th>\n",
       "      <th>3PA</th>\n",
       "      <th>3PM</th>\n",
       "      <th>GP</th>\n",
       "      <th>League</th>\n",
       "      <th>PTS</th>\n",
       "      <th>Team</th>\n",
       "      <th>index</th>\n",
       "      <th>per3</th>\n",
       "      <th>year</th>\n",
       "    </tr>\n",
       "  </thead>\n",
       "  <tbody>\n",
       "    <tr>\n",
       "      <th>0</th>\n",
       "      <td>0.478125</td>\n",
       "      <td>11.1</td>\n",
       "      <td>5.1</td>\n",
       "      <td>25</td>\n",
       "      <td>NBA</td>\n",
       "      <td>32.0</td>\n",
       "      <td>Golden State</td>\n",
       "      <td>0</td>\n",
       "      <td>47.812500</td>\n",
       "      <td>2015-2016</td>\n",
       "    </tr>\n",
       "    <tr>\n",
       "      <th>1</th>\n",
       "      <td>0.453782</td>\n",
       "      <td>8.1</td>\n",
       "      <td>3.6</td>\n",
       "      <td>80</td>\n",
       "      <td>NBA</td>\n",
       "      <td>23.8</td>\n",
       "      <td>Golden State</td>\n",
       "      <td>1</td>\n",
       "      <td>45.378151</td>\n",
       "      <td>2014-2015</td>\n",
       "    </tr>\n",
       "    <tr>\n",
       "      <th>2</th>\n",
       "      <td>0.412500</td>\n",
       "      <td>7.9</td>\n",
       "      <td>3.3</td>\n",
       "      <td>78</td>\n",
       "      <td>NBA</td>\n",
       "      <td>24.0</td>\n",
       "      <td>Golden State</td>\n",
       "      <td>2</td>\n",
       "      <td>41.250000</td>\n",
       "      <td>2013-2014</td>\n",
       "    </tr>\n",
       "    <tr>\n",
       "      <th>3</th>\n",
       "      <td>0.458515</td>\n",
       "      <td>7.7</td>\n",
       "      <td>3.5</td>\n",
       "      <td>78</td>\n",
       "      <td>NBA</td>\n",
       "      <td>22.9</td>\n",
       "      <td>Golden State</td>\n",
       "      <td>3</td>\n",
       "      <td>45.851528</td>\n",
       "      <td>2012-2013</td>\n",
       "    </tr>\n",
       "    <tr>\n",
       "      <th>4</th>\n",
       "      <td>0.428571</td>\n",
       "      <td>4.7</td>\n",
       "      <td>2.1</td>\n",
       "      <td>26</td>\n",
       "      <td>NBA</td>\n",
       "      <td>14.7</td>\n",
       "      <td>Golden State</td>\n",
       "      <td>4</td>\n",
       "      <td>42.857143</td>\n",
       "      <td>2011-2012</td>\n",
       "    </tr>\n",
       "    <tr>\n",
       "      <th>5</th>\n",
       "      <td>NaN</td>\n",
       "      <td>NaN</td>\n",
       "      <td>NaN</td>\n",
       "      <td>NaN</td>\n",
       "      <td>None</td>\n",
       "      <td>NaN</td>\n",
       "      <td>None</td>\n",
       "      <td>0</td>\n",
       "      <td>NaN</td>\n",
       "      <td>2016-2017</td>\n",
       "    </tr>\n",
       "  </tbody>\n",
       "</table>\n",
       "</div>"
      ],
      "text/plain": [
       "     %3 PTS   3PA  3PM  GP League   PTS          Team  index       per3  \\\n",
       "0  0.478125  11.1  5.1  25    NBA  32.0  Golden State      0  47.812500   \n",
       "1  0.453782   8.1  3.6  80    NBA  23.8  Golden State      1  45.378151   \n",
       "2  0.412500   7.9  3.3  78    NBA  24.0  Golden State      2  41.250000   \n",
       "3  0.458515   7.7  3.5  78    NBA  22.9  Golden State      3  45.851528   \n",
       "4  0.428571   4.7  2.1  26    NBA  14.7  Golden State      4  42.857143   \n",
       "5       NaN   NaN  NaN NaN   None   NaN          None      0        NaN   \n",
       "\n",
       "        year  \n",
       "0  2015-2016  \n",
       "1  2014-2015  \n",
       "2  2013-2014  \n",
       "3  2012-2013  \n",
       "4  2011-2012  \n",
       "5  2016-2017  "
      ]
     },
     "execution_count": 3,
     "metadata": {},
     "output_type": "execute_result"
    }
   ],
   "source": [
    "df"
   ]
  },
  {
   "cell_type": "code",
   "execution_count": 4,
   "metadata": {
    "collapsed": false
   },
   "outputs": [
    {
     "name": "stdout",
     "output_type": "stream",
     "text": [
      "%3 PTS <class 'str'>\n"
     ]
    }
   ],
   "source": [
    "for thing in df:\n",
    "    print(thing, type(thing))\n",
    "    break"
   ]
  },
  {
   "cell_type": "code",
   "execution_count": 5,
   "metadata": {
    "collapsed": false
   },
   "outputs": [
    {
     "name": "stdout",
     "output_type": "stream",
     "text": [
      "%3 PTS\n",
      "3PA\n",
      "3PM\n",
      "GP\n",
      "League\n",
      "PTS\n",
      "Team\n",
      "index\n",
      "per3\n",
      "year\n"
     ]
    }
   ],
   "source": [
    "for col_name in df:\n",
    "    print(col_name)"
   ]
  },
  {
   "cell_type": "code",
   "execution_count": 6,
   "metadata": {
    "collapsed": false
   },
   "outputs": [
    {
     "data": {
      "text/plain": [
       "['%3 PTS',\n",
       " '3PA',\n",
       " '3PM',\n",
       " 'GP',\n",
       " 'League',\n",
       " 'PTS',\n",
       " 'Team',\n",
       " 'index',\n",
       " 'per3',\n",
       " 'year']"
      ]
     },
     "execution_count": 6,
     "metadata": {},
     "output_type": "execute_result"
    }
   ],
   "source": [
    "list(df)"
   ]
  },
  {
   "cell_type": "code",
   "execution_count": 7,
   "metadata": {
    "collapsed": false
   },
   "outputs": [
    {
     "name": "stdout",
     "output_type": "stream",
     "text": [
      "('%3 PTS', 0    0.478125\n",
      "1    0.453782\n",
      "2    0.412500\n",
      "3    0.458515\n",
      "4    0.428571\n",
      "5         NaN\n",
      "Name: %3 PTS, dtype: float64)\n"
     ]
    }
   ],
   "source": [
    "for thing in df.iteritems():\n",
    "    print(thing)\n",
    "    break"
   ]
  },
  {
   "cell_type": "code",
   "execution_count": 8,
   "metadata": {
    "collapsed": false
   },
   "outputs": [
    {
     "name": "stdout",
     "output_type": "stream",
     "text": [
      "%3 PTS 0    0.478125\n",
      "1    0.453782\n",
      "2    0.412500\n",
      "3    0.458515\n",
      "4    0.428571\n",
      "5         NaN\n",
      "Name: %3 PTS, dtype: float64\n"
     ]
    }
   ],
   "source": [
    "for name, col in df.iteritems():\n",
    "    print(name, col)\n",
    "    break"
   ]
  },
  {
   "cell_type": "code",
   "execution_count": 9,
   "metadata": {
    "collapsed": false
   },
   "outputs": [
    {
     "name": "stdout",
     "output_type": "stream",
     "text": [
      "(0.0, 0.47812499999999997, 11.1, 5.0999999999999996, 25.0, 'NBA', 32.0, 'Golden State', 0, 47.8125, '2015-2016')\n"
     ]
    }
   ],
   "source": [
    "for tup in df.itertuples():\n",
    "    print(tup)\n",
    "    break"
   ]
  },
  {
   "cell_type": "code",
   "execution_count": 10,
   "metadata": {
    "collapsed": false
   },
   "outputs": [
    {
     "data": {
      "text/html": [
       "<div>\n",
       "<table border=\"1\" class=\"dataframe\">\n",
       "  <thead>\n",
       "    <tr style=\"text-align: right;\">\n",
       "      <th></th>\n",
       "      <th>%3 PTS</th>\n",
       "      <th>3PA</th>\n",
       "      <th>3PM</th>\n",
       "      <th>GP</th>\n",
       "      <th>League</th>\n",
       "      <th>PTS</th>\n",
       "      <th>Team</th>\n",
       "      <th>index</th>\n",
       "      <th>per3</th>\n",
       "      <th>year</th>\n",
       "    </tr>\n",
       "  </thead>\n",
       "  <tbody>\n",
       "    <tr>\n",
       "      <th>0</th>\n",
       "      <td>0.478125</td>\n",
       "      <td>11.1</td>\n",
       "      <td>5.1</td>\n",
       "      <td>25</td>\n",
       "      <td>NBA</td>\n",
       "      <td>32.0</td>\n",
       "      <td>Golden State</td>\n",
       "      <td>0</td>\n",
       "      <td>47.812500</td>\n",
       "      <td>2015-2016</td>\n",
       "    </tr>\n",
       "    <tr>\n",
       "      <th>1</th>\n",
       "      <td>0.453782</td>\n",
       "      <td>8.1</td>\n",
       "      <td>3.6</td>\n",
       "      <td>80</td>\n",
       "      <td>NBA</td>\n",
       "      <td>23.8</td>\n",
       "      <td>Golden State</td>\n",
       "      <td>1</td>\n",
       "      <td>45.378151</td>\n",
       "      <td>2014-2015</td>\n",
       "    </tr>\n",
       "    <tr>\n",
       "      <th>2</th>\n",
       "      <td>0.412500</td>\n",
       "      <td>7.9</td>\n",
       "      <td>3.3</td>\n",
       "      <td>78</td>\n",
       "      <td>NBA</td>\n",
       "      <td>24.0</td>\n",
       "      <td>Golden State</td>\n",
       "      <td>2</td>\n",
       "      <td>41.250000</td>\n",
       "      <td>2013-2014</td>\n",
       "    </tr>\n",
       "    <tr>\n",
       "      <th>3</th>\n",
       "      <td>0.458515</td>\n",
       "      <td>7.7</td>\n",
       "      <td>3.5</td>\n",
       "      <td>78</td>\n",
       "      <td>NBA</td>\n",
       "      <td>22.9</td>\n",
       "      <td>Golden State</td>\n",
       "      <td>3</td>\n",
       "      <td>45.851528</td>\n",
       "      <td>2012-2013</td>\n",
       "    </tr>\n",
       "    <tr>\n",
       "      <th>4</th>\n",
       "      <td>0.428571</td>\n",
       "      <td>4.7</td>\n",
       "      <td>2.1</td>\n",
       "      <td>26</td>\n",
       "      <td>NBA</td>\n",
       "      <td>14.7</td>\n",
       "      <td>Golden State</td>\n",
       "      <td>4</td>\n",
       "      <td>42.857143</td>\n",
       "      <td>2011-2012</td>\n",
       "    </tr>\n",
       "    <tr>\n",
       "      <th>5</th>\n",
       "      <td>NaN</td>\n",
       "      <td>NaN</td>\n",
       "      <td>NaN</td>\n",
       "      <td>NaN</td>\n",
       "      <td>None</td>\n",
       "      <td>NaN</td>\n",
       "      <td>None</td>\n",
       "      <td>0</td>\n",
       "      <td>NaN</td>\n",
       "      <td>2016-2017</td>\n",
       "    </tr>\n",
       "  </tbody>\n",
       "</table>\n",
       "</div>"
      ],
      "text/plain": [
       "     %3 PTS   3PA  3PM  GP League   PTS          Team  index       per3  \\\n",
       "0  0.478125  11.1  5.1  25    NBA  32.0  Golden State      0  47.812500   \n",
       "1  0.453782   8.1  3.6  80    NBA  23.8  Golden State      1  45.378151   \n",
       "2  0.412500   7.9  3.3  78    NBA  24.0  Golden State      2  41.250000   \n",
       "3  0.458515   7.7  3.5  78    NBA  22.9  Golden State      3  45.851528   \n",
       "4  0.428571   4.7  2.1  26    NBA  14.7  Golden State      4  42.857143   \n",
       "5       NaN   NaN  NaN NaN   None   NaN          None      0        NaN   \n",
       "\n",
       "        year  \n",
       "0  2015-2016  \n",
       "1  2014-2015  \n",
       "2  2013-2014  \n",
       "3  2012-2013  \n",
       "4  2011-2012  \n",
       "5  2016-2017  "
      ]
     },
     "execution_count": 10,
     "metadata": {},
     "output_type": "execute_result"
    }
   ],
   "source": [
    "df"
   ]
  },
  {
   "cell_type": "code",
   "execution_count": 12,
   "metadata": {
    "collapsed": false
   },
   "outputs": [
    {
     "name": "stdout",
     "output_type": "stream",
     "text": [
      "(0.0, %3 PTS        0.478125\n",
      "3PA               11.1\n",
      "3PM                5.1\n",
      "GP                  25\n",
      "League             NBA\n",
      "PTS                 32\n",
      "Team      Golden State\n",
      "index                0\n",
      "per3           47.8125\n",
      "year         2015-2016\n",
      "Name: 0.0, dtype: object) <class 'tuple'>\n"
     ]
    }
   ],
   "source": [
    "for thing in df.iterrows():\n",
    "    print(thing, type(thing))\n",
    "    break"
   ]
  },
  {
   "cell_type": "code",
   "execution_count": 13,
   "metadata": {
    "collapsed": false
   },
   "outputs": [
    {
     "data": {
      "text/plain": [
       "2"
      ]
     },
     "execution_count": 13,
     "metadata": {},
     "output_type": "execute_result"
    }
   ],
   "source": [
    "len(thing)"
   ]
  },
  {
   "cell_type": "code",
   "execution_count": 15,
   "metadata": {
    "collapsed": false
   },
   "outputs": [
    {
     "data": {
      "text/plain": [
       "0.0"
      ]
     },
     "execution_count": 15,
     "metadata": {},
     "output_type": "execute_result"
    }
   ],
   "source": [
    "thing[0] # index"
   ]
  },
  {
   "cell_type": "code",
   "execution_count": 16,
   "metadata": {
    "collapsed": false
   },
   "outputs": [
    {
     "data": {
      "text/plain": [
       "%3 PTS        0.478125\n",
       "3PA               11.1\n",
       "3PM                5.1\n",
       "GP                  25\n",
       "League             NBA\n",
       "PTS                 32\n",
       "Team      Golden State\n",
       "index                0\n",
       "per3           47.8125\n",
       "year         2015-2016\n",
       "Name: 0.0, dtype: object"
      ]
     },
     "execution_count": 16,
     "metadata": {},
     "output_type": "execute_result"
    }
   ],
   "source": [
    "thing[1] # series"
   ]
  },
  {
   "cell_type": "code",
   "execution_count": 17,
   "metadata": {
    "collapsed": false
   },
   "outputs": [
    {
     "name": "stdout",
     "output_type": "stream",
     "text": [
      "0.0 %3 PTS        0.478125\n",
      "3PA               11.1\n",
      "3PM                5.1\n",
      "GP                  25\n",
      "League             NBA\n",
      "PTS                 32\n",
      "Team      Golden State\n",
      "index                0\n",
      "per3           47.8125\n",
      "year         2015-2016\n",
      "Name: 0.0, dtype: object\n"
     ]
    }
   ],
   "source": [
    "for idx, row in df.iterrows():\n",
    "    print(idx, row)\n",
    "    break"
   ]
  }
 ],
 "metadata": {
  "kernelspec": {
   "display_name": "Python 3",
   "language": "python",
   "name": "python3"
  },
  "language_info": {
   "codemirror_mode": {
    "name": "ipython",
    "version": 3
   },
   "file_extension": ".py",
   "mimetype": "text/x-python",
   "name": "python",
   "nbconvert_exporter": "python",
   "pygments_lexer": "ipython3",
   "version": "3.4.3"
  }
 },
 "nbformat": 4,
 "nbformat_minor": 0
}
