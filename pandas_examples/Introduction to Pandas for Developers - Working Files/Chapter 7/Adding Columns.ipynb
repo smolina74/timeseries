{
 "cells": [
  {
   "cell_type": "markdown",
   "metadata": {},
   "source": [
    "# Adding Columns"
   ]
  },
  {
   "cell_type": "code",
   "execution_count": 1,
   "metadata": {
    "collapsed": true
   },
   "outputs": [],
   "source": [
    "import pandas as pd"
   ]
  },
  {
   "cell_type": "code",
   "execution_count": 2,
   "metadata": {
    "collapsed": true
   },
   "outputs": [],
   "source": [
    "json_data = '{\"3PA\":{\"0\":11.1,\"1\":8.1,\"2\":7.9,\"3\":7.7,\"4\":4.7},\"3PM\":{\"0\":5.1,\"1\":3.6,\"2\":3.3,\"3\":3.5,\"4\":2.1},\"year\":{\"0\":\"2015-2016\",\"1\":\"2014-2015\",\"2\":\"2013-2014\",\"3\":\"2012-2013\",\"4\":\"2011-2012\"}}'\n",
    "df = pd.read_json(json_data)"
   ]
  },
  {
   "cell_type": "code",
   "execution_count": 3,
   "metadata": {
    "collapsed": false
   },
   "outputs": [
    {
     "data": {
      "text/html": [
       "<div>\n",
       "<table border=\"1\" class=\"dataframe\">\n",
       "  <thead>\n",
       "    <tr style=\"text-align: right;\">\n",
       "      <th></th>\n",
       "      <th>3PA</th>\n",
       "      <th>3PM</th>\n",
       "      <th>year</th>\n",
       "    </tr>\n",
       "  </thead>\n",
       "  <tbody>\n",
       "    <tr>\n",
       "      <th>0</th>\n",
       "      <td>11.1</td>\n",
       "      <td>5.1</td>\n",
       "      <td>2015-2016</td>\n",
       "    </tr>\n",
       "    <tr>\n",
       "      <th>1</th>\n",
       "      <td>8.1</td>\n",
       "      <td>3.6</td>\n",
       "      <td>2014-2015</td>\n",
       "    </tr>\n",
       "    <tr>\n",
       "      <th>2</th>\n",
       "      <td>7.9</td>\n",
       "      <td>3.3</td>\n",
       "      <td>2013-2014</td>\n",
       "    </tr>\n",
       "    <tr>\n",
       "      <th>3</th>\n",
       "      <td>7.7</td>\n",
       "      <td>3.5</td>\n",
       "      <td>2012-2013</td>\n",
       "    </tr>\n",
       "    <tr>\n",
       "      <th>4</th>\n",
       "      <td>4.7</td>\n",
       "      <td>2.1</td>\n",
       "      <td>2011-2012</td>\n",
       "    </tr>\n",
       "  </tbody>\n",
       "</table>\n",
       "</div>"
      ],
      "text/plain": [
       "    3PA  3PM       year\n",
       "0  11.1  5.1  2015-2016\n",
       "1   8.1  3.6  2014-2015\n",
       "2   7.9  3.3  2013-2014\n",
       "3   7.7  3.5  2012-2013\n",
       "4   4.7  2.1  2011-2012"
      ]
     },
     "execution_count": 3,
     "metadata": {},
     "output_type": "execute_result"
    }
   ],
   "source": [
    "df"
   ]
  },
  {
   "cell_type": "code",
   "execution_count": 4,
   "metadata": {
    "collapsed": true
   },
   "outputs": [],
   "source": [
    "df['PTS'] = [32, 23.8, 24, 22.9, 14.7]"
   ]
  },
  {
   "cell_type": "code",
   "execution_count": 5,
   "metadata": {
    "collapsed": false
   },
   "outputs": [
    {
     "data": {
      "text/html": [
       "<div>\n",
       "<table border=\"1\" class=\"dataframe\">\n",
       "  <thead>\n",
       "    <tr style=\"text-align: right;\">\n",
       "      <th></th>\n",
       "      <th>3PA</th>\n",
       "      <th>3PM</th>\n",
       "      <th>year</th>\n",
       "      <th>PTS</th>\n",
       "    </tr>\n",
       "  </thead>\n",
       "  <tbody>\n",
       "    <tr>\n",
       "      <th>0</th>\n",
       "      <td>11.1</td>\n",
       "      <td>5.1</td>\n",
       "      <td>2015-2016</td>\n",
       "      <td>32.0</td>\n",
       "    </tr>\n",
       "    <tr>\n",
       "      <th>1</th>\n",
       "      <td>8.1</td>\n",
       "      <td>3.6</td>\n",
       "      <td>2014-2015</td>\n",
       "      <td>23.8</td>\n",
       "    </tr>\n",
       "    <tr>\n",
       "      <th>2</th>\n",
       "      <td>7.9</td>\n",
       "      <td>3.3</td>\n",
       "      <td>2013-2014</td>\n",
       "      <td>24.0</td>\n",
       "    </tr>\n",
       "    <tr>\n",
       "      <th>3</th>\n",
       "      <td>7.7</td>\n",
       "      <td>3.5</td>\n",
       "      <td>2012-2013</td>\n",
       "      <td>22.9</td>\n",
       "    </tr>\n",
       "    <tr>\n",
       "      <th>4</th>\n",
       "      <td>4.7</td>\n",
       "      <td>2.1</td>\n",
       "      <td>2011-2012</td>\n",
       "      <td>14.7</td>\n",
       "    </tr>\n",
       "  </tbody>\n",
       "</table>\n",
       "</div>"
      ],
      "text/plain": [
       "    3PA  3PM       year   PTS\n",
       "0  11.1  5.1  2015-2016  32.0\n",
       "1   8.1  3.6  2014-2015  23.8\n",
       "2   7.9  3.3  2013-2014  24.0\n",
       "3   7.7  3.5  2012-2013  22.9\n",
       "4   4.7  2.1  2011-2012  14.7"
      ]
     },
     "execution_count": 5,
     "metadata": {},
     "output_type": "execute_result"
    }
   ],
   "source": [
    "df"
   ]
  },
  {
   "cell_type": "code",
   "execution_count": 6,
   "metadata": {
    "collapsed": false
   },
   "outputs": [
    {
     "data": {
      "text/plain": [
       "0    32.0\n",
       "1    23.8\n",
       "2    24.0\n",
       "3    22.9\n",
       "4    14.7\n",
       "Name: PTS, dtype: float64"
      ]
     },
     "execution_count": 6,
     "metadata": {},
     "output_type": "execute_result"
    }
   ],
   "source": [
    "df.PTS"
   ]
  },
  {
   "cell_type": "code",
   "execution_count": 7,
   "metadata": {
    "collapsed": true
   },
   "outputs": [],
   "source": [
    "df.Team = 'Golden State'"
   ]
  },
  {
   "cell_type": "code",
   "execution_count": 8,
   "metadata": {
    "collapsed": false
   },
   "outputs": [
    {
     "data": {
      "text/html": [
       "<div>\n",
       "<table border=\"1\" class=\"dataframe\">\n",
       "  <thead>\n",
       "    <tr style=\"text-align: right;\">\n",
       "      <th></th>\n",
       "      <th>3PA</th>\n",
       "      <th>3PM</th>\n",
       "      <th>year</th>\n",
       "      <th>PTS</th>\n",
       "    </tr>\n",
       "  </thead>\n",
       "  <tbody>\n",
       "    <tr>\n",
       "      <th>0</th>\n",
       "      <td>11.1</td>\n",
       "      <td>5.1</td>\n",
       "      <td>2015-2016</td>\n",
       "      <td>32.0</td>\n",
       "    </tr>\n",
       "    <tr>\n",
       "      <th>1</th>\n",
       "      <td>8.1</td>\n",
       "      <td>3.6</td>\n",
       "      <td>2014-2015</td>\n",
       "      <td>23.8</td>\n",
       "    </tr>\n",
       "    <tr>\n",
       "      <th>2</th>\n",
       "      <td>7.9</td>\n",
       "      <td>3.3</td>\n",
       "      <td>2013-2014</td>\n",
       "      <td>24.0</td>\n",
       "    </tr>\n",
       "    <tr>\n",
       "      <th>3</th>\n",
       "      <td>7.7</td>\n",
       "      <td>3.5</td>\n",
       "      <td>2012-2013</td>\n",
       "      <td>22.9</td>\n",
       "    </tr>\n",
       "    <tr>\n",
       "      <th>4</th>\n",
       "      <td>4.7</td>\n",
       "      <td>2.1</td>\n",
       "      <td>2011-2012</td>\n",
       "      <td>14.7</td>\n",
       "    </tr>\n",
       "  </tbody>\n",
       "</table>\n",
       "</div>"
      ],
      "text/plain": [
       "    3PA  3PM       year   PTS\n",
       "0  11.1  5.1  2015-2016  32.0\n",
       "1   8.1  3.6  2014-2015  23.8\n",
       "2   7.9  3.3  2013-2014  24.0\n",
       "3   7.7  3.5  2012-2013  22.9\n",
       "4   4.7  2.1  2011-2012  14.7"
      ]
     },
     "execution_count": 8,
     "metadata": {},
     "output_type": "execute_result"
    }
   ],
   "source": [
    "df"
   ]
  },
  {
   "cell_type": "code",
   "execution_count": 9,
   "metadata": {
    "collapsed": true
   },
   "outputs": [],
   "source": [
    "df['Team'] = 'Golden State'"
   ]
  },
  {
   "cell_type": "code",
   "execution_count": 10,
   "metadata": {
    "collapsed": false
   },
   "outputs": [
    {
     "data": {
      "text/html": [
       "<div>\n",
       "<table border=\"1\" class=\"dataframe\">\n",
       "  <thead>\n",
       "    <tr style=\"text-align: right;\">\n",
       "      <th></th>\n",
       "      <th>3PA</th>\n",
       "      <th>3PM</th>\n",
       "      <th>year</th>\n",
       "      <th>PTS</th>\n",
       "      <th>Team</th>\n",
       "    </tr>\n",
       "  </thead>\n",
       "  <tbody>\n",
       "    <tr>\n",
       "      <th>0</th>\n",
       "      <td>11.1</td>\n",
       "      <td>5.1</td>\n",
       "      <td>2015-2016</td>\n",
       "      <td>32.0</td>\n",
       "      <td>Golden State</td>\n",
       "    </tr>\n",
       "    <tr>\n",
       "      <th>1</th>\n",
       "      <td>8.1</td>\n",
       "      <td>3.6</td>\n",
       "      <td>2014-2015</td>\n",
       "      <td>23.8</td>\n",
       "      <td>Golden State</td>\n",
       "    </tr>\n",
       "    <tr>\n",
       "      <th>2</th>\n",
       "      <td>7.9</td>\n",
       "      <td>3.3</td>\n",
       "      <td>2013-2014</td>\n",
       "      <td>24.0</td>\n",
       "      <td>Golden State</td>\n",
       "    </tr>\n",
       "    <tr>\n",
       "      <th>3</th>\n",
       "      <td>7.7</td>\n",
       "      <td>3.5</td>\n",
       "      <td>2012-2013</td>\n",
       "      <td>22.9</td>\n",
       "      <td>Golden State</td>\n",
       "    </tr>\n",
       "    <tr>\n",
       "      <th>4</th>\n",
       "      <td>4.7</td>\n",
       "      <td>2.1</td>\n",
       "      <td>2011-2012</td>\n",
       "      <td>14.7</td>\n",
       "      <td>Golden State</td>\n",
       "    </tr>\n",
       "  </tbody>\n",
       "</table>\n",
       "</div>"
      ],
      "text/plain": [
       "    3PA  3PM       year   PTS          Team\n",
       "0  11.1  5.1  2015-2016  32.0  Golden State\n",
       "1   8.1  3.6  2014-2015  23.8  Golden State\n",
       "2   7.9  3.3  2013-2014  24.0  Golden State\n",
       "3   7.7  3.5  2012-2013  22.9  Golden State\n",
       "4   4.7  2.1  2011-2012  14.7  Golden State"
      ]
     },
     "execution_count": 10,
     "metadata": {},
     "output_type": "execute_result"
    }
   ],
   "source": [
    "df"
   ]
  },
  {
   "cell_type": "code",
   "execution_count": 11,
   "metadata": {
    "collapsed": true
   },
   "outputs": [],
   "source": [
    "df.loc[:,\"League\"] = 'NBA'"
   ]
  },
  {
   "cell_type": "code",
   "execution_count": 12,
   "metadata": {
    "collapsed": false
   },
   "outputs": [
    {
     "data": {
      "text/html": [
       "<div>\n",
       "<table border=\"1\" class=\"dataframe\">\n",
       "  <thead>\n",
       "    <tr style=\"text-align: right;\">\n",
       "      <th></th>\n",
       "      <th>3PA</th>\n",
       "      <th>3PM</th>\n",
       "      <th>year</th>\n",
       "      <th>PTS</th>\n",
       "      <th>Team</th>\n",
       "      <th>League</th>\n",
       "    </tr>\n",
       "  </thead>\n",
       "  <tbody>\n",
       "    <tr>\n",
       "      <th>0</th>\n",
       "      <td>11.1</td>\n",
       "      <td>5.1</td>\n",
       "      <td>2015-2016</td>\n",
       "      <td>32.0</td>\n",
       "      <td>Golden State</td>\n",
       "      <td>NBA</td>\n",
       "    </tr>\n",
       "    <tr>\n",
       "      <th>1</th>\n",
       "      <td>8.1</td>\n",
       "      <td>3.6</td>\n",
       "      <td>2014-2015</td>\n",
       "      <td>23.8</td>\n",
       "      <td>Golden State</td>\n",
       "      <td>NBA</td>\n",
       "    </tr>\n",
       "    <tr>\n",
       "      <th>2</th>\n",
       "      <td>7.9</td>\n",
       "      <td>3.3</td>\n",
       "      <td>2013-2014</td>\n",
       "      <td>24.0</td>\n",
       "      <td>Golden State</td>\n",
       "      <td>NBA</td>\n",
       "    </tr>\n",
       "    <tr>\n",
       "      <th>3</th>\n",
       "      <td>7.7</td>\n",
       "      <td>3.5</td>\n",
       "      <td>2012-2013</td>\n",
       "      <td>22.9</td>\n",
       "      <td>Golden State</td>\n",
       "      <td>NBA</td>\n",
       "    </tr>\n",
       "    <tr>\n",
       "      <th>4</th>\n",
       "      <td>4.7</td>\n",
       "      <td>2.1</td>\n",
       "      <td>2011-2012</td>\n",
       "      <td>14.7</td>\n",
       "      <td>Golden State</td>\n",
       "      <td>NBA</td>\n",
       "    </tr>\n",
       "  </tbody>\n",
       "</table>\n",
       "</div>"
      ],
      "text/plain": [
       "    3PA  3PM       year   PTS          Team League\n",
       "0  11.1  5.1  2015-2016  32.0  Golden State    NBA\n",
       "1   8.1  3.6  2014-2015  23.8  Golden State    NBA\n",
       "2   7.9  3.3  2013-2014  24.0  Golden State    NBA\n",
       "3   7.7  3.5  2012-2013  22.9  Golden State    NBA\n",
       "4   4.7  2.1  2011-2012  14.7  Golden State    NBA"
      ]
     },
     "execution_count": 12,
     "metadata": {},
     "output_type": "execute_result"
    }
   ],
   "source": [
    "df\n"
   ]
  },
  {
   "cell_type": "code",
   "execution_count": null,
   "metadata": {
    "collapsed": true
   },
   "outputs": [],
   "source": []
  }
 ],
 "metadata": {
  "kernelspec": {
   "display_name": "Python 3",
   "language": "python",
   "name": "python3"
  },
  "language_info": {
   "codemirror_mode": {
    "name": "ipython",
    "version": 3
   },
   "file_extension": ".py",
   "mimetype": "text/x-python",
   "name": "python",
   "nbconvert_exporter": "python",
   "pygments_lexer": "ipython3",
   "version": "3.4.3"
  }
 },
 "nbformat": 4,
 "nbformat_minor": 0
}
