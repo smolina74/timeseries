{
 "cells": [
  {
   "cell_type": "markdown",
   "metadata": {},
   "source": [
    "# Applying Functions"
   ]
  },
  {
   "cell_type": "code",
   "execution_count": 1,
   "metadata": {
    "collapsed": true
   },
   "outputs": [],
   "source": [
    "import pandas as pd"
   ]
  },
  {
   "cell_type": "code",
   "execution_count": 2,
   "metadata": {
    "collapsed": true
   },
   "outputs": [],
   "source": [
    "df = pd.read_json('{\"3PA\":{\"0.0\":11.1,\"1.0\":8.1,\"2.0\":7.9,\"3.0\":7.7,\"4.0\":4.7},\"3PM\":{\"0.0\":5.1,\"1.0\":3.6,\"2.0\":3.3,\"3.0\":3.5,\"4.0\":2.1},\"year\":{\"0.0\":\"2015-2016\",\"1.0\":\"2014-2015\",\"2.0\":\"2013-2014\",\"3.0\":\"2012-2013\",\"4.0\":\"2011-2012\"},\"PTS\":{\"0.0\":32.0,\"1.0\":23.8,\"2.0\":24.0,\"3.0\":22.9,\"4.0\":14.7},\"League\":{\"0.0\":\"NBA\",\"1.0\":\"NBA\",\"2.0\":\"NBA\",\"3.0\":\"NBA\",\"4.0\":\"NBA\"},\"Team\":{\"0.0\":\"Golden State\",\"1.0\":\"Golden State\",\"2.0\":\"Golden State\",\"3.0\":\"Golden State\",\"4.0\":\"Golden State\"}}')"
   ]
  },
  {
   "cell_type": "code",
   "execution_count": 3,
   "metadata": {
    "collapsed": false
   },
   "outputs": [
    {
     "data": {
      "text/html": [
       "<div>\n",
       "<table border=\"1\" class=\"dataframe\">\n",
       "  <thead>\n",
       "    <tr style=\"text-align: right;\">\n",
       "      <th></th>\n",
       "      <th>3PA</th>\n",
       "      <th>3PM</th>\n",
       "      <th>League</th>\n",
       "      <th>PTS</th>\n",
       "      <th>Team</th>\n",
       "      <th>year</th>\n",
       "    </tr>\n",
       "  </thead>\n",
       "  <tbody>\n",
       "    <tr>\n",
       "      <th>0</th>\n",
       "      <td>11.1</td>\n",
       "      <td>5.1</td>\n",
       "      <td>NBA</td>\n",
       "      <td>32.0</td>\n",
       "      <td>Golden State</td>\n",
       "      <td>2015-2016</td>\n",
       "    </tr>\n",
       "    <tr>\n",
       "      <th>1</th>\n",
       "      <td>8.1</td>\n",
       "      <td>3.6</td>\n",
       "      <td>NBA</td>\n",
       "      <td>23.8</td>\n",
       "      <td>Golden State</td>\n",
       "      <td>2014-2015</td>\n",
       "    </tr>\n",
       "    <tr>\n",
       "      <th>2</th>\n",
       "      <td>7.9</td>\n",
       "      <td>3.3</td>\n",
       "      <td>NBA</td>\n",
       "      <td>24.0</td>\n",
       "      <td>Golden State</td>\n",
       "      <td>2013-2014</td>\n",
       "    </tr>\n",
       "    <tr>\n",
       "      <th>3</th>\n",
       "      <td>7.7</td>\n",
       "      <td>3.5</td>\n",
       "      <td>NBA</td>\n",
       "      <td>22.9</td>\n",
       "      <td>Golden State</td>\n",
       "      <td>2012-2013</td>\n",
       "    </tr>\n",
       "    <tr>\n",
       "      <th>4</th>\n",
       "      <td>4.7</td>\n",
       "      <td>2.1</td>\n",
       "      <td>NBA</td>\n",
       "      <td>14.7</td>\n",
       "      <td>Golden State</td>\n",
       "      <td>2011-2012</td>\n",
       "    </tr>\n",
       "  </tbody>\n",
       "</table>\n",
       "</div>"
      ],
      "text/plain": [
       "    3PA  3PM League   PTS          Team       year\n",
       "0  11.1  5.1    NBA  32.0  Golden State  2015-2016\n",
       "1   8.1  3.6    NBA  23.8  Golden State  2014-2015\n",
       "2   7.9  3.3    NBA  24.0  Golden State  2013-2014\n",
       "3   7.7  3.5    NBA  22.9  Golden State  2012-2013\n",
       "4   4.7  2.1    NBA  14.7  Golden State  2011-2012"
      ]
     },
     "execution_count": 3,
     "metadata": {},
     "output_type": "execute_result"
    }
   ],
   "source": [
    "df"
   ]
  },
  {
   "cell_type": "code",
   "execution_count": 7,
   "metadata": {
    "collapsed": false
   },
   "outputs": [
    {
     "data": {
      "text/plain": [
       "0    45.945946\n",
       "1    44.444444\n",
       "2    41.772152\n",
       "3    45.454545\n",
       "4    44.680851\n",
       "dtype: float64"
      ]
     },
     "execution_count": 7,
     "metadata": {},
     "output_type": "execute_result"
    }
   ],
   "source": [
    "df['3PM'] / df['3PA'] * 100"
   ]
  },
  {
   "cell_type": "code",
   "execution_count": 8,
   "metadata": {
    "collapsed": false
   },
   "outputs": [
    {
     "data": {
      "text/plain": [
       "0    45.945946\n",
       "1    44.444444\n",
       "2    41.772152\n",
       "3    45.454545\n",
       "4    44.680851\n",
       "dtype: float64"
      ]
     },
     "execution_count": 8,
     "metadata": {},
     "output_type": "execute_result"
    }
   ],
   "source": [
    "def percent(vals):\n",
    "    made, attempt = vals\n",
    "    return made / attempt * 100\n",
    "\n",
    "df[['3PM', '3PA']].apply(percent, axis=1)"
   ]
  },
  {
   "cell_type": "code",
   "execution_count": 9,
   "metadata": {
    "collapsed": true
   },
   "outputs": [],
   "source": [
    "df['3PP'] = df[['3PM', '3PA']].apply(percent, axis=1)"
   ]
  },
  {
   "cell_type": "code",
   "execution_count": 10,
   "metadata": {
    "collapsed": false
   },
   "outputs": [
    {
     "data": {
      "text/html": [
       "<div>\n",
       "<table border=\"1\" class=\"dataframe\">\n",
       "  <thead>\n",
       "    <tr style=\"text-align: right;\">\n",
       "      <th></th>\n",
       "      <th>3PA</th>\n",
       "      <th>3PM</th>\n",
       "      <th>League</th>\n",
       "      <th>PTS</th>\n",
       "      <th>Team</th>\n",
       "      <th>year</th>\n",
       "      <th>3PP</th>\n",
       "    </tr>\n",
       "  </thead>\n",
       "  <tbody>\n",
       "    <tr>\n",
       "      <th>0</th>\n",
       "      <td>11.1</td>\n",
       "      <td>5.1</td>\n",
       "      <td>NBA</td>\n",
       "      <td>32.0</td>\n",
       "      <td>Golden State</td>\n",
       "      <td>2015-2016</td>\n",
       "      <td>45.945946</td>\n",
       "    </tr>\n",
       "    <tr>\n",
       "      <th>1</th>\n",
       "      <td>8.1</td>\n",
       "      <td>3.6</td>\n",
       "      <td>NBA</td>\n",
       "      <td>23.8</td>\n",
       "      <td>Golden State</td>\n",
       "      <td>2014-2015</td>\n",
       "      <td>44.444444</td>\n",
       "    </tr>\n",
       "    <tr>\n",
       "      <th>2</th>\n",
       "      <td>7.9</td>\n",
       "      <td>3.3</td>\n",
       "      <td>NBA</td>\n",
       "      <td>24.0</td>\n",
       "      <td>Golden State</td>\n",
       "      <td>2013-2014</td>\n",
       "      <td>41.772152</td>\n",
       "    </tr>\n",
       "    <tr>\n",
       "      <th>3</th>\n",
       "      <td>7.7</td>\n",
       "      <td>3.5</td>\n",
       "      <td>NBA</td>\n",
       "      <td>22.9</td>\n",
       "      <td>Golden State</td>\n",
       "      <td>2012-2013</td>\n",
       "      <td>45.454545</td>\n",
       "    </tr>\n",
       "    <tr>\n",
       "      <th>4</th>\n",
       "      <td>4.7</td>\n",
       "      <td>2.1</td>\n",
       "      <td>NBA</td>\n",
       "      <td>14.7</td>\n",
       "      <td>Golden State</td>\n",
       "      <td>2011-2012</td>\n",
       "      <td>44.680851</td>\n",
       "    </tr>\n",
       "  </tbody>\n",
       "</table>\n",
       "</div>"
      ],
      "text/plain": [
       "    3PA  3PM League   PTS          Team       year        3PP\n",
       "0  11.1  5.1    NBA  32.0  Golden State  2015-2016  45.945946\n",
       "1   8.1  3.6    NBA  23.8  Golden State  2014-2015  44.444444\n",
       "2   7.9  3.3    NBA  24.0  Golden State  2013-2014  41.772152\n",
       "3   7.7  3.5    NBA  22.9  Golden State  2012-2013  45.454545\n",
       "4   4.7  2.1    NBA  14.7  Golden State  2011-2012  44.680851"
      ]
     },
     "execution_count": 10,
     "metadata": {},
     "output_type": "execute_result"
    }
   ],
   "source": [
    "df"
   ]
  },
  {
   "cell_type": "code",
   "execution_count": 11,
   "metadata": {
    "collapsed": false
   },
   "outputs": [
    {
     "data": {
      "text/plain": [
       "0    0.459459\n",
       "1    0.444444\n",
       "2    0.417722\n",
       "3    0.454545\n",
       "4    0.446809\n",
       "Name: 3PP, dtype: float64"
      ]
     },
     "execution_count": 11,
     "metadata": {},
     "output_type": "execute_result"
    }
   ],
   "source": [
    "df['3PP'].apply(lambda x: x/100)"
   ]
  }
 ],
 "metadata": {
  "kernelspec": {
   "display_name": "Python 3",
   "language": "python",
   "name": "python3"
  },
  "language_info": {
   "codemirror_mode": {
    "name": "ipython",
    "version": 3
   },
   "file_extension": ".py",
   "mimetype": "text/x-python",
   "name": "python",
   "nbconvert_exporter": "python",
   "pygments_lexer": "ipython3",
   "version": "3.4.3"
  }
 },
 "nbformat": 4,
 "nbformat_minor": 0
}
