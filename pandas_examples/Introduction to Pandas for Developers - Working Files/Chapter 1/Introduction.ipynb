{
 "cells": [
  {
   "cell_type": "code",
   "execution_count": 2,
   "metadata": {
    "collapsed": true
   },
   "outputs": [],
   "source": [
    "import pandas as pd"
   ]
  },
  {
   "cell_type": "code",
   "execution_count": 3,
   "metadata": {
    "collapsed": true
   },
   "outputs": [],
   "source": [
    "df = pd.read_csv('beatles.csv')"
   ]
  },
  {
   "cell_type": "code",
   "execution_count": 4,
   "metadata": {
    "collapsed": false
   },
   "outputs": [
    {
     "data": {
      "text/html": [
       "<div>\n",
       "<table border=\"1\" class=\"dataframe\">\n",
       "  <thead>\n",
       "    <tr style=\"text-align: right;\">\n",
       "      <th></th>\n",
       "      <th>Unnamed: 0</th>\n",
       "      <th>Title</th>\n",
       "      <th>Released</th>\n",
       "      <th>Label</th>\n",
       "      <th>UK Chart Position</th>\n",
       "      <th>US Chart Position</th>\n",
       "      <th>BPI Certification</th>\n",
       "      <th>RIAA Certification</th>\n",
       "      <th>Count Songs</th>\n",
       "      <th>Year</th>\n",
       "    </tr>\n",
       "  </thead>\n",
       "  <tbody>\n",
       "    <tr>\n",
       "      <th>0</th>\n",
       "      <td>0</td>\n",
       "      <td>Yesterday and Today</td>\n",
       "      <td>1966-06-15</td>\n",
       "      <td>Capitol(US)</td>\n",
       "      <td>NaN</td>\n",
       "      <td>1</td>\n",
       "      <td>NaN</td>\n",
       "      <td>2xPlatinum</td>\n",
       "      <td>11</td>\n",
       "      <td>1966</td>\n",
       "    </tr>\n",
       "    <tr>\n",
       "      <th>1</th>\n",
       "      <td>1</td>\n",
       "      <td>Revolver</td>\n",
       "      <td>1966-08-05</td>\n",
       "      <td>Parlophone(UK)</td>\n",
       "      <td>1</td>\n",
       "      <td>NaN</td>\n",
       "      <td>Platinum</td>\n",
       "      <td>NaN</td>\n",
       "      <td>14</td>\n",
       "      <td>1966</td>\n",
       "    </tr>\n",
       "    <tr>\n",
       "      <th>2</th>\n",
       "      <td>2</td>\n",
       "      <td>Revolver</td>\n",
       "      <td>1966-08-08</td>\n",
       "      <td>Capitol(US)[C]</td>\n",
       "      <td>NaN</td>\n",
       "      <td>1</td>\n",
       "      <td>NaN</td>\n",
       "      <td>5xPlatinum</td>\n",
       "      <td>14</td>\n",
       "      <td>1966</td>\n",
       "    </tr>\n",
       "    <tr>\n",
       "      <th>3</th>\n",
       "      <td>3</td>\n",
       "      <td>Sgt. Pepper's Lonely Hearts Club Band</td>\n",
       "      <td>1967-06-01</td>\n",
       "      <td>Parlophone(UK), Capitol(US)</td>\n",
       "      <td>1</td>\n",
       "      <td>1</td>\n",
       "      <td>3xPlatinum</td>\n",
       "      <td>11xPlatinum</td>\n",
       "      <td>13</td>\n",
       "      <td>1967</td>\n",
       "    </tr>\n",
       "    <tr>\n",
       "      <th>4</th>\n",
       "      <td>4</td>\n",
       "      <td>Magical Mystery Tour</td>\n",
       "      <td>1967-11-27</td>\n",
       "      <td>Parlophone(UK), Capitol(US)</td>\n",
       "      <td>NaN</td>\n",
       "      <td>1</td>\n",
       "      <td>Platinum</td>\n",
       "      <td>6xPlatinum</td>\n",
       "      <td>11</td>\n",
       "      <td>1967</td>\n",
       "    </tr>\n",
       "    <tr>\n",
       "      <th>5</th>\n",
       "      <td>5</td>\n",
       "      <td>The Beatles</td>\n",
       "      <td>1968-11-22</td>\n",
       "      <td>Apple(UK), Capitol(US)</td>\n",
       "      <td>1</td>\n",
       "      <td>1</td>\n",
       "      <td>Platinum</td>\n",
       "      <td>19xPlatinum</td>\n",
       "      <td>30</td>\n",
       "      <td>1968</td>\n",
       "    </tr>\n",
       "    <tr>\n",
       "      <th>6</th>\n",
       "      <td>6</td>\n",
       "      <td>Yellow Submarine</td>\n",
       "      <td>1969-01-13</td>\n",
       "      <td>Apple(UK), Capitol(US)</td>\n",
       "      <td>3</td>\n",
       "      <td>2</td>\n",
       "      <td>Silver</td>\n",
       "      <td>Platinum</td>\n",
       "      <td>6</td>\n",
       "      <td>1969</td>\n",
       "    </tr>\n",
       "    <tr>\n",
       "      <th>7</th>\n",
       "      <td>7</td>\n",
       "      <td>Abbey Road</td>\n",
       "      <td>1969-09-26</td>\n",
       "      <td>Apple(UK), Capitol(US)</td>\n",
       "      <td>1</td>\n",
       "      <td>1</td>\n",
       "      <td>2xPlatinum</td>\n",
       "      <td>12xPlatinum</td>\n",
       "      <td>17</td>\n",
       "      <td>1969</td>\n",
       "    </tr>\n",
       "    <tr>\n",
       "      <th>8</th>\n",
       "      <td>8</td>\n",
       "      <td>Let It Be</td>\n",
       "      <td>1970-05-08</td>\n",
       "      <td>Apple(UK),United Artists(US)</td>\n",
       "      <td>1</td>\n",
       "      <td>1</td>\n",
       "      <td>Gold</td>\n",
       "      <td>4xPlatinum</td>\n",
       "      <td>12</td>\n",
       "      <td>1970</td>\n",
       "    </tr>\n",
       "  </tbody>\n",
       "</table>\n",
       "</div>"
      ],
      "text/plain": [
       "   Unnamed: 0                                  Title    Released  \\\n",
       "0           0                    Yesterday and Today  1966-06-15   \n",
       "1           1                               Revolver  1966-08-05   \n",
       "2           2                               Revolver  1966-08-08   \n",
       "3           3  Sgt. Pepper's Lonely Hearts Club Band  1967-06-01   \n",
       "4           4                   Magical Mystery Tour  1967-11-27   \n",
       "5           5                            The Beatles  1968-11-22   \n",
       "6           6                       Yellow Submarine  1969-01-13   \n",
       "7           7                             Abbey Road  1969-09-26   \n",
       "8           8                              Let It Be  1970-05-08   \n",
       "\n",
       "                          Label  UK Chart Position  US Chart Position  \\\n",
       "0                   Capitol(US)                NaN                  1   \n",
       "1                Parlophone(UK)                  1                NaN   \n",
       "2                Capitol(US)[C]                NaN                  1   \n",
       "3   Parlophone(UK), Capitol(US)                  1                  1   \n",
       "4   Parlophone(UK), Capitol(US)                NaN                  1   \n",
       "5        Apple(UK), Capitol(US)                  1                  1   \n",
       "6        Apple(UK), Capitol(US)                  3                  2   \n",
       "7        Apple(UK), Capitol(US)                  1                  1   \n",
       "8  Apple(UK),United Artists(US)                  1                  1   \n",
       "\n",
       "  BPI Certification RIAA Certification  Count Songs  Year  \n",
       "0               NaN         2xPlatinum           11  1966  \n",
       "1          Platinum                NaN           14  1966  \n",
       "2               NaN         5xPlatinum           14  1966  \n",
       "3        3xPlatinum        11xPlatinum           13  1967  \n",
       "4          Platinum         6xPlatinum           11  1967  \n",
       "5          Platinum        19xPlatinum           30  1968  \n",
       "6            Silver           Platinum            6  1969  \n",
       "7        2xPlatinum        12xPlatinum           17  1969  \n",
       "8              Gold         4xPlatinum           12  1970  "
      ]
     },
     "execution_count": 4,
     "metadata": {},
     "output_type": "execute_result"
    }
   ],
   "source": [
    "df"
   ]
  },
  {
   "cell_type": "code",
   "execution_count": 5,
   "metadata": {
    "collapsed": true
   },
   "outputs": [],
   "source": [
    "%matplotlib inline"
   ]
  },
  {
   "cell_type": "code",
   "execution_count": 6,
   "metadata": {
    "collapsed": false
   },
   "outputs": [
    {
     "data": {
      "text/plain": [
       "<matplotlib.axes._subplots.AxesSubplot at 0x11150a128>"
      ]
     },
     "execution_count": 6,
     "metadata": {},
     "output_type": "execute_result"
    },
    {
     "data": {
      "image/png": "[encoded data removed]",
      "text/plain": [
       "<matplotlib.figure.Figure at 0x10eb0c8d0>"
      ]
     },
     "metadata": {},
     "output_type": "display_data"
    }
   ],
   "source": [
    "df['Count Songs'].hist()"
   ]
  }
 ],
 "metadata": {
  "kernelspec": {
   "display_name": "Python 3",
   "language": "python",
   "name": "python3"
  },
  "language_info": {
   "codemirror_mode": {
    "name": "ipython",
    "version": 3
   },
   "file_extension": ".py",
   "mimetype": "text/x-python",
   "name": "python",
   "nbconvert_exporter": "python",
   "pygments_lexer": "ipython3",
   "version": "3.4.3"
  }
 },
 "nbformat": 4,
 "nbformat_minor": 0
}
