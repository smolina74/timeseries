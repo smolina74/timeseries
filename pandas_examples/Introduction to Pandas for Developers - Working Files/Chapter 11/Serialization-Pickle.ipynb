{
 "cells": [
  {
   "cell_type": "code",
   "execution_count": 1,
   "metadata": {
    "collapsed": true
   },
   "outputs": [],
   "source": [
    "from io import StringIO\n",
    "\n",
    "import numpy as np\n",
    "import pandas as pd"
   ]
  },
  {
   "cell_type": "code",
   "execution_count": 2,
   "metadata": {
    "collapsed": true
   },
   "outputs": [],
   "source": [
    "data = {'Birth': ['9-1-1900', '1-3-1904', '2-28-1889'],\n",
    "       'Name': [ 'Fred', 'Márge', 'Henry'],\n",
    "       'Color': ['Red', 'Blue', None],\n",
    "       'Number': [3, 1, 9]} # option-e a á\n",
    "df = pd.DataFrame(data)"
   ]
  },
  {
   "cell_type": "code",
   "execution_count": null,
   "metadata": {
    "collapsed": true
   },
   "outputs": [],
   "source": []
  },
  {
   "cell_type": "markdown",
   "metadata": {},
   "source": [
    "## Pickle"
   ]
  },
  {
   "cell_type": "code",
   "execution_count": 48,
   "metadata": {
    "collapsed": false
   },
   "outputs": [
    {
     "data": {
      "text/html": [
       "<div>\n",
       "<table border=\"1\" class=\"dataframe\">\n",
       "  <thead>\n",
       "    <tr style=\"text-align: right;\">\n",
       "      <th></th>\n",
       "      <th>Birth</th>\n",
       "      <th>Color</th>\n",
       "      <th>Name</th>\n",
       "      <th>Number</th>\n",
       "    </tr>\n",
       "  </thead>\n",
       "  <tbody>\n",
       "    <tr>\n",
       "      <th>0</th>\n",
       "      <td>1900-09-01</td>\n",
       "      <td>Red</td>\n",
       "      <td>Fred</td>\n",
       "      <td>3</td>\n",
       "    </tr>\n",
       "    <tr>\n",
       "      <th>1</th>\n",
       "      <td>1904-01-03</td>\n",
       "      <td>Blue</td>\n",
       "      <td>Márge</td>\n",
       "      <td>1</td>\n",
       "    </tr>\n",
       "    <tr>\n",
       "      <th>2</th>\n",
       "      <td>1889-02-28</td>\n",
       "      <td>None</td>\n",
       "      <td>Henry</td>\n",
       "      <td>9</td>\n",
       "    </tr>\n",
       "  </tbody>\n",
       "</table>\n",
       "</div>"
      ],
      "text/plain": [
       "       Birth Color   Name  Number\n",
       "0 1900-09-01   Red   Fred       3\n",
       "1 1904-01-03  Blue  Márge       1\n",
       "2 1889-02-28  None  Henry       9"
      ]
     },
     "execution_count": 48,
     "metadata": {},
     "output_type": "execute_result"
    }
   ],
   "source": [
    "df"
   ]
  },
  {
   "cell_type": "code",
   "execution_count": 49,
   "metadata": {
    "collapsed": true
   },
   "outputs": [],
   "source": [
    "df.to_pickle('/tmp/foo.out')"
   ]
  },
  {
   "cell_type": "code",
   "execution_count": 50,
   "metadata": {
    "collapsed": false
   },
   "outputs": [
    {
     "name": "stdout",
     "output_type": "stream",
     "text": [
      "�\u0004�:\u0004\u0000\u0000\u0000\u0000\u0000\u0000�\u0011pandas.core.frame��\tDataFrame���)}���}�(�\u0005_data��\u0015pandas.core.internals��\f",
      "BlockManager���)}���(]�(�\u0011pandas.core.index��\r\n",
      "_new_Index���h\r",
      "�\u0005Index���}�(�\u0004name�N�\u0004data��\u0015numpy.core.multiarray��\f",
      "_reconstruct����\u0005numpy��\u0007ndarray���K\u0000��C\u0001b���R�(K\u0001K\u0004���\u0005numpy��\u0005dtype����\u0002O8�K\u0000K\u0001��R�(K\u0003�\u0001|�NNNJ����J����K?t�b�]�(�\u0005Birth��\u0005Color��\u0004Name��\u0006Number�et�bu��R�h\u000fh\r",
      "�\f",
      "Float64Index���}�(h\u0013Nh\u0014h\u0017h\u001aK\u0000��h\u001c",
      "��R�(K\u0001K\u0003��h\"�\u0002f8�K\u0000K\u0001��R�(K\u0003�\u0001<�NNNJ����J����K\u0000t�b�C\u0018\u0000\u0000\u0000\u0000\u0000\u0000\u0000\u0000\u0000\u0000\u0000\u0000\u0000\u0000�?\u0000\u0000\u0000\u0000\u0000\u0000\u0000@�t�bu��R�e]�(h\u0017h\u001aK\u0000��h\u001c",
      "��R�(K\u0001K\u0001K\u0003��h\"�\u0002i8�K\u0000K\u0001��R�(K\u0003h:NNNJ����J����K\u0000t�b�C\u0018\u0003\u0000\u0000\u0000\u0000\u0000\u0000\u0000\u0001\u0000\u0000\u0000\u0000\u0000\u0000\u0000\t\u0000\u0000\u0000\u0000\u0000\u0000\u0000�t�bh\u0017h\u001aK\u0000��h\u001c",
      "��R�(K\u0001K\u0001K\u0003��h\"�\u0002M8�K\u0000K\u0001��R�(K\u0004h:NNNJ����J����K\u0000}�(C\u0002ns�K\u0001K\u0001K\u0001t���t�b�C\u0018\u0000\u0000,�i���\u0000\u0000Y���\u0018�\u0000\u0000v��ܘܔt�bh\u0017h\u001aK\u0000��h\u001c",
      "��R�(K\u0001K\u0002K\u0003��h%�]�(�\u0003Red��\u0004Blue�N�\u0004Fred��\u0006Márge��\u0005Henry�et�be]�(h\u000fh\u0011}�(h\u0013Nh\u0014h\u0017h\u001aK\u0000��h\u001c",
      "��R�(K\u0001K\u0001��h%�]�h,at�bu��R�h\u000fh\u0011}�(h\u0013Nh\u0014h\u0017h\u001aK\u0000��h\u001c",
      "��R�(K\u0001K\u0001��h%�]�h)at�bu��R�h\u000fh\u0011}�(h\u0013Nh\u0014h\u0017h\u001aK\u0000��h\u001c",
      "��R�(K\u0001K\u0002��h%�]�(h*h+et�bu��R�e}��\u00060.14.1�}�(�\u0006blocks�]�(}�(�\u0006values�hC�\bmgr_locs��\bbuiltins��\u0005slice���K\u0003K\u0004K\u0001��R�u}�(h�hMh�h�K\u0000K\u0001K\u0001��R�u}�(h�h[h�h�K\u0001K\u0003K\u0001��R�ue�\u0004axes�h\f",
      "ust�b�\u0004_typ��\tdataframe��\t_metadata�]�ub."
     ]
    }
   ],
   "source": [
    "cat /tmp/foo.out"
   ]
  },
  {
   "cell_type": "code",
   "execution_count": 51,
   "metadata": {
    "collapsed": true
   },
   "outputs": [],
   "source": [
    "df2 = pd.read_pickle('/tmp/foo.out')"
   ]
  },
  {
   "cell_type": "code",
   "execution_count": 52,
   "metadata": {
    "collapsed": false
   },
   "outputs": [
    {
     "data": {
      "text/html": [
       "<div>\n",
       "<table border=\"1\" class=\"dataframe\">\n",
       "  <thead>\n",
       "    <tr style=\"text-align: right;\">\n",
       "      <th></th>\n",
       "      <th>Birth</th>\n",
       "      <th>Color</th>\n",
       "      <th>Name</th>\n",
       "      <th>Number</th>\n",
       "    </tr>\n",
       "  </thead>\n",
       "  <tbody>\n",
       "    <tr>\n",
       "      <th>0</th>\n",
       "      <td>1900-09-01</td>\n",
       "      <td>Red</td>\n",
       "      <td>Fred</td>\n",
       "      <td>3</td>\n",
       "    </tr>\n",
       "    <tr>\n",
       "      <th>1</th>\n",
       "      <td>1904-01-03</td>\n",
       "      <td>Blue</td>\n",
       "      <td>Márge</td>\n",
       "      <td>1</td>\n",
       "    </tr>\n",
       "    <tr>\n",
       "      <th>2</th>\n",
       "      <td>1889-02-28</td>\n",
       "      <td>None</td>\n",
       "      <td>Henry</td>\n",
       "      <td>9</td>\n",
       "    </tr>\n",
       "  </tbody>\n",
       "</table>\n",
       "</div>"
      ],
      "text/plain": [
       "       Birth Color   Name  Number\n",
       "0 1900-09-01   Red   Fred       3\n",
       "1 1904-01-03  Blue  Márge       1\n",
       "2 1889-02-28  None  Henry       9"
      ]
     },
     "execution_count": 52,
     "metadata": {},
     "output_type": "execute_result"
    }
   ],
   "source": [
    "df2"
   ]
  },
  {
   "cell_type": "code",
   "execution_count": 53,
   "metadata": {
    "collapsed": false
   },
   "outputs": [
    {
     "data": {
      "text/plain": [
       "Birth     datetime64[ns]\n",
       "Color             object\n",
       "Name              object\n",
       "Number             int64\n",
       "dtype: object"
      ]
     },
     "execution_count": 53,
     "metadata": {},
     "output_type": "execute_result"
    }
   ],
   "source": [
    "df2.dtypes"
   ]
  },
  {
   "cell_type": "code",
   "execution_count": null,
   "metadata": {
    "collapsed": true
   },
   "outputs": [],
   "source": []
  },
  {
   "cell_type": "code",
   "execution_count": null,
   "metadata": {
    "collapsed": true
   },
   "outputs": [],
   "source": []
  }
 ],
 "metadata": {
  "kernelspec": {
   "display_name": "Python 3",
   "language": "python",
   "name": "python3"
  },
  "language_info": {
   "codemirror_mode": {
    "name": "ipython",
    "version": 3
   },
   "file_extension": ".py",
   "mimetype": "text/x-python",
   "name": "python",
   "nbconvert_exporter": "python",
   "pygments_lexer": "ipython3",
   "version": "3.4.3"
  }
 },
 "nbformat": 4,
 "nbformat_minor": 0
}
