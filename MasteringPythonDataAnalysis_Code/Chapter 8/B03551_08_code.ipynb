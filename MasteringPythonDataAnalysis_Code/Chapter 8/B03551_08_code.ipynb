{
 "cells": [
  {
   "cell_type": "code",
   "execution_count": 7,
   "metadata": {
    "collapsed": false,
    "init_cell": true
   },
   "outputs": [],
   "source": [
    "%matplotlib inline\n",
    "%config InlineBackend.figure_format='retina'\n",
    "import matplotlib.pyplot as plt\n",
    "import numpy as np\n",
    "import pandas as pd"
   ]
  },
  {
   "cell_type": "code",
   "execution_count": 8,
   "metadata": {
    "collapsed": true,
    "init_cell": true
   },
   "outputs": [],
   "source": [
    "import os\n",
    "plt.style.use(os.path.join(os.getcwd(), 'mystyle.mplstyle') )\n",
    "plt.rcParams['axes.edgecolor'] = 'w'"
   ]
  },
  {
   "cell_type": "markdown",
   "metadata": {},
   "source": [
    "# Time Series analysis"
   ]
  },
  {
   "cell_type": "code",
   "execution_count": 9,
   "metadata": {
    "collapsed": true
   },
   "outputs": [],
   "source": [
    "import numpy as np"
   ]
  },
  {
   "cell_type": "code",
   "execution_count": 10,
   "metadata": {
    "collapsed": false,
    "init_cell": true
   },
   "outputs": [
    {
     "ename": "ImportError",
     "evalue": "The pandas.io.data module is moved to a separate package (pandas-datareader). After installing the pandas-datareader package (https://github.com/pandas-dev/pandas-datareader), you can change the import ``from pandas.io import data, wb`` to ``from pandas_datareader import data, wb``.",
     "output_type": "error",
     "traceback": [
      "\u001b[0;31m---------------------------------------------------------------------------\u001b[0m",
      "\u001b[0;31mImportError\u001b[0m                               Traceback (most recent call last)",
      "\u001b[0;32m<ipython-input-10-b66fd1d41822>\u001b[0m in \u001b[0;36m<module>\u001b[0;34m()\u001b[0m\n\u001b[0;32m----> 1\u001b[0;31m \u001b[1;32mfrom\u001b[0m \u001b[0mpandas\u001b[0m\u001b[1;33m.\u001b[0m\u001b[0mio\u001b[0m \u001b[1;32mimport\u001b[0m \u001b[0mdata\u001b[0m\u001b[1;33m,\u001b[0m \u001b[0mwb\u001b[0m\u001b[1;33m\u001b[0m\u001b[0m\n\u001b[0m\u001b[1;32m      2\u001b[0m \u001b[1;32mimport\u001b[0m \u001b[0mscipy\u001b[0m\u001b[1;33m.\u001b[0m\u001b[0mstats\u001b[0m \u001b[1;32mas\u001b[0m \u001b[0mst\u001b[0m\u001b[1;33m\u001b[0m\u001b[0m\n\u001b[1;32m      3\u001b[0m \u001b[1;32mfrom\u001b[0m \u001b[0mstatsmodels\u001b[0m\u001b[1;33m.\u001b[0m\u001b[0mtsa\u001b[0m \u001b[1;32mimport\u001b[0m \u001b[0mstattools\u001b[0m \u001b[1;32mas\u001b[0m \u001b[0mstt\u001b[0m\u001b[1;33m\u001b[0m\u001b[0m\n\u001b[1;32m      4\u001b[0m \u001b[1;32mfrom\u001b[0m \u001b[0mstatsmodels\u001b[0m \u001b[1;32mimport\u001b[0m \u001b[0mtsa\u001b[0m\u001b[1;33m\u001b[0m\u001b[0m\n\u001b[1;32m      5\u001b[0m \u001b[1;32mimport\u001b[0m \u001b[0mstatsmodels\u001b[0m\u001b[1;33m.\u001b[0m\u001b[0mapi\u001b[0m \u001b[1;32mas\u001b[0m \u001b[0msmapi\u001b[0m\u001b[1;33m\u001b[0m\u001b[0m\n",
      "\u001b[0;32mC:\\Users\\Santiago\\Anaconda3\\lib\\site-packages\\pandas\\io\\data.py\u001b[0m in \u001b[0;36m<module>\u001b[0;34m()\u001b[0m\n\u001b[1;32m      1\u001b[0m raise ImportError(\n\u001b[0;32m----> 2\u001b[0;31m     \u001b[1;34m\"The pandas.io.data module is moved to a separate package \"\u001b[0m\u001b[1;33m\u001b[0m\u001b[0m\n\u001b[0m\u001b[1;32m      3\u001b[0m     \u001b[1;34m\"(pandas-datareader). After installing the pandas-datareader package \"\u001b[0m\u001b[1;33m\u001b[0m\u001b[0m\n\u001b[1;32m      4\u001b[0m     \u001b[1;34m\"(https://github.com/pandas-dev/pandas-datareader), you can change \"\u001b[0m\u001b[1;33m\u001b[0m\u001b[0m\n\u001b[1;32m      5\u001b[0m     \u001b[1;34m\"the import ``from pandas.io import data, wb`` to \"\u001b[0m\u001b[1;33m\u001b[0m\u001b[0m\n",
      "\u001b[0;31mImportError\u001b[0m: The pandas.io.data module is moved to a separate package (pandas-datareader). After installing the pandas-datareader package (https://github.com/pandas-dev/pandas-datareader), you can change the import ``from pandas.io import data, wb`` to ``from pandas_datareader import data, wb``."
     ]
    }
   ],
   "source": [
    "from pandas.io import data, wb\n",
    "import scipy.stats as st\n",
    "from statsmodels.tsa import stattools as stt\n",
    "from statsmodels import tsa\n",
    "import statsmodels.api as smapi\n",
    "import datetime"
   ]
  },
  {
   "cell_type": "markdown",
   "metadata": {
    "heading_collapsed": true
   },
   "source": [
    "## Introduction"
   ]
  },
  {
   "cell_type": "markdown",
   "metadata": {},
   "source": []
  },
  {
   "cell_type": "code",
   "execution_count": null,
   "metadata": {
    "collapsed": true,
    "init_cell": true
   },
   "outputs": [],
   "source": [
    "def despine(axs):\n",
    "    # to be able to handle subplot grids\n",
    "    # it assumes the input is a list of \n",
    "    # axes instances, if it is not a list, \n",
    "    # it puts it in one\n",
    "    if type(axs) != type([]):\n",
    "        axs = [axs]\n",
    "    for ax in axs:\n",
    "        ax.yaxis.set_ticks_position('left')\n",
    "        ax.xaxis.set_ticks_position('bottom')\n",
    "        ax.spines['bottom'].set_position(('outward', 10))\n",
    "        ax.spines['left'].set_position(('outward', 10))"
   ]
  },
  {
   "cell_type": "code",
   "execution_count": null,
   "metadata": {
    "code_folding": [],
    "collapsed": false
   },
   "outputs": [],
   "source": [
    "def is_stationary(df, maxlag=14, autolag=None, regression='ct'):\n",
    "    \"\"\"Run the Augmented Dickey-Fuller test from statsmodels\n",
    "    and print output.\n",
    "    \"\"\"\n",
    "    outpt = stt.adfuller(df,maxlag=maxlag, autolag=autolag,\n",
    "                            regression=regression)\n",
    "    print('adf\\t\\t {0:.3f}'.format(outpt[0]))\n",
    "    print('p\\t\\t {0:.3g}'.format(outpt[1]))\n",
    "    print('crit. val.\\t 1%: {0:.3f}, \\\n",
    "5%: {1:.3f}, 10%: {2:.3f}'.format(outpt[4][\"1%\"], \n",
    "                                     outpt[4][\"5%\"], outpt[4][\"10%\"]))\n",
    "    print('stationary?\\t {0}'.format(['true', 'false']\\\n",
    "                                   [outpt[0]>outpt[4]['5%']]))\n",
    "    return outpt"
   ]
  },
  {
   "cell_type": "markdown",
   "metadata": {},
   "source": [
    "## example 1 - trends, cycles and seasons"
   ]
  },
  {
   "cell_type": "markdown",
   "metadata": {},
   "source": [
    "### the data"
   ]
  },
  {
   "cell_type": "code",
   "execution_count": null,
   "metadata": {
    "collapsed": true
   },
   "outputs": [],
   "source": [
    "%more data/mean-daily-temperature-fisher-river.csv"
   ]
  },
  {
   "cell_type": "code",
   "execution_count": null,
   "metadata": {
    "collapsed": true
   },
   "outputs": [],
   "source": [
    "dateparse = lambda d: pd.datetime.strptime(d, '%Y-%m-%d')"
   ]
  },
  {
   "cell_type": "code",
   "execution_count": null,
   "metadata": {
    "collapsed": false
   },
   "outputs": [],
   "source": [
    "temp = pd.read_csv('data/mean-daily-temperature-fisher-river.csv',\n",
    "                   parse_dates=['Date'], \n",
    "                   index_col='Date', \n",
    "                   date_parser=dateparse,\n",
    "                   )"
   ]
  },
  {
   "cell_type": "code",
   "execution_count": null,
   "metadata": {
    "collapsed": false
   },
   "outputs": [],
   "source": [
    "temp.info()"
   ]
  },
  {
   "cell_type": "code",
   "execution_count": null,
   "metadata": {
    "collapsed": false
   },
   "outputs": [],
   "source": [
    "temp.head()"
   ]
  },
  {
   "cell_type": "code",
   "execution_count": null,
   "metadata": {
    "collapsed": false
   },
   "outputs": [],
   "source": [
    "temp = temp.iloc[:,0]"
   ]
  },
  {
   "cell_type": "code",
   "execution_count": null,
   "metadata": {
    "collapsed": false
   },
   "outputs": [],
   "source": [
    "type(temp)"
   ]
  },
  {
   "cell_type": "code",
   "execution_count": null,
   "metadata": {
    "collapsed": false
   },
   "outputs": [],
   "source": [
    "plt.plot(temp)"
   ]
  },
  {
   "cell_type": "code",
   "execution_count": null,
   "metadata": {
    "collapsed": false
   },
   "outputs": [],
   "source": [
    "temp.head()"
   ]
  },
  {
   "cell_type": "code",
   "execution_count": null,
   "metadata": {
    "collapsed": false
   },
   "outputs": [],
   "source": [
    "temp.index"
   ]
  },
  {
   "cell_type": "code",
   "execution_count": null,
   "metadata": {
    "collapsed": false
   },
   "outputs": [],
   "source": [
    "temp.dtypes"
   ]
  },
  {
   "cell_type": "code",
   "execution_count": null,
   "metadata": {
    "collapsed": false
   },
   "outputs": [],
   "source": [
    "temp['1988-01']"
   ]
  },
  {
   "cell_type": "code",
   "execution_count": null,
   "metadata": {
    "collapsed": false
   },
   "outputs": [],
   "source": [
    "temp.plot(lw=1.5)\n",
    "despine(plt.gca())\n",
    "plt.gcf().autofmt_xdate()\n",
    "plt.ylabel('Temperature');"
   ]
  },
  {
   "cell_type": "code",
   "execution_count": null,
   "metadata": {
    "collapsed": false
   },
   "outputs": [],
   "source": [
    "temp.describe()"
   ]
  },
  {
   "cell_type": "markdown",
   "metadata": {},
   "source": [
    "### Slicing"
   ]
  },
  {
   "cell_type": "code",
   "execution_count": null,
   "metadata": {
    "collapsed": false,
    "scrolled": true
   },
   "outputs": [],
   "source": [
    "temp['1988'].plot(lw=1.5)\n",
    "despine(plt.gca())\n",
    "plt.gcf().autofmt_xdate()\n",
    "plt.minorticks_off()"
   ]
  },
  {
   "cell_type": "code",
   "execution_count": null,
   "metadata": {
    "collapsed": false
   },
   "outputs": [],
   "source": [
    "temp['1988-01'].plot(ls='dotted', marker='.')\n",
    "despine(plt.gca())\n",
    "plt.gcf().autofmt_xdate()\n",
    "plt.ylabel('Temperature');"
   ]
  },
  {
   "cell_type": "code",
   "execution_count": null,
   "metadata": {
    "collapsed": false
   },
   "outputs": [],
   "source": [
    "temp[temp < -25].head()"
   ]
  },
  {
   "cell_type": "code",
   "execution_count": null,
   "metadata": {
    "collapsed": false
   },
   "outputs": [],
   "source": [
    "temp['1988'].index"
   ]
  },
  {
   "cell_type": "code",
   "execution_count": null,
   "metadata": {
    "collapsed": false
   },
   "outputs": [],
   "source": [
    "kws = dict(lw=1.5, alpha=0.5)\n",
    "plt.plot(temp['1988'].values, **kws)\n",
    "plt.plot(temp['1989'].values, **kws)\n",
    "plt.plot(temp['1990'].values, **kws)\n",
    "plt.plot(temp['1991'].values, **kws)\n",
    "despine(plt.gca())\n",
    "plt.xlabel('Day of the year')\n",
    "plt.ylabel('Temperature')\n",
    "plt.title('Fisher River Mean Temperature');"
   ]
  },
  {
   "cell_type": "markdown",
   "metadata": {},
   "source": [
    "### Resampling, smooting, rolling means"
   ]
  },
  {
   "cell_type": "code",
   "execution_count": null,
   "metadata": {
    "collapsed": false
   },
   "outputs": [],
   "source": [
    "temp.resample('A').head()"
   ]
  },
  {
   "cell_type": "code",
   "execution_count": null,
   "metadata": {
    "collapsed": false
   },
   "outputs": [],
   "source": [
    "pd.__version__"
   ]
  },
  {
   "cell_type": "code",
   "execution_count": null,
   "metadata": {
    "collapsed": false
   },
   "outputs": [],
   "source": [
    "temp.plot(lw=1.5, color='SkyBlue')\n",
    "temp.resample('W').plot(lw=1, color='Green')\n",
    "temp.resample('AS', loffset='178 D').plot(color='k')\n",
    "plt.ylim(-50,30)\n",
    "plt.ylabel('Temperature')\n",
    "plt.title('Fisher River Mean Temperature')\n",
    "plt.legend(['Raw', 'Binned Weekly', 'Binned Yearly'], loc=3)\n",
    "despine(plt.gca());"
   ]
  },
  {
   "cell_type": "code",
   "execution_count": null,
   "metadata": {
    "code_folding": [],
    "collapsed": false
   },
   "outputs": [],
   "source": [
    "temp.plot(lw=1, alpha=0.7)\n",
    "temp.resample('M').plot(lw=1.5, zorder=32)\n",
    "temp.resample('6M').plot(lw=1.5, dashes=(5,2), \n",
    "                         zorder=32, color='Green')\n",
    "plt.gcf().autofmt_xdate()\n",
    "despine(plt.gca())\n",
    "plt.ylim(-50,30)\n",
    "plt.ylabel('Temperature')\n",
    "plt.title('Fisher River Temperature')\n",
    "plt.legend(['Raw', 'Binned 6 Months ', 'Binned 30 Days'], loc=3);"
   ]
  },
  {
   "cell_type": "code",
   "execution_count": null,
   "metadata": {
    "collapsed": false
   },
   "outputs": [],
   "source": [
    "temp.plot(lw=1, alpha=0.5)\n",
    "pd.rolling_mean(temp, center=True, window=60).plot(color='Green')\n",
    "plt.fill_between(temp.resample('M', label='left', \n",
    "                               loffset='15 D').index,\n",
    "                 y1=temp.resample('M', how='max').values,\n",
    "                 y2=temp.resample('M', how='min').values,\n",
    "                 color='0.85',\n",
    "                 )\n",
    "plt.gcf().autofmt_xdate()\n",
    "plt.ylabel('Temperature')\n",
    "despine(plt.gca())\n",
    "plt.title('Fisher River Temperature');"
   ]
  },
  {
   "cell_type": "code",
   "execution_count": null,
   "metadata": {
    "collapsed": false,
    "scrolled": true
   },
   "outputs": [],
   "source": [
    "pd.rolling_cov(temp, center=True, window=10).plot(color='Green',\n",
    "                                                 lw=1.5)\n",
    "despine(plt.gca());"
   ]
  },
  {
   "cell_type": "code",
   "execution_count": null,
   "metadata": {
    "collapsed": false
   },
   "outputs": [],
   "source": [
    "pd.rolling_var(temp, center=True, window=14).plot(color='Green',\n",
    "                                                 lw=1.5)\n",
    "despine(plt.gca());"
   ]
  },
  {
   "cell_type": "code",
   "execution_count": null,
   "metadata": {
    "collapsed": false
   },
   "outputs": [],
   "source": [
    "temp.index"
   ]
  },
  {
   "cell_type": "markdown",
   "metadata": {},
   "source": [
    "---"
   ]
  },
  {
   "cell_type": "markdown",
   "metadata": {},
   "source": [
    "this below is not going in book atm."
   ]
  },
  {
   "cell_type": "code",
   "execution_count": null,
   "metadata": {
    "collapsed": false
   },
   "outputs": [],
   "source": [
    "temp_residual = temp-pd.rolling_mean(temp, center=True, window=60)"
   ]
  },
  {
   "cell_type": "code",
   "execution_count": null,
   "metadata": {
    "collapsed": false
   },
   "outputs": [],
   "source": [
    "temp_residual.plot(lw=1.5, color='Coral')\n",
    "despine(plt.gca())\n",
    "plt.gcf().autofmt_xdate()\n",
    "plt.title('Residuals')\n",
    "plt.ylabel('Temperature');"
   ]
  },
  {
   "cell_type": "code",
   "execution_count": null,
   "metadata": {
    "collapsed": false
   },
   "outputs": [],
   "source": [
    "pd.rolling_var(temp_residual, center=True, window=14).plot(color='Green',\n",
    "                                                 lw=1.5)\n",
    "despine(plt.gca());"
   ]
  },
  {
   "cell_type": "markdown",
   "metadata": {},
   "source": [
    "## Stationarity, seasonality, trends etc"
   ]
  },
  {
   "cell_type": "code",
   "execution_count": null,
   "metadata": {
    "collapsed": true
   },
   "outputs": [],
   "source": [
    "def is_stationary(df, maxlag=14, autolag=None, regression='ct'):\n",
    "    \"\"\"Run the Augmented Dickey-Fuller test from statsmodels\n",
    "    and print output.\n",
    "    \"\"\"\n",
    "    outpt = stt.adfuller(df,maxlag=maxlag, autolag=autolag,\n",
    "                            regression=regression)\n",
    "    print('adf\\t\\t {0:.3f}'.format(outpt[0]))\n",
    "    print('p\\t\\t {0:.3g}'.format(outpt[1]))\n",
    "    print('crit. val.\\t 1%: {0:.3f}, \\\n",
    "5%: {1:.3f}, 10%: {2:.3f}'.format(outpt[4][\"1%\"], \n",
    "                                     outpt[4][\"5%\"], outpt[4][\"10%\"]))\n",
    "    print('stationary?\\t {0}'.format(['true', 'false']\\\n",
    "                                   [outpt[0]>outpt[4]['5%']]))\n",
    "    return outpt"
   ]
  },
  {
   "cell_type": "markdown",
   "metadata": {
    "collapsed": true
   },
   "source": [
    "### the data"
   ]
  },
  {
   "cell_type": "code",
   "execution_count": null,
   "metadata": {
    "collapsed": true
   },
   "outputs": [],
   "source": [
    "%more data/monthly-car-sales-in-quebec-1960.csv"
   ]
  },
  {
   "cell_type": "code",
   "execution_count": null,
   "metadata": {
    "collapsed": false
   },
   "outputs": [],
   "source": [
    "carsales = pd.read_csv('data/monthly-car-sales-in-quebec-1960.csv',\n",
    "                   parse_dates=['Month'], \n",
    "                   index_col='Month', \n",
    "                   date_parser=lambda d: pd.datetime.strptime(d, '%Y-%m'),\n",
    "                   )"
   ]
  },
  {
   "cell_type": "code",
   "execution_count": null,
   "metadata": {
    "collapsed": false
   },
   "outputs": [],
   "source": [
    "carsales.head()"
   ]
  },
  {
   "cell_type": "code",
   "execution_count": null,
   "metadata": {
    "collapsed": false
   },
   "outputs": [],
   "source": [
    "carsales = carsales.iloc[:,0]"
   ]
  },
  {
   "cell_type": "code",
   "execution_count": null,
   "metadata": {
    "collapsed": false
   },
   "outputs": [],
   "source": [
    "carsales.index"
   ]
  },
  {
   "cell_type": "code",
   "execution_count": null,
   "metadata": {
    "collapsed": false
   },
   "outputs": [],
   "source": [
    "plt.plot(carsales)\n",
    "despine(plt.gca())\n",
    "plt.gcf().autofmt_xdate()\n",
    "plt.xlabel('Year')\n",
    "plt.ylabel('Sales')\n",
    "plt.xlim('1960','1969')\n",
    "plt.title('Monthly Car Sales');"
   ]
  },
  {
   "cell_type": "markdown",
   "metadata": {},
   "source": [
    "### testing for stationarity"
   ]
  },
  {
   "cell_type": "code",
   "execution_count": null,
   "metadata": {
    "collapsed": false
   },
   "outputs": [],
   "source": [
    "is_stationary(carsales);"
   ]
  },
  {
   "cell_type": "markdown",
   "metadata": {},
   "source": [
    "### decomposing time series components"
   ]
  },
  {
   "cell_type": "markdown",
   "metadata": {},
   "source": [
    "#### with statsmodels.seasonal decompose"
   ]
  },
  {
   "cell_type": "code",
   "execution_count": null,
   "metadata": {
    "collapsed": false
   },
   "outputs": [],
   "source": [
    "from statsmodels.tsa.seasonal import seasonal_decompose\n",
    "carsales_decomp = seasonal_decompose(carsales, freq=12)"
   ]
  },
  {
   "cell_type": "code",
   "execution_count": null,
   "metadata": {
    "collapsed": false
   },
   "outputs": [],
   "source": [
    "carsales_trend = carsales_decomp.trend\n",
    "carsales_seasonal = carsales_decomp.seasonal\n",
    "carsales_residual = carsales_decomp.resid"
   ]
  },
  {
   "cell_type": "code",
   "execution_count": null,
   "metadata": {
    "collapsed": false
   },
   "outputs": [],
   "source": [
    "def change_plot(ax):\n",
    "    despine(ax)\n",
    "    ax.locator_params(axis='y', nbins=5)\n",
    "    plt.setp(ax.get_xticklabels(), rotation=90, ha='center')\n",
    "\n",
    "plt.figure(figsize=(9,4.5))\n",
    "\n",
    "plt.subplot(221)\n",
    "plt.plot(carsales, color='Green')\n",
    "change_plot(plt.gca())\n",
    "plt.title('Sales', color='Green')\n",
    "xl = plt.xlim()\n",
    "yl = plt.ylim()\n",
    "\n",
    "plt.subplot(222)\n",
    "plt.plot(carsales.index,carsales_trend, \n",
    "         color='Coral')\n",
    "change_plot(plt.gca())\n",
    "plt.title('Trend', color='Coral')\n",
    "plt.gca().yaxis.tick_right()\n",
    "plt.gca().yaxis.set_label_position(\"right\")\n",
    "plt.xlim(xl)\n",
    "plt.ylim(yl)\n",
    "\n",
    "plt.subplot(223)\n",
    "plt.plot(carsales.index,carsales_seasonal, \n",
    "         color='SteelBlue')\n",
    "change_plot(plt.gca())\n",
    "plt.gca().xaxis.tick_top()\n",
    "plt.gca().xaxis.set_major_formatter(plt.NullFormatter())\n",
    "plt.xlabel('Seasonality', color='SteelBlue', labelpad=-20)\n",
    "plt.xlim(xl)\n",
    "plt.ylim((-8000,8000))\n",
    "\n",
    "plt.subplot(224)\n",
    "plt.plot(carsales.index,carsales_residual,\n",
    "        color='IndianRed')\n",
    "change_plot(plt.gca())\n",
    "plt.xlim(xl)\n",
    "plt.gca().yaxis.tick_right()\n",
    "plt.gca().yaxis.set_label_position(\"right\")\n",
    "plt.gca().xaxis.tick_top()\n",
    "plt.gca().xaxis.set_major_formatter(plt.NullFormatter())\n",
    "plt.ylim((-8000,8000))\n",
    "plt.xlabel('Residuals', color='IndianRed', labelpad=-20)\n",
    "\n",
    "plt.tight_layout()\n",
    "plt.subplots_adjust(hspace=0.55)"
   ]
  },
  {
   "cell_type": "code",
   "execution_count": null,
   "metadata": {
    "code_folding": [],
    "collapsed": false
   },
   "outputs": [],
   "source": [
    "fig = plt.figure(figsize=(7,1.5) )\n",
    "\n",
    "ax1 = fig.add_axes([0.1,0.1,0.6,0.9])\n",
    "ax1.plot(carsales-carsales_trend, \n",
    "         color='Green', label='Detrended data')\n",
    "ax1.plot(carsales_seasonal, \n",
    "         color='Coral', label='Seasonal component')\n",
    "kwrds=dict(lw=1.5, color='0.6', alpha=0.8)\n",
    "d1 = pd.datetime(1960,9,1)\n",
    "dd = pd.Timedelta('365 Days')\n",
    "[ax1.axvline(d1+dd*i, dashes=(3,5),**kwrds) for i in range(9)]\n",
    "d2 = pd.datetime(1960,5,1)\n",
    "[ax1.axvline(d2+dd*i, dashes=(2,2),**kwrds) for i in range(9)]\n",
    "ax1.set_ylim((-12000,10000))\n",
    "\n",
    "ax1.locator_params(axis='y', nbins=4)\n",
    "ax1.set_xlabel('Year')\n",
    "ax1.set_title('Sales Seasonality')\n",
    "ax1.set_ylabel('Sales')\n",
    "ax1.legend(loc=0, ncol=2, frameon=True);\n",
    "\n",
    "ax2 = fig.add_axes([0.8,0.1,0.4,0.9])\n",
    "ax2.plot(carsales_seasonal['1960':'1960'], \n",
    "         color='Coral', label='Seasonal component')\n",
    "ax2.set_ylim((-12000,10000))\n",
    "[ax2.axvline(d1+dd*i, dashes=(3,5),**kwrds) for i in range(1)]\n",
    "d2 = pd.datetime(1960,5,1)\n",
    "[ax2.axvline(d2+dd*i, dashes=(2,2),**kwrds) for i in range(1)]\n",
    "despine([ax1, ax2])\n",
    "\n",
    "import matplotlib.dates as mpldates\n",
    "yrsfmt = mpldates.DateFormatter('%b')\n",
    "ax2.xaxis.set_major_formatter(yrsfmt)\n",
    "labels = ax2.get_xticklabels()\n",
    "plt.setp(labels, rotation=90);"
   ]
  },
  {
   "cell_type": "code",
   "execution_count": null,
   "metadata": {
    "collapsed": true
   },
   "outputs": [],
   "source": [
    "carsales_seasonal_component = carsales_seasonal['1960'].values"
   ]
  },
  {
   "cell_type": "code",
   "execution_count": null,
   "metadata": {
    "collapsed": true
   },
   "outputs": [],
   "source": [
    "carsales_residual.dropna(inplace=True)"
   ]
  },
  {
   "cell_type": "code",
   "execution_count": null,
   "metadata": {
    "collapsed": false
   },
   "outputs": [],
   "source": [
    "is_stationary(carsales_residual);"
   ]
  },
  {
   "cell_type": "code",
   "execution_count": null,
   "metadata": {
    "collapsed": false
   },
   "outputs": [],
   "source": [
    "loc, shape = st.norm.fit(carsales_residual)\n",
    "x=range(-3000,3000)\n",
    "y = st.norm.pdf(x, loc, shape)\n",
    "n, bins, patches = plt.hist(carsales_residual, bins=20, normed=True)\n",
    "plt.plot(x,y, color='Coral')\n",
    "despine(plt.gca())\n",
    "plt.title('Residuals')\n",
    "plt.xlabel('Value'); plt.ylabel('Counts');"
   ]
  },
  {
   "cell_type": "code",
   "execution_count": null,
   "metadata": {
    "collapsed": false
   },
   "outputs": [],
   "source": [
    "(osm,osr), (slope, intercept, r) = st.probplot(carsales_residual, dist='norm', fit=True)\n",
    "line_func = lambda x: slope*x + intercept\n",
    "plt.plot(osm,osr,\n",
    "         '.', label='Data', color='Coral')\n",
    "plt.plot(osm, line_func(osm), \n",
    "         color='SteelBlue',\n",
    "         dashes=(20,5), label='Fit')\n",
    "plt.xlabel('Quantiles'); plt.ylabel('Ordered Values')\n",
    "despine(plt.gca())\n",
    "plt.text(1, -14, 'R$^2$={0:.3f}'.format(r))\n",
    "plt.title('Probability Plot')\n",
    "plt.legend(loc='best', numpoints=4, handlelength=4);"
   ]
  },
  {
   "cell_type": "markdown",
   "metadata": {},
   "source": [
    "#### with differencing"
   ]
  },
  {
   "cell_type": "code",
   "execution_count": null,
   "metadata": {
    "collapsed": false
   },
   "outputs": [],
   "source": [
    "carsales.diff(1).plot(label='1 period', title='Car sales')\n",
    "plt.legend(loc='best')\n",
    "despine(plt.gca())"
   ]
  },
  {
   "cell_type": "code",
   "execution_count": null,
   "metadata": {
    "collapsed": false
   },
   "outputs": [],
   "source": [
    "is_stationary(carsales.diff(1).dropna());"
   ]
  },
  {
   "cell_type": "code",
   "execution_count": null,
   "metadata": {
    "collapsed": false
   },
   "outputs": [],
   "source": [
    "carsales.diff(1).plot(label='1 period', title='Car sales',\n",
    "                      dashes=(15,5))\n",
    "carsales.diff(1).diff(12).plot(label='1 and 12 period(s)',\n",
    "                               color='Coral')\n",
    "plt.legend(loc='best')\n",
    "despine(plt.gca())\n",
    "plt.xlabel('Date')"
   ]
  },
  {
   "cell_type": "code",
   "execution_count": null,
   "metadata": {
    "collapsed": false
   },
   "outputs": [],
   "source": [
    "is_stationary(carsales.diff(1).diff(12).dropna());"
   ]
  },
  {
   "cell_type": "markdown",
   "metadata": {},
   "source": [
    "## Time series models"
   ]
  },
  {
   "cell_type": "code",
   "execution_count": null,
   "metadata": {
    "collapsed": true
   },
   "outputs": [],
   "source": [
    "from statsmodels.tsa.arima_model import ARIMA"
   ]
  },
  {
   "cell_type": "code",
   "execution_count": null,
   "metadata": {
    "collapsed": false
   },
   "outputs": [],
   "source": [
    "is_stationary((carsales-carsales_seasonal).diff(1).dropna());"
   ]
  },
  {
   "cell_type": "code",
   "execution_count": null,
   "metadata": {
    "collapsed": true
   },
   "outputs": [],
   "source": [
    "ts = carsales-carsales_seasonal\n",
    "tsdiff = ts.diff(1)"
   ]
  },
  {
   "cell_type": "code",
   "execution_count": null,
   "metadata": {
    "collapsed": false
   },
   "outputs": [],
   "source": [
    "plt.plot(tsdiff)"
   ]
  },
  {
   "cell_type": "markdown",
   "metadata": {},
   "source": [
    "### Autoregressive model - AR"
   ]
  },
  {
   "cell_type": "code",
   "execution_count": null,
   "metadata": {
    "collapsed": false
   },
   "outputs": [],
   "source": [
    "model = ARIMA(ts, order=(1, 1, 0))  \n",
    "arres = model.fit()"
   ]
  },
  {
   "cell_type": "code",
   "execution_count": null,
   "metadata": {
    "collapsed": false
   },
   "outputs": [],
   "source": [
    "arres.plot_predict(start='1961-12-01', end='1970-01-01', alpha=0.10)\n",
    "plt.legend(loc='upper left')\n",
    "print(arres.aic, arres.bic)"
   ]
  },
  {
   "cell_type": "raw",
   "metadata": {},
   "source": []
  },
  {
   "cell_type": "code",
   "execution_count": null,
   "metadata": {
    "collapsed": true
   },
   "outputs": [],
   "source": []
  },
  {
   "cell_type": "markdown",
   "metadata": {},
   "source": [
    "### Moving average model - MA"
   ]
  },
  {
   "cell_type": "code",
   "execution_count": null,
   "metadata": {
    "collapsed": true
   },
   "outputs": [],
   "source": [
    "model = ARIMA(ts, order=(0, 1, 1))  \n",
    "mares = model.fit() "
   ]
  },
  {
   "cell_type": "code",
   "execution_count": null,
   "metadata": {
    "collapsed": false
   },
   "outputs": [],
   "source": [
    "mares.plot_predict(start='1961-12-01', end='1970-01-01', alpha=0.10)\n",
    "plt.legend(loc='upper left');\n",
    "print(mares.aic, mares.bic)"
   ]
  },
  {
   "cell_type": "markdown",
   "metadata": {},
   "source": [
    "### selecting p and q"
   ]
  },
  {
   "cell_type": "code",
   "execution_count": null,
   "metadata": {
    "collapsed": false
   },
   "outputs": [],
   "source": [
    "tsa.stattools.arma_order_select_ic(tsdiff.dropna(), max_ar=2, max_ma=2, ic='aic')"
   ]
  },
  {
   "cell_type": "code",
   "execution_count": null,
   "metadata": {
    "collapsed": true
   },
   "outputs": [],
   "source": [
    "acf = stt.acf(tsdiff.dropna(), nlags=10)\n",
    "pacf = stt.pacf(tsdiff.dropna(), nlags=10)"
   ]
  },
  {
   "cell_type": "code",
   "execution_count": null,
   "metadata": {
    "collapsed": false
   },
   "outputs": [],
   "source": [
    "fig, (ax1, ax2) = plt.subplots(1,2, figsize=(8,2))\n",
    "ax1.axhline(y=0,color='gray')\n",
    "ax1.axhline(y=-1.96/np.sqrt(len(ts)),linestyle='--',color='gray')\n",
    "ax1.axhline(y=1.96/np.sqrt(len(ts)),linestyle='--',color='gray')\n",
    "ax1.axvline(x=1,ls=':',color='gray')\n",
    "ax1.plot(acf)\n",
    "ax1.set_title('ACF')\n",
    "\n",
    "ax2.axhline(y=0,color='gray')\n",
    "ax2.axhline(y=-1.96/np.sqrt(len(ts)),linestyle='--',color='gray')\n",
    "ax2.axhline(y=1.96/np.sqrt(len(ts)),linestyle='--',color='gray')\n",
    "ax2.axvline(x=1,ls=':',color='gray')\n",
    "ax2.plot(pacf)\n",
    "ax2.set_title('PACF')\n",
    "\n",
    "despine([ax1,ax2])"
   ]
  },
  {
   "cell_type": "markdown",
   "metadata": {},
   "source": [
    "### Autoregressive Integrated Moving Average - ARIMA"
   ]
  },
  {
   "cell_type": "code",
   "execution_count": null,
   "metadata": {
    "collapsed": false
   },
   "outputs": [],
   "source": [
    "model = ARIMA(ts, order=(1, 0, 1))  \n",
    "arimares = model.fit()"
   ]
  },
  {
   "cell_type": "code",
   "execution_count": null,
   "metadata": {
    "collapsed": false
   },
   "outputs": [],
   "source": [
    "arimares.plot_predict(start='1961-12-01', end='1970-01-01', alpha=0.10)\n",
    "plt.legend(loc='upper left');\n",
    "print(arimares.aic, arimares.bic)"
   ]
  },
  {
   "cell_type": "code",
   "execution_count": 74,
   "metadata": {
    "collapsed": false
   },
   "outputs": [
    {
     "data": {
      "text/plain": [
       "(array([ 18238.56843584]),\n",
       " array([ 1388.79665349]),\n",
       " array([[ 15516.57701316,  20960.55985853]]))"
      ]
     },
     "execution_count": 74,
     "metadata": {},
     "output_type": "execute_result"
    }
   ],
   "source": [
    "arimares.forecast()"
   ]
  },
  {
   "cell_type": "code",
   "execution_count": 76,
   "metadata": {
    "collapsed": false
   },
   "outputs": [
    {
     "data": {
      "text/plain": [
       "tuple"
      ]
     },
     "execution_count": 76,
     "metadata": {},
     "output_type": "execute_result"
    }
   ],
   "source": [
    "type(arimares.forecast())"
   ]
  },
  {
   "cell_type": "code",
   "execution_count": 83,
   "metadata": {
    "collapsed": false
   },
   "outputs": [
    {
     "name": "stderr",
     "output_type": "stream",
     "text": [
      "/Users/santiago/anaconda/lib/python3.5/site-packages/statsmodels/base/data.py:503: FutureWarning: TimeSeries is deprecated. Please use Series\n",
      "  return TimeSeries(result, index=self.predict_dates)\n"
     ]
    },
    {
     "data": {
      "text/plain": [
       "1968-12-01    18882.947811\n",
       "Freq: MS, dtype: float64"
      ]
     },
     "execution_count": 83,
     "metadata": {},
     "output_type": "execute_result"
    }
   ],
   "source": [
    "arimares.predict(start=107)"
   ]
  },
  {
   "cell_type": "code",
   "execution_count": 81,
   "metadata": {
    "collapsed": false
   },
   "outputs": [
    {
     "data": {
      "text/plain": [
       "108"
      ]
     },
     "execution_count": 81,
     "metadata": {},
     "output_type": "execute_result"
    }
   ],
   "source": [
    "len(ts)"
   ]
  },
  {
   "cell_type": "code",
   "execution_count": null,
   "metadata": {
    "collapsed": true
   },
   "outputs": [],
   "source": []
  }
 ],
 "metadata": {
  "anaconda-cloud": {},
  "kernelspec": {
   "display_name": "Python [default]",
   "language": "python",
   "name": "python3"
  },
  "language_info": {
   "codemirror_mode": {
    "name": "ipython",
    "version": 3
   },
   "file_extension": ".py",
   "mimetype": "text/x-python",
   "name": "python",
   "nbconvert_exporter": "python",
   "pygments_lexer": "ipython3",
   "version": "3.5.2"
  },
  "toc": {
   "toc_cell": false,
   "toc_number_sections": true,
   "toc_section_display": "none",
   "toc_threshold": 4,
   "toc_window_display": false
  }
 },
 "nbformat": 4,
 "nbformat_minor": 0
}
